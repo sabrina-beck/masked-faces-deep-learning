{
  "nbformat": 4,
  "nbformat_minor": 0,
  "metadata": {
    "colab": {
      "name": "2020s2_mo434_projeto_final.ipynb",
      "provenance": [],
      "collapsed_sections": [],
      "toc_visible": true,
      "machine_shape": "hm",
      "include_colab_link": true
    },
    "kernelspec": {
      "name": "python3",
      "display_name": "Python 3"
    },
    "accelerator": "GPU"
  },
  "cells": [
    {
      "cell_type": "markdown",
      "metadata": {
        "id": "view-in-github",
        "colab_type": "text"
      },
      "source": [
        "<a href=\"https://colab.research.google.com/github/sabrina-beck/masked-faces-deep-learning/blob/main/2020s2_mo434_projeto_final.ipynb\" target=\"_parent\"><img src=\"https://colab.research.google.com/assets/colab-badge.svg\" alt=\"Open In Colab\"/></a>"
      ]
    },
    {
      "cell_type": "markdown",
      "metadata": {
        "id": "9AWozgNfK-cK"
      },
      "source": [
        "# Projeto Final\n",
        "\n",
        "Universidade Estadual de Campinas (UNICAMP), Instituto de Computação (IC)\n",
        "\n",
        "Profa. Sandra Avila, 2020s2"
      ]
    },
    {
      "cell_type": "code",
      "metadata": {
        "colab": {
          "base_uri": "https://localhost:8080/"
        },
        "id": "YabfLSItLH4o",
        "outputId": "ebbd985c-d0eb-437c-d69d-e5ed8bf7066d"
      },
      "source": [
        "print('173334: ' + 'Luiz Henrique Simioni Machado')\n",
        "print('121192: ' + 'Mariane Previde')\n",
        "print('157240: ' + 'Sabrina Beck Angelini')"
      ],
      "execution_count": null,
      "outputs": [
        {
          "output_type": "stream",
          "text": [
            "173334: Luiz Henrique Simioni Machado\n",
            "121192: Mariane Previde\n",
            "157240: Sabrina Beck Angelini\n"
          ],
          "name": "stdout"
        }
      ]
    },
    {
      "cell_type": "code",
      "metadata": {
        "colab": {
          "base_uri": "https://localhost:8080/"
        },
        "id": "xBD1IZboVa-r",
        "outputId": "1a207d4b-a009-4959-872e-4a32b8b2df06"
      },
      "source": [
        "# Verificar qual GPU to usando\n",
        "gpu_info = !nvidia-smi\n",
        "gpu_info = '\\n'.join(gpu_info)\n",
        "if gpu_info.find('failed') >= 0:\n",
        "  print('Select the Runtime > \"Change runtime type\" menu to enable a GPU accelerator, ')\n",
        "  print('and then re-execute this cell.')\n",
        "else:\n",
        "  print(gpu_info)"
      ],
      "execution_count": null,
      "outputs": [
        {
          "output_type": "stream",
          "text": [
            "Sun Dec 13 00:25:31 2020       \n",
            "+-----------------------------------------------------------------------------+\n",
            "| NVIDIA-SMI 455.45.01    Driver Version: 418.67       CUDA Version: 10.1     |\n",
            "|-------------------------------+----------------------+----------------------+\n",
            "| GPU  Name        Persistence-M| Bus-Id        Disp.A | Volatile Uncorr. ECC |\n",
            "| Fan  Temp  Perf  Pwr:Usage/Cap|         Memory-Usage | GPU-Util  Compute M. |\n",
            "|                               |                      |               MIG M. |\n",
            "|===============================+======================+======================|\n",
            "|   0  Tesla V100-SXM2...  Off  | 00000000:00:04.0 Off |                    0 |\n",
            "| N/A   36C    P0    26W / 300W |      0MiB / 16130MiB |      0%      Default |\n",
            "|                               |                      |                 ERR! |\n",
            "+-------------------------------+----------------------+----------------------+\n",
            "                                                                               \n",
            "+-----------------------------------------------------------------------------+\n",
            "| Processes:                                                                  |\n",
            "|  GPU   GI   CI        PID   Type   Process name                  GPU Memory |\n",
            "|        ID   ID                                                   Usage      |\n",
            "|=============================================================================|\n",
            "|  No running processes found                                                 |\n",
            "+-----------------------------------------------------------------------------+\n"
          ],
          "name": "stdout"
        }
      ]
    },
    {
      "cell_type": "code",
      "metadata": {
        "colab": {
          "base_uri": "https://localhost:8080/"
        },
        "id": "gE-6h7Z9WBsr",
        "outputId": "efee1f3a-10d6-4bb4-8550-cfc8872b0ad1"
      },
      "source": [
        "# Verificar quanta memória\n",
        "from psutil import virtual_memory\n",
        "ram_gb = virtual_memory().total / 1e9\n",
        "print('Your runtime has {:.1f} gigabytes of available RAM\\n'.format(ram_gb))\n",
        "\n",
        "if ram_gb < 20:\n",
        "  print('To enable a high-RAM runtime, select the Runtime > \"Change runtime type\"')\n",
        "  print('menu, and then select High-RAM in the Runtime shape dropdown. Then, ')\n",
        "  print('re-execute this cell.')\n",
        "else:\n",
        "  print('You are using a high-RAM runtime!')"
      ],
      "execution_count": null,
      "outputs": [
        {
          "output_type": "stream",
          "text": [
            "Your runtime has 27.4 gigabytes of available RAM\n",
            "\n",
            "You are using a high-RAM runtime!\n"
          ],
          "name": "stdout"
        }
      ]
    },
    {
      "cell_type": "code",
      "metadata": {
        "id": "sd6Wim2Fam4y"
      },
      "source": [
        "# Calcular o tempo total de execução\n",
        "import time\n",
        "start_time = time.time()"
      ],
      "execution_count": null,
      "outputs": []
    },
    {
      "cell_type": "markdown",
      "metadata": {
        "id": "u_cDGdrKLayZ"
      },
      "source": [
        "# Tema: Detecção de máscaras faciais\n",
        "Com a pandemia do Covid-19 surgiu a necessidade das pessoas utilizarem máscaras para diminuir o contágio por Sars-CoV-2. A máscara vem cada vez mais se provando muito eficaz na diminuição do número de contágios ou da carga viral na transmissão, ajudando a diminuir casos de contaminação e internações de modo a evitar a sobrecarga dos hospitais e falecimentos. \n",
        "\n",
        "A ideia é desenvolver uma rede neural que consiga detectar em espaços públicos pessoas que estejam sem máscara ~~**ou usando a máscara incorretamente**~~. Com isso, agentes públicos poderiam abordar essas pessoas e fornecer uma máscara ~~**ou explicar o jeito correto de utilizá-la**~~.\n",
        "\n",
        "**~~Nós pretendemos mesclar alguns datasets de modo a obter um conjunto maior para o treinamento~~. Nosso dataset final deverá ter ~~3~~ 2 classes:**\n",
        "* Pessoas com máscaras\n",
        "* Pessoas sem máscaras \n",
        "* ~~**Pessoas utilizando a máscara de forma errada**~~"
      ]
    },
    {
      "cell_type": "code",
      "metadata": {
        "colab": {
          "base_uri": "https://localhost:8080/"
        },
        "id": "uBPJ55VZzdd5",
        "outputId": "3cad433d-f4ce-4d0e-97fc-087827f36047"
      },
      "source": [
        "# Montar o Google Drive para salvar os modelos no final\n",
        "from google.colab import drive\n",
        "drive.mount('/content/drive')"
      ],
      "execution_count": null,
      "outputs": [
        {
          "output_type": "stream",
          "text": [
            "Mounted at /content/drive\n"
          ],
          "name": "stdout"
        }
      ]
    },
    {
      "cell_type": "markdown",
      "metadata": {
        "id": "NPGrYhC0GgSx"
      },
      "source": [
        "# Base de Dados\n",
        "\n",
        "A base de dados utilizada é a [Real World Masked Face Dataset](https://github.com/X-zhangyang/Real-World-Masked-Face-Dataset), optamos pela primeira opção de [download](https://github.com/X-zhangyang/Real-World-Masked-Face-Dataset) em que as amostras de imagens foram limpas e rotuladas contendo:\n",
        "\n",
        "\n",
        "*   5000 faces com máscara de 525 pessoas\n",
        "*   90000 faces sem máscara\n",
        "\n",
        "Subimos uma cópia da base de dados feita no dia 23-11-2020 no Google Drive [aqui](https://drive.google.com/file/d/1UD8nf8CfuEycJwt2mBjfT9ElB2QoOMlx/view?usp=sharing)."
      ]
    },
    {
      "cell_type": "code",
      "metadata": {
        "id": "-9XzT2ZtzQdz"
      },
      "source": [
        "!pip install PyDrive &> /dev/null"
      ],
      "execution_count": null,
      "outputs": []
    },
    {
      "cell_type": "code",
      "metadata": {
        "id": "cwu0LqLAFI9S"
      },
      "source": [
        "from pydrive.auth import GoogleAuth\n",
        "from pydrive.drive import GoogleDrive\n",
        "from google.colab import auth\n",
        "from oauth2client.client import GoogleCredentials\n",
        "import io\n",
        "import zipfile\n",
        "\n",
        "# Authenticate and create the PyDrive client.\n",
        "# This only needs to be done once per notebook.\n",
        "auth.authenticate_user()\n",
        "gauth = GoogleAuth()\n",
        "gauth.credentials = GoogleCredentials.get_application_default()\n",
        "drive = GoogleDrive(gauth)\n",
        "\n",
        "# Download the zipped dataset based on its file ID on Drive.\n",
        "file_id = '1UD8nf8CfuEycJwt2mBjfT9ElB2QoOMlx' #-- Updated File ID for my zip\n",
        "downloaded = drive.CreateFile({'id': file_id})\n",
        "downloaded.GetContentFile('RMFD.zip')\n",
        "!unzip -q RMFD.zip"
      ],
      "execution_count": null,
      "outputs": []
    },
    {
      "cell_type": "markdown",
      "metadata": {
        "id": "xcoGlumXHMI6"
      },
      "source": [
        "## Organização da Base de Dados\n",
        "\n",
        "A base está organizada com os seguintes subdiretórios:\n",
        "* `AFDB_face_dataset/`: imagens de pessoas sem máscara\n",
        "* `AFDB_masked_face_dataset/`: imagens de pessoas com máscara\n",
        "\n",
        "Cada subdiretório é composto por outros subdiretórios, cada um identificando as fotos de cada uma das 525 pessoas.\n",
        "\n",
        "Devido à essa organização tivemos que fazer uma reorganização da base para deixar todas as imagens diretamente no subdiretório de sua classe, uma vez que estamos interessados somente na classificação `face` x `masked face`."
      ]
    },
    {
      "cell_type": "code",
      "metadata": {
        "id": "yBWKsniTZ-nn"
      },
      "source": [
        "from pathlib import Path\n",
        "\n",
        "basePath = Path('self-built-masked-face-recognition-dataset')\n",
        "maskPath = basePath/'AFDB_masked_face_dataset'\n",
        "nonMaskPath = basePath/'AFDB_face_dataset'"
      ],
      "execution_count": null,
      "outputs": []
    },
    {
      "cell_type": "code",
      "metadata": {
        "colab": {
          "base_uri": "https://localhost:8080/"
        },
        "id": "fSCoWQPOJ7FZ",
        "outputId": "e263d679-9811-45b1-de35-aac2f2f3b966"
      },
      "source": [
        "from pathlib import Path\n",
        "from tqdm import tqdm\n",
        "from os import listdir, rmdir, path\n",
        "from shutil import move\n",
        "import ntpath\n",
        "\n",
        "def flattenClassDir(classDir, classDesc):\n",
        "  classDirList = list(classDir.iterdir())\n",
        "  count = 0\n",
        "  for subDirectory in tqdm(classDirList, desc=classDesc):\n",
        "    for imgPath in subDirectory.iterdir():\n",
        "      count += 1\n",
        "      filename = ntpath.basename(imgPath)\n",
        "      move(imgPath, path.join(classDir, '%s.jpg' % count))\n",
        "    rmdir(subDirectory)\n",
        "\n",
        "flattenClassDir(nonMaskPath, 'non mask photos')\n",
        "flattenClassDir(maskPath, 'mask photos')"
      ],
      "execution_count": null,
      "outputs": [
        {
          "output_type": "stream",
          "text": [
            "non mask photos: 100%|██████████| 460/460 [00:03<00:00, 134.91it/s]\n",
            "mask photos: 100%|██████████| 525/525 [00:00<00:00, 5058.79it/s]\n"
          ],
          "name": "stderr"
        }
      ]
    },
    {
      "cell_type": "markdown",
      "metadata": {
        "id": "DWniodrMd7es"
      },
      "source": [
        "## A Base está Balanceada?"
      ]
    },
    {
      "cell_type": "code",
      "metadata": {
        "colab": {
          "base_uri": "https://localhost:8080/"
        },
        "id": "T6FG4nu_Rav9",
        "outputId": "3d119e70-0428-44c7-ada8-c4432c258856"
      },
      "source": [
        "mask_image_count = len(list(maskPath.glob('*.jpg')))\n",
        "non_mask_image_count = len(list(nonMaskPath.glob('*.jpg')))\n",
        "image_count = mask_image_count + non_mask_image_count\n",
        "\n",
        "print('Masked photos: ', mask_image_count, ' (', '%.2f' % (mask_image_count / image_count * 100), '%)')\n",
        "print('Non masked photos: ', non_mask_image_count, ' (', '%.2f' % (non_mask_image_count / image_count * 100), '%)')"
      ],
      "execution_count": null,
      "outputs": [
        {
          "output_type": "stream",
          "text": [
            "Masked photos:  2203  ( 2.38 %)\n",
            "Non masked photos:  90468  ( 97.62 %)\n"
          ],
          "name": "stdout"
        }
      ]
    },
    {
      "cell_type": "code",
      "metadata": {
        "id": "ZJOI-PLceark",
        "colab": {
          "base_uri": "https://localhost:8080/"
        },
        "outputId": "6b7428f8-337d-4db3-f6a2-3b62157e4539"
      },
      "source": [
        "# Scaling by total/2 helps keep the loss to a similar magnitude.\n",
        "# The sum of the weights of all examples stays the same.\n",
        "weight_for_mask = (1 / mask_image_count)*(image_count)/2.0 \n",
        "weight_for_non_mask = (1 / non_mask_image_count)*(image_count)/2.0 \n",
        "\n",
        "class_weights = {0: weight_for_mask, 1: weight_for_non_mask}\n",
        "\n",
        "print('Weight for class 0 (non mask): {:.2f}'.format(weight_for_mask))\n",
        "print('Weight for class 1 (mask): {:.2f}'.format(weight_for_non_mask))"
      ],
      "execution_count": null,
      "outputs": [
        {
          "output_type": "stream",
          "text": [
            "Weight for class 0 (non mask): 21.03\n",
            "Weight for class 1 (mask): 0.51\n"
          ],
          "name": "stdout"
        }
      ]
    },
    {
      "cell_type": "markdown",
      "metadata": {
        "id": "kIH_j_uAmZZW"
      },
      "source": [
        "## Separando em treino e teste"
      ]
    },
    {
      "cell_type": "code",
      "metadata": {
        "colab": {
          "base_uri": "https://localhost:8080/"
        },
        "id": "iRdxczlAdcSq",
        "outputId": "8bddcaff-df2b-4ef1-d5bf-ade730666544"
      },
      "source": [
        "import os, shutil\n",
        "import math\n",
        "\n",
        "# Path to the directory where the original dataset was uncompressed\n",
        "original_dataset_dir = basePath\n",
        "\n",
        "# Directory where you’ll store your  dataset\n",
        "base_dir = 'masked_vs_no_masked'\n",
        "\n",
        "percent_to_train = 0.8;\n",
        "\n",
        "try:\n",
        "    os.stat(base_dir)\n",
        "except:\n",
        "    os.mkdir(base_dir)  \n",
        "\n",
        "# Directory for the training splits\n",
        "train_dir = os.path.join(base_dir, 'train')\n",
        "try:\n",
        "    os.stat(train_dir)\n",
        "except:\n",
        "    os.mkdir(train_dir)  \n",
        "\n",
        "# Directory for the test splits\n",
        "test_dir = os.path.join(base_dir, 'test')\n",
        "try:\n",
        "    os.stat(test_dir)\n",
        "except:\n",
        "    os.mkdir(test_dir)  \n",
        "\n",
        "# Directory with training no masked pictures\n",
        "train_no_masked_dir = os.path.join(train_dir, 'no_masked')\n",
        "try:\n",
        "    os.stat(train_no_masked_dir)\n",
        "except:\n",
        "    os.mkdir(train_no_masked_dir)  \n",
        "\n",
        "# Directory with training masked pictures\n",
        "train_masked_dir = os.path.join(train_dir, 'masked')\n",
        "try:\n",
        "    os.stat(train_masked_dir)\n",
        "except:\n",
        "    os.mkdir(train_masked_dir) \n",
        "\n",
        "# Directory with Test no maskedPictures\n",
        "test_no_masked_dir = os.path.join(test_dir, 'no_masked')\n",
        "try:\n",
        "    os.stat(test_no_masked_dir)\n",
        "except:\n",
        "    os.mkdir(test_no_masked_dir) \n",
        "\n",
        "# Directory with Test masked Pictures\n",
        "test_masked_dir = os.path.join(test_dir, 'masked')\n",
        "try:\n",
        "    os.stat(test_masked_dir)\n",
        "except:\n",
        "    os.mkdir(test_masked_dir) \n",
        "\n",
        "train_non_mask_image_count = math.ceil(non_mask_image_count*percent_to_train);\n",
        "\n",
        "# Copies the first 80% non masked images to train_no_masked_dir. \n",
        "fnames = ['{}.jpg'.format(i) for i in range(1, train_non_mask_image_count+1)]\n",
        "for fname in fnames:\n",
        "    src = os.path.join(nonMaskPath, fname)\n",
        "    dst = os.path.join(train_no_masked_dir, fname)\n",
        "    shutil.copyfile(src, dst)\n",
        "\n",
        "# Copies the next 20% no maskedimages to test_no_masked_dir\n",
        "fnames = ['{}.jpg'.format(i) for i in range(train_non_mask_image_count + 2, non_mask_image_count+1)]\n",
        "for fname in fnames:\n",
        "    src = os.path.join(nonMaskPath, fname)\n",
        "    dst = os.path.join(test_no_masked_dir, fname)\n",
        "    shutil.copyfile(src, dst)\n",
        "\n",
        "train_mask_image_count = math.ceil(mask_image_count*percent_to_train);\n",
        "# Copies the first 80% masked images to train_masked_dir\n",
        "fnames = ['{}.jpg'.format(i) for i in range(1, train_mask_image_count+1)]\n",
        "for fname in fnames:\n",
        "    src = os.path.join(maskPath, fname)\n",
        "    dst = os.path.join(train_masked_dir, fname)\n",
        "    shutil.copyfile(src, dst)\n",
        "\n",
        "# Copies the next 20% masked images to test_masked_dir\n",
        "fnames = ['{}.jpg'.format(i) for i in range(train_mask_image_count+2, mask_image_count+1)]\n",
        "for fname in fnames:\n",
        "    src = os.path.join(maskPath, fname)\n",
        "    dst = os.path.join(test_masked_dir, fname)\n",
        "    shutil.copyfile(src, dst)\n",
        "\n",
        "# Sanity Check to ensure that Train and Test Folders have the expected number of images\n",
        "\n",
        "print('Number of no masked Images in Training Directory is {}'.format(len(os.listdir(train_no_masked_dir))))\n",
        "print('Number of masked Images in Training Directory is {}'.format(len(os.listdir(train_masked_dir))))\n",
        "print('Number of no masked Images in Testing Directory is {}'.format(len(os.listdir(test_no_masked_dir))))\n",
        "print('Number of masked Images in Testing Directory is {}'.format(len(os.listdir(test_masked_dir))))"
      ],
      "execution_count": null,
      "outputs": [
        {
          "output_type": "stream",
          "text": [
            "Number of no masked Images in Training Directory is 72375\n",
            "Number of masked Images in Training Directory is 1763\n",
            "Number of no masked Images in Testing Directory is 18092\n",
            "Number of masked Images in Testing Directory is 439\n"
          ],
          "name": "stdout"
        }
      ]
    },
    {
      "cell_type": "markdown",
      "metadata": {
        "id": "kNrX1L88bWLJ"
      },
      "source": [
        "## Carregando a Base de dados"
      ]
    },
    {
      "cell_type": "code",
      "metadata": {
        "id": "ODilp4aXbVF0"
      },
      "source": [
        "batch_size = 64\n",
        "img_width = 299\n",
        "img_height = 299\n",
        "input_shape = (img_width, img_height, 3)"
      ],
      "execution_count": null,
      "outputs": []
    },
    {
      "cell_type": "code",
      "metadata": {
        "id": "Wk93IRDOaFvP"
      },
      "source": [
        "from tensorflow.keras.preprocessing.image import ImageDataGenerator\n",
        "\n",
        "def load_ds(preprocess_function):\n",
        "  datagen = ImageDataGenerator(rescale=1./255,\n",
        "            #  rotation_range=40,\n",
        "            #  width_shift_range= 0.1,\n",
        "            #  height_shift_range= 0.1,\n",
        "            #  shear_range =  2,\n",
        "            #  zoom_range =  0.2,\n",
        "            horizontal_flip=  True,\n",
        "            vertical_flip =  True,\n",
        "            #  vertical_flip =  False,\n",
        "            #  fill_mode = \"nearest\"\n",
        "            validation_split=0.2,\n",
        "            preprocessing_function=preprocess_function\n",
        "            )\n",
        "\n",
        "  train_ds = datagen.flow_from_directory(\n",
        "            train_dir,\n",
        "            target_size=(img_width, img_height),\n",
        "            batch_size=batch_size,\n",
        "            class_mode='binary',\n",
        "            subset='training')\n",
        "    \n",
        "  val_ds = datagen.flow_from_directory(\n",
        "            train_dir,\n",
        "            target_size=(img_width, img_height),\n",
        "            batch_size=batch_size,\n",
        "            class_mode='binary',\n",
        "            subset='validation')\n",
        "  \n",
        "  return (train_ds, val_ds)"
      ],
      "execution_count": null,
      "outputs": []
    },
    {
      "cell_type": "code",
      "metadata": {
        "id": "HjytrqFU5fUZ"
      },
      "source": [
        "def load_test_ds(preprocess_function):\n",
        "  datagen_test = ImageDataGenerator(\n",
        "      rescale=1./255,\n",
        "      preprocessing_function=preprocess_function\n",
        "      )\n",
        "  return datagen_test.flow_from_directory(\n",
        "            test_dir,\n",
        "            target_size=(img_width, img_height),\n",
        "            batch_size=batch_size,\n",
        "            class_mode='binary')\n"
      ],
      "execution_count": null,
      "outputs": []
    },
    {
      "cell_type": "markdown",
      "metadata": {
        "id": "sN1yO5JKeNlM"
      },
      "source": [
        "# Modelos"
      ]
    },
    {
      "cell_type": "markdown",
      "metadata": {
        "id": "ahZYgL_DDCrL"
      },
      "source": [
        "### Funções auxiliares"
      ]
    },
    {
      "cell_type": "markdown",
      "metadata": {
        "id": "ZWNalIDuFQl5"
      },
      "source": [
        "#### Cálculos de métricas"
      ]
    },
    {
      "cell_type": "code",
      "metadata": {
        "id": "kvmOw1uO8_Vf"
      },
      "source": [
        "from sklearn.metrics import confusion_matrix\n",
        "\n",
        "def cm_calc(model, test_ds, p=0.5):\n",
        "  np.set_printoptions(precision=3, suppress=True)\n",
        "\n",
        "  # Faz as predições para o conjunto de teste\n",
        "  #test_pred = model.predict(test_ds)\n",
        "  test_pred = model.predict(test_ds, batch_size=batch_size)\n",
        "  #test_pred_2 = np.argmax(test_pred, axis=1)\n",
        "\n",
        "  # Matriz de confusão\n",
        "  #cm = confusion_matrix(test_ds.classes, test_pred_2)\n",
        "  cm = confusion_matrix(test_ds.classes, test_pred > p)\n",
        "  print(\"Matriz de confusão\")\n",
        "  print(cm)\n",
        "\n",
        "  return cm\n"
      ],
      "execution_count": null,
      "outputs": []
    },
    {
      "cell_type": "code",
      "metadata": {
        "id": "T5tKjN76-WHW"
      },
      "source": [
        "\n",
        "def balanced_acc_calc(cm): \n",
        "  # Matriz de confusão normalizada\n",
        "  cmn = cm / cm.astype(np.float).sum(axis=1, keepdims=True)\n",
        "  balanced_acc = np.trace(cmn) / 2\n",
        "  print(\"\\n\\nMatriz de confusão balanceada\")\n",
        "  print(cmn)\n",
        "  print(\"\\n\\nAcurácia balanceada:\", balanced_acc)\n",
        "  return balanced_acc\n"
      ],
      "execution_count": null,
      "outputs": []
    },
    {
      "cell_type": "markdown",
      "metadata": {
        "id": "MeTs_iKIFdZh"
      },
      "source": [
        "#### Visualizações"
      ]
    },
    {
      "cell_type": "code",
      "metadata": {
        "id": "HTTN-WA-9_tA"
      },
      "source": [
        "import matplotlib.pyplot as plt"
      ],
      "execution_count": null,
      "outputs": []
    },
    {
      "cell_type": "code",
      "metadata": {
        "id": "nplXNduO3W4N"
      },
      "source": [
        "import seaborn as sns\n",
        "def plot_cm(cm,  p=0.5):\n",
        "  #cm = confusion_matrix(labels, predictions > p)\n",
        "  plt.figure(figsize=(5,5))\n",
        "  sns.heatmap(cm, annot=True, fmt=\"d\")\n",
        "  plt.title('Confusion matrix @{:.2f}'.format(p))\n",
        "  # plt.title('Confusion matrix @{:.2f}')\n",
        "  plt.ylabel('Actual label')\n",
        "  plt.xlabel('Predicted label')\n",
        "\n",
        "  print('Mask Detected (True Negatives): ', cm[0][0])\n",
        "  print('Mask Incorrectly Detected (False Positives): ', cm[0][1])\n",
        "  print('No mask Missed (False Negatives): ', cm[1][0])\n",
        "  print('No mask Detected (True Positives): ', cm[1][1])\n",
        "  print('Total Mask : ', np.sum(cm[1]))"
      ],
      "execution_count": null,
      "outputs": []
    },
    {
      "cell_type": "code",
      "metadata": {
        "id": "qMSR2n9a1jKG"
      },
      "source": [
        "colors = plt.rcParams['axes.prop_cycle'].by_key()['color']\n",
        "\n",
        "def plot_metrics(history):\n",
        "  #metrics = ['loss', 'auc', 'precision', 'recall']\n",
        "  metrics = ['loss', 'weighted_auc', 'weighted_precision', 'weighted_recall']\n",
        "  for n, metric in enumerate(metrics):\n",
        "    name = metric.replace(\"_\",\" \").capitalize()\n",
        "    plt.subplot(2,2,n+1)\n",
        "    plt.plot(history.epoch, history.history[metric], color=colors[0], label='Train')\n",
        "    plt.plot(history.epoch, history.history['val_'+metric],\n",
        "             color=colors[0], linestyle=\"--\", label='Val')\n",
        "    plt.xlabel('Epoch')\n",
        "    plt.ylabel(name)\n",
        "    if metric == 'loss':\n",
        "      plt.ylim([0, plt.ylim()[1]])\n",
        "    elif metric == 'weighted_auc':\n",
        "      plt.ylim([0.8,1])\n",
        "    else:\n",
        "      plt.ylim([0,1])\n",
        "\n",
        "    plt.legend()"
      ],
      "execution_count": null,
      "outputs": []
    },
    {
      "cell_type": "code",
      "metadata": {
        "id": "Z2GobSTP_gsQ"
      },
      "source": [
        "def print_score(desc, score):\n",
        "  print(desc, \" metrics:\")\n",
        "  print('loss:', score[0])\n",
        "  print('tp:', score[1])\n",
        "  print('fp:', score[2])\n",
        "  print('tn:', score[3])\n",
        "  print('fn:', score[4])\n",
        "  print('accuracy:', score[5])\n",
        "  print('precision:', score[6])\n",
        "  print('recall:', score[7])\n",
        "  print('auc:', score[8])"
      ],
      "execution_count": null,
      "outputs": []
    },
    {
      "cell_type": "markdown",
      "metadata": {
        "id": "BRgXY0JVFoP-"
      },
      "source": [
        "#### Salvar e Carregar os modelos treinados"
      ]
    },
    {
      "cell_type": "code",
      "metadata": {
        "id": "1wF4SW4SFrdf"
      },
      "source": [
        "MODEL_FILE_SUFFIX = \"_model.json\"\n",
        "MODEL_WEIGHTS_FILE_SUFFIX = \"_model_weights.h5\"\n",
        "SAVE_DIR = \"/content/drive/MyDrive/Unicamp/MO434 - Deep Learning/MO434 MC934 - Projeto Final\""
      ],
      "execution_count": null,
      "outputs": []
    },
    {
      "cell_type": "code",
      "metadata": {
        "id": "uqpIPqRjFtZL"
      },
      "source": [
        "def save_model(model, model_name):\n",
        "  \n",
        "  base_filename = SAVE_DIR + \"/\" + model_name\n",
        "\n",
        "  # serialize model to JSON\n",
        "  model_filename = base_filename + MODEL_FILE_SUFFIX\n",
        "  model_json = model.to_json()\n",
        "  with open(model_filename, \"w\") as json_file:\n",
        "      json_file.write(model_json)\n",
        "\n",
        "  # serialize weights to HDF5\n",
        "  weights_filename = base_filename + MODEL_WEIGHTS_FILE_SUFFIX\n",
        "  model.save_weights(weights_filename)"
      ],
      "execution_count": null,
      "outputs": []
    },
    {
      "cell_type": "code",
      "metadata": {
        "id": "T7kv8vkrFt5c"
      },
      "source": [
        "from keras.models import model_from_json\n",
        "\n",
        "def load_trained_model(model_name):\n",
        "  base_filename = SAVE_DIR + \"/\" + model_name\n",
        "\n",
        "  # load json and create model\n",
        "  model_filename = base_filename + MODEL_FILE_SUFFIX\n",
        "  json_file = open(model_filename, 'r')\n",
        "  loaded_model_json = json_file.read()\n",
        "  json_file.close()\n",
        "  loaded_model = model_from_json(loaded_model_json)\n",
        "\n",
        "  # load weights into new model\n",
        "  weights_filename = base_filename + MODEL_WEIGHTS_FILE_SUFFIX\n",
        "  loaded_model.load_weights(weights_filename)\n",
        "  \n",
        "  return loaded_model"
      ],
      "execution_count": null,
      "outputs": []
    },
    {
      "cell_type": "markdown",
      "metadata": {
        "id": "UNCKzVXvFhuX"
      },
      "source": [
        "#### Definições para os modelos"
      ]
    },
    {
      "cell_type": "code",
      "metadata": {
        "id": "mMraln20eXx6"
      },
      "source": [
        "import numpy as np\n",
        "import tensorflow as tf\n",
        "from tensorflow import keras"
      ],
      "execution_count": null,
      "outputs": []
    },
    {
      "cell_type": "code",
      "metadata": {
        "id": "DDqEDpcFAhI9"
      },
      "source": [
        "METRICS = [\n",
        "      tf.keras.metrics.TruePositives(name='tp'),\n",
        "      tf.keras.metrics.FalsePositives(name='fp'),\n",
        "      tf.keras.metrics.TrueNegatives(name='tn'),\n",
        "      tf.keras.metrics.FalseNegatives(name='fn'), \n",
        "      tf.keras.metrics.BinaryAccuracy(name='accuracy'),\n",
        "      tf.keras.metrics.Precision(name='precision'),\n",
        "      tf.keras.metrics.Recall(name='recall'),\n",
        "      tf.keras.metrics.AUC(name='auc'),\n",
        "]"
      ],
      "execution_count": null,
      "outputs": []
    },
    {
      "cell_type": "code",
      "metadata": {
        "id": "GEzbSEcaeh9b"
      },
      "source": [
        "epochs=100\n",
        "optimizer=keras.optimizers.Adam(1e-3)\n",
        "callbacks=[tf.keras.callbacks.EarlyStopping(monitor='val_loss', patience=10)]"
      ],
      "execution_count": null,
      "outputs": []
    },
    {
      "cell_type": "markdown",
      "metadata": {
        "id": "L4WIeRbmeQNM"
      },
      "source": [
        "## Baseline Resnet 50"
      ]
    },
    {
      "cell_type": "code",
      "metadata": {
        "id": "emZkqxS91pjx"
      },
      "source": [
        "from tensorflow.keras.applications import resnet50"
      ],
      "execution_count": null,
      "outputs": []
    },
    {
      "cell_type": "code",
      "metadata": {
        "colab": {
          "base_uri": "https://localhost:8080/"
        },
        "id": "NiCXt08u2ibq",
        "outputId": "2d849869-26ca-475e-ebc5-98db5c7588a1"
      },
      "source": [
        "(resnet50_train_ds, resnet50_val_ds) = load_ds(resnet50.preprocess_input)\n",
        "resnet50_test_ds = load_test_ds(resnet50.preprocess_input)"
      ],
      "execution_count": null,
      "outputs": [
        {
          "output_type": "stream",
          "text": [
            "Found 59311 images belonging to 2 classes.\n",
            "Found 14827 images belonging to 2 classes.\n",
            "Found 18531 images belonging to 2 classes.\n"
          ],
          "name": "stdout"
        }
      ]
    },
    {
      "cell_type": "code",
      "metadata": {
        "colab": {
          "base_uri": "https://localhost:8080/"
        },
        "id": "X2gIyxupdy5t",
        "outputId": "10699014-a4e3-4f65-f51f-17e4f4b63836"
      },
      "source": [
        "class_names = list(resnet50_train_ds.class_indices.keys())\n",
        "class_names"
      ],
      "execution_count": null,
      "outputs": [
        {
          "output_type": "execute_result",
          "data": {
            "text/plain": [
              "['masked', 'no_masked']"
            ]
          },
          "metadata": {
            "tags": []
          },
          "execution_count": 24
        }
      ]
    },
    {
      "cell_type": "code",
      "metadata": {
        "colab": {
          "base_uri": "https://localhost:8080/"
        },
        "id": "9h7DeftQePmz",
        "outputId": "7e910dc3-6eea-4682-858a-b0c73fc26aac"
      },
      "source": [
        "# Modelo pré-treinado SEM as camadas densas (include_top = False)\n",
        "resnet50_model = tf.keras.applications.ResNet50(\n",
        "    weights='imagenet', \n",
        "    include_top=False, \n",
        "    input_shape=input_shape)\n",
        "\n",
        "# Congela camadas pré-treinadas\n",
        "for layer in resnet50_model.layers:\n",
        "    layer.trainable = False\n",
        "\n",
        "resnet50_model.summary()"
      ],
      "execution_count": null,
      "outputs": [
        {
          "output_type": "stream",
          "text": [
            "Downloading data from https://storage.googleapis.com/tensorflow/keras-applications/resnet/resnet50_weights_tf_dim_ordering_tf_kernels_notop.h5\n",
            "94773248/94765736 [==============================] - 1s 0us/step\n",
            "Model: \"resnet50\"\n",
            "__________________________________________________________________________________________________\n",
            "Layer (type)                    Output Shape         Param #     Connected to                     \n",
            "==================================================================================================\n",
            "input_1 (InputLayer)            [(None, 299, 299, 3) 0                                            \n",
            "__________________________________________________________________________________________________\n",
            "conv1_pad (ZeroPadding2D)       (None, 305, 305, 3)  0           input_1[0][0]                    \n",
            "__________________________________________________________________________________________________\n",
            "conv1_conv (Conv2D)             (None, 150, 150, 64) 9472        conv1_pad[0][0]                  \n",
            "__________________________________________________________________________________________________\n",
            "conv1_bn (BatchNormalization)   (None, 150, 150, 64) 256         conv1_conv[0][0]                 \n",
            "__________________________________________________________________________________________________\n",
            "conv1_relu (Activation)         (None, 150, 150, 64) 0           conv1_bn[0][0]                   \n",
            "__________________________________________________________________________________________________\n",
            "pool1_pad (ZeroPadding2D)       (None, 152, 152, 64) 0           conv1_relu[0][0]                 \n",
            "__________________________________________________________________________________________________\n",
            "pool1_pool (MaxPooling2D)       (None, 75, 75, 64)   0           pool1_pad[0][0]                  \n",
            "__________________________________________________________________________________________________\n",
            "conv2_block1_1_conv (Conv2D)    (None, 75, 75, 64)   4160        pool1_pool[0][0]                 \n",
            "__________________________________________________________________________________________________\n",
            "conv2_block1_1_bn (BatchNormali (None, 75, 75, 64)   256         conv2_block1_1_conv[0][0]        \n",
            "__________________________________________________________________________________________________\n",
            "conv2_block1_1_relu (Activation (None, 75, 75, 64)   0           conv2_block1_1_bn[0][0]          \n",
            "__________________________________________________________________________________________________\n",
            "conv2_block1_2_conv (Conv2D)    (None, 75, 75, 64)   36928       conv2_block1_1_relu[0][0]        \n",
            "__________________________________________________________________________________________________\n",
            "conv2_block1_2_bn (BatchNormali (None, 75, 75, 64)   256         conv2_block1_2_conv[0][0]        \n",
            "__________________________________________________________________________________________________\n",
            "conv2_block1_2_relu (Activation (None, 75, 75, 64)   0           conv2_block1_2_bn[0][0]          \n",
            "__________________________________________________________________________________________________\n",
            "conv2_block1_0_conv (Conv2D)    (None, 75, 75, 256)  16640       pool1_pool[0][0]                 \n",
            "__________________________________________________________________________________________________\n",
            "conv2_block1_3_conv (Conv2D)    (None, 75, 75, 256)  16640       conv2_block1_2_relu[0][0]        \n",
            "__________________________________________________________________________________________________\n",
            "conv2_block1_0_bn (BatchNormali (None, 75, 75, 256)  1024        conv2_block1_0_conv[0][0]        \n",
            "__________________________________________________________________________________________________\n",
            "conv2_block1_3_bn (BatchNormali (None, 75, 75, 256)  1024        conv2_block1_3_conv[0][0]        \n",
            "__________________________________________________________________________________________________\n",
            "conv2_block1_add (Add)          (None, 75, 75, 256)  0           conv2_block1_0_bn[0][0]          \n",
            "                                                                 conv2_block1_3_bn[0][0]          \n",
            "__________________________________________________________________________________________________\n",
            "conv2_block1_out (Activation)   (None, 75, 75, 256)  0           conv2_block1_add[0][0]           \n",
            "__________________________________________________________________________________________________\n",
            "conv2_block2_1_conv (Conv2D)    (None, 75, 75, 64)   16448       conv2_block1_out[0][0]           \n",
            "__________________________________________________________________________________________________\n",
            "conv2_block2_1_bn (BatchNormali (None, 75, 75, 64)   256         conv2_block2_1_conv[0][0]        \n",
            "__________________________________________________________________________________________________\n",
            "conv2_block2_1_relu (Activation (None, 75, 75, 64)   0           conv2_block2_1_bn[0][0]          \n",
            "__________________________________________________________________________________________________\n",
            "conv2_block2_2_conv (Conv2D)    (None, 75, 75, 64)   36928       conv2_block2_1_relu[0][0]        \n",
            "__________________________________________________________________________________________________\n",
            "conv2_block2_2_bn (BatchNormali (None, 75, 75, 64)   256         conv2_block2_2_conv[0][0]        \n",
            "__________________________________________________________________________________________________\n",
            "conv2_block2_2_relu (Activation (None, 75, 75, 64)   0           conv2_block2_2_bn[0][0]          \n",
            "__________________________________________________________________________________________________\n",
            "conv2_block2_3_conv (Conv2D)    (None, 75, 75, 256)  16640       conv2_block2_2_relu[0][0]        \n",
            "__________________________________________________________________________________________________\n",
            "conv2_block2_3_bn (BatchNormali (None, 75, 75, 256)  1024        conv2_block2_3_conv[0][0]        \n",
            "__________________________________________________________________________________________________\n",
            "conv2_block2_add (Add)          (None, 75, 75, 256)  0           conv2_block1_out[0][0]           \n",
            "                                                                 conv2_block2_3_bn[0][0]          \n",
            "__________________________________________________________________________________________________\n",
            "conv2_block2_out (Activation)   (None, 75, 75, 256)  0           conv2_block2_add[0][0]           \n",
            "__________________________________________________________________________________________________\n",
            "conv2_block3_1_conv (Conv2D)    (None, 75, 75, 64)   16448       conv2_block2_out[0][0]           \n",
            "__________________________________________________________________________________________________\n",
            "conv2_block3_1_bn (BatchNormali (None, 75, 75, 64)   256         conv2_block3_1_conv[0][0]        \n",
            "__________________________________________________________________________________________________\n",
            "conv2_block3_1_relu (Activation (None, 75, 75, 64)   0           conv2_block3_1_bn[0][0]          \n",
            "__________________________________________________________________________________________________\n",
            "conv2_block3_2_conv (Conv2D)    (None, 75, 75, 64)   36928       conv2_block3_1_relu[0][0]        \n",
            "__________________________________________________________________________________________________\n",
            "conv2_block3_2_bn (BatchNormali (None, 75, 75, 64)   256         conv2_block3_2_conv[0][0]        \n",
            "__________________________________________________________________________________________________\n",
            "conv2_block3_2_relu (Activation (None, 75, 75, 64)   0           conv2_block3_2_bn[0][0]          \n",
            "__________________________________________________________________________________________________\n",
            "conv2_block3_3_conv (Conv2D)    (None, 75, 75, 256)  16640       conv2_block3_2_relu[0][0]        \n",
            "__________________________________________________________________________________________________\n",
            "conv2_block3_3_bn (BatchNormali (None, 75, 75, 256)  1024        conv2_block3_3_conv[0][0]        \n",
            "__________________________________________________________________________________________________\n",
            "conv2_block3_add (Add)          (None, 75, 75, 256)  0           conv2_block2_out[0][0]           \n",
            "                                                                 conv2_block3_3_bn[0][0]          \n",
            "__________________________________________________________________________________________________\n",
            "conv2_block3_out (Activation)   (None, 75, 75, 256)  0           conv2_block3_add[0][0]           \n",
            "__________________________________________________________________________________________________\n",
            "conv3_block1_1_conv (Conv2D)    (None, 38, 38, 128)  32896       conv2_block3_out[0][0]           \n",
            "__________________________________________________________________________________________________\n",
            "conv3_block1_1_bn (BatchNormali (None, 38, 38, 128)  512         conv3_block1_1_conv[0][0]        \n",
            "__________________________________________________________________________________________________\n",
            "conv3_block1_1_relu (Activation (None, 38, 38, 128)  0           conv3_block1_1_bn[0][0]          \n",
            "__________________________________________________________________________________________________\n",
            "conv3_block1_2_conv (Conv2D)    (None, 38, 38, 128)  147584      conv3_block1_1_relu[0][0]        \n",
            "__________________________________________________________________________________________________\n",
            "conv3_block1_2_bn (BatchNormali (None, 38, 38, 128)  512         conv3_block1_2_conv[0][0]        \n",
            "__________________________________________________________________________________________________\n",
            "conv3_block1_2_relu (Activation (None, 38, 38, 128)  0           conv3_block1_2_bn[0][0]          \n",
            "__________________________________________________________________________________________________\n",
            "conv3_block1_0_conv (Conv2D)    (None, 38, 38, 512)  131584      conv2_block3_out[0][0]           \n",
            "__________________________________________________________________________________________________\n",
            "conv3_block1_3_conv (Conv2D)    (None, 38, 38, 512)  66048       conv3_block1_2_relu[0][0]        \n",
            "__________________________________________________________________________________________________\n",
            "conv3_block1_0_bn (BatchNormali (None, 38, 38, 512)  2048        conv3_block1_0_conv[0][0]        \n",
            "__________________________________________________________________________________________________\n",
            "conv3_block1_3_bn (BatchNormali (None, 38, 38, 512)  2048        conv3_block1_3_conv[0][0]        \n",
            "__________________________________________________________________________________________________\n",
            "conv3_block1_add (Add)          (None, 38, 38, 512)  0           conv3_block1_0_bn[0][0]          \n",
            "                                                                 conv3_block1_3_bn[0][0]          \n",
            "__________________________________________________________________________________________________\n",
            "conv3_block1_out (Activation)   (None, 38, 38, 512)  0           conv3_block1_add[0][0]           \n",
            "__________________________________________________________________________________________________\n",
            "conv3_block2_1_conv (Conv2D)    (None, 38, 38, 128)  65664       conv3_block1_out[0][0]           \n",
            "__________________________________________________________________________________________________\n",
            "conv3_block2_1_bn (BatchNormali (None, 38, 38, 128)  512         conv3_block2_1_conv[0][0]        \n",
            "__________________________________________________________________________________________________\n",
            "conv3_block2_1_relu (Activation (None, 38, 38, 128)  0           conv3_block2_1_bn[0][0]          \n",
            "__________________________________________________________________________________________________\n",
            "conv3_block2_2_conv (Conv2D)    (None, 38, 38, 128)  147584      conv3_block2_1_relu[0][0]        \n",
            "__________________________________________________________________________________________________\n",
            "conv3_block2_2_bn (BatchNormali (None, 38, 38, 128)  512         conv3_block2_2_conv[0][0]        \n",
            "__________________________________________________________________________________________________\n",
            "conv3_block2_2_relu (Activation (None, 38, 38, 128)  0           conv3_block2_2_bn[0][0]          \n",
            "__________________________________________________________________________________________________\n",
            "conv3_block2_3_conv (Conv2D)    (None, 38, 38, 512)  66048       conv3_block2_2_relu[0][0]        \n",
            "__________________________________________________________________________________________________\n",
            "conv3_block2_3_bn (BatchNormali (None, 38, 38, 512)  2048        conv3_block2_3_conv[0][0]        \n",
            "__________________________________________________________________________________________________\n",
            "conv3_block2_add (Add)          (None, 38, 38, 512)  0           conv3_block1_out[0][0]           \n",
            "                                                                 conv3_block2_3_bn[0][0]          \n",
            "__________________________________________________________________________________________________\n",
            "conv3_block2_out (Activation)   (None, 38, 38, 512)  0           conv3_block2_add[0][0]           \n",
            "__________________________________________________________________________________________________\n",
            "conv3_block3_1_conv (Conv2D)    (None, 38, 38, 128)  65664       conv3_block2_out[0][0]           \n",
            "__________________________________________________________________________________________________\n",
            "conv3_block3_1_bn (BatchNormali (None, 38, 38, 128)  512         conv3_block3_1_conv[0][0]        \n",
            "__________________________________________________________________________________________________\n",
            "conv3_block3_1_relu (Activation (None, 38, 38, 128)  0           conv3_block3_1_bn[0][0]          \n",
            "__________________________________________________________________________________________________\n",
            "conv3_block3_2_conv (Conv2D)    (None, 38, 38, 128)  147584      conv3_block3_1_relu[0][0]        \n",
            "__________________________________________________________________________________________________\n",
            "conv3_block3_2_bn (BatchNormali (None, 38, 38, 128)  512         conv3_block3_2_conv[0][0]        \n",
            "__________________________________________________________________________________________________\n",
            "conv3_block3_2_relu (Activation (None, 38, 38, 128)  0           conv3_block3_2_bn[0][0]          \n",
            "__________________________________________________________________________________________________\n",
            "conv3_block3_3_conv (Conv2D)    (None, 38, 38, 512)  66048       conv3_block3_2_relu[0][0]        \n",
            "__________________________________________________________________________________________________\n",
            "conv3_block3_3_bn (BatchNormali (None, 38, 38, 512)  2048        conv3_block3_3_conv[0][0]        \n",
            "__________________________________________________________________________________________________\n",
            "conv3_block3_add (Add)          (None, 38, 38, 512)  0           conv3_block2_out[0][0]           \n",
            "                                                                 conv3_block3_3_bn[0][0]          \n",
            "__________________________________________________________________________________________________\n",
            "conv3_block3_out (Activation)   (None, 38, 38, 512)  0           conv3_block3_add[0][0]           \n",
            "__________________________________________________________________________________________________\n",
            "conv3_block4_1_conv (Conv2D)    (None, 38, 38, 128)  65664       conv3_block3_out[0][0]           \n",
            "__________________________________________________________________________________________________\n",
            "conv3_block4_1_bn (BatchNormali (None, 38, 38, 128)  512         conv3_block4_1_conv[0][0]        \n",
            "__________________________________________________________________________________________________\n",
            "conv3_block4_1_relu (Activation (None, 38, 38, 128)  0           conv3_block4_1_bn[0][0]          \n",
            "__________________________________________________________________________________________________\n",
            "conv3_block4_2_conv (Conv2D)    (None, 38, 38, 128)  147584      conv3_block4_1_relu[0][0]        \n",
            "__________________________________________________________________________________________________\n",
            "conv3_block4_2_bn (BatchNormali (None, 38, 38, 128)  512         conv3_block4_2_conv[0][0]        \n",
            "__________________________________________________________________________________________________\n",
            "conv3_block4_2_relu (Activation (None, 38, 38, 128)  0           conv3_block4_2_bn[0][0]          \n",
            "__________________________________________________________________________________________________\n",
            "conv3_block4_3_conv (Conv2D)    (None, 38, 38, 512)  66048       conv3_block4_2_relu[0][0]        \n",
            "__________________________________________________________________________________________________\n",
            "conv3_block4_3_bn (BatchNormali (None, 38, 38, 512)  2048        conv3_block4_3_conv[0][0]        \n",
            "__________________________________________________________________________________________________\n",
            "conv3_block4_add (Add)          (None, 38, 38, 512)  0           conv3_block3_out[0][0]           \n",
            "                                                                 conv3_block4_3_bn[0][0]          \n",
            "__________________________________________________________________________________________________\n",
            "conv3_block4_out (Activation)   (None, 38, 38, 512)  0           conv3_block4_add[0][0]           \n",
            "__________________________________________________________________________________________________\n",
            "conv4_block1_1_conv (Conv2D)    (None, 19, 19, 256)  131328      conv3_block4_out[0][0]           \n",
            "__________________________________________________________________________________________________\n",
            "conv4_block1_1_bn (BatchNormali (None, 19, 19, 256)  1024        conv4_block1_1_conv[0][0]        \n",
            "__________________________________________________________________________________________________\n",
            "conv4_block1_1_relu (Activation (None, 19, 19, 256)  0           conv4_block1_1_bn[0][0]          \n",
            "__________________________________________________________________________________________________\n",
            "conv4_block1_2_conv (Conv2D)    (None, 19, 19, 256)  590080      conv4_block1_1_relu[0][0]        \n",
            "__________________________________________________________________________________________________\n",
            "conv4_block1_2_bn (BatchNormali (None, 19, 19, 256)  1024        conv4_block1_2_conv[0][0]        \n",
            "__________________________________________________________________________________________________\n",
            "conv4_block1_2_relu (Activation (None, 19, 19, 256)  0           conv4_block1_2_bn[0][0]          \n",
            "__________________________________________________________________________________________________\n",
            "conv4_block1_0_conv (Conv2D)    (None, 19, 19, 1024) 525312      conv3_block4_out[0][0]           \n",
            "__________________________________________________________________________________________________\n",
            "conv4_block1_3_conv (Conv2D)    (None, 19, 19, 1024) 263168      conv4_block1_2_relu[0][0]        \n",
            "__________________________________________________________________________________________________\n",
            "conv4_block1_0_bn (BatchNormali (None, 19, 19, 1024) 4096        conv4_block1_0_conv[0][0]        \n",
            "__________________________________________________________________________________________________\n",
            "conv4_block1_3_bn (BatchNormali (None, 19, 19, 1024) 4096        conv4_block1_3_conv[0][0]        \n",
            "__________________________________________________________________________________________________\n",
            "conv4_block1_add (Add)          (None, 19, 19, 1024) 0           conv4_block1_0_bn[0][0]          \n",
            "                                                                 conv4_block1_3_bn[0][0]          \n",
            "__________________________________________________________________________________________________\n",
            "conv4_block1_out (Activation)   (None, 19, 19, 1024) 0           conv4_block1_add[0][0]           \n",
            "__________________________________________________________________________________________________\n",
            "conv4_block2_1_conv (Conv2D)    (None, 19, 19, 256)  262400      conv4_block1_out[0][0]           \n",
            "__________________________________________________________________________________________________\n",
            "conv4_block2_1_bn (BatchNormali (None, 19, 19, 256)  1024        conv4_block2_1_conv[0][0]        \n",
            "__________________________________________________________________________________________________\n",
            "conv4_block2_1_relu (Activation (None, 19, 19, 256)  0           conv4_block2_1_bn[0][0]          \n",
            "__________________________________________________________________________________________________\n",
            "conv4_block2_2_conv (Conv2D)    (None, 19, 19, 256)  590080      conv4_block2_1_relu[0][0]        \n",
            "__________________________________________________________________________________________________\n",
            "conv4_block2_2_bn (BatchNormali (None, 19, 19, 256)  1024        conv4_block2_2_conv[0][0]        \n",
            "__________________________________________________________________________________________________\n",
            "conv4_block2_2_relu (Activation (None, 19, 19, 256)  0           conv4_block2_2_bn[0][0]          \n",
            "__________________________________________________________________________________________________\n",
            "conv4_block2_3_conv (Conv2D)    (None, 19, 19, 1024) 263168      conv4_block2_2_relu[0][0]        \n",
            "__________________________________________________________________________________________________\n",
            "conv4_block2_3_bn (BatchNormali (None, 19, 19, 1024) 4096        conv4_block2_3_conv[0][0]        \n",
            "__________________________________________________________________________________________________\n",
            "conv4_block2_add (Add)          (None, 19, 19, 1024) 0           conv4_block1_out[0][0]           \n",
            "                                                                 conv4_block2_3_bn[0][0]          \n",
            "__________________________________________________________________________________________________\n",
            "conv4_block2_out (Activation)   (None, 19, 19, 1024) 0           conv4_block2_add[0][0]           \n",
            "__________________________________________________________________________________________________\n",
            "conv4_block3_1_conv (Conv2D)    (None, 19, 19, 256)  262400      conv4_block2_out[0][0]           \n",
            "__________________________________________________________________________________________________\n",
            "conv4_block3_1_bn (BatchNormali (None, 19, 19, 256)  1024        conv4_block3_1_conv[0][0]        \n",
            "__________________________________________________________________________________________________\n",
            "conv4_block3_1_relu (Activation (None, 19, 19, 256)  0           conv4_block3_1_bn[0][0]          \n",
            "__________________________________________________________________________________________________\n",
            "conv4_block3_2_conv (Conv2D)    (None, 19, 19, 256)  590080      conv4_block3_1_relu[0][0]        \n",
            "__________________________________________________________________________________________________\n",
            "conv4_block3_2_bn (BatchNormali (None, 19, 19, 256)  1024        conv4_block3_2_conv[0][0]        \n",
            "__________________________________________________________________________________________________\n",
            "conv4_block3_2_relu (Activation (None, 19, 19, 256)  0           conv4_block3_2_bn[0][0]          \n",
            "__________________________________________________________________________________________________\n",
            "conv4_block3_3_conv (Conv2D)    (None, 19, 19, 1024) 263168      conv4_block3_2_relu[0][0]        \n",
            "__________________________________________________________________________________________________\n",
            "conv4_block3_3_bn (BatchNormali (None, 19, 19, 1024) 4096        conv4_block3_3_conv[0][0]        \n",
            "__________________________________________________________________________________________________\n",
            "conv4_block3_add (Add)          (None, 19, 19, 1024) 0           conv4_block2_out[0][0]           \n",
            "                                                                 conv4_block3_3_bn[0][0]          \n",
            "__________________________________________________________________________________________________\n",
            "conv4_block3_out (Activation)   (None, 19, 19, 1024) 0           conv4_block3_add[0][0]           \n",
            "__________________________________________________________________________________________________\n",
            "conv4_block4_1_conv (Conv2D)    (None, 19, 19, 256)  262400      conv4_block3_out[0][0]           \n",
            "__________________________________________________________________________________________________\n",
            "conv4_block4_1_bn (BatchNormali (None, 19, 19, 256)  1024        conv4_block4_1_conv[0][0]        \n",
            "__________________________________________________________________________________________________\n",
            "conv4_block4_1_relu (Activation (None, 19, 19, 256)  0           conv4_block4_1_bn[0][0]          \n",
            "__________________________________________________________________________________________________\n",
            "conv4_block4_2_conv (Conv2D)    (None, 19, 19, 256)  590080      conv4_block4_1_relu[0][0]        \n",
            "__________________________________________________________________________________________________\n",
            "conv4_block4_2_bn (BatchNormali (None, 19, 19, 256)  1024        conv4_block4_2_conv[0][0]        \n",
            "__________________________________________________________________________________________________\n",
            "conv4_block4_2_relu (Activation (None, 19, 19, 256)  0           conv4_block4_2_bn[0][0]          \n",
            "__________________________________________________________________________________________________\n",
            "conv4_block4_3_conv (Conv2D)    (None, 19, 19, 1024) 263168      conv4_block4_2_relu[0][0]        \n",
            "__________________________________________________________________________________________________\n",
            "conv4_block4_3_bn (BatchNormali (None, 19, 19, 1024) 4096        conv4_block4_3_conv[0][0]        \n",
            "__________________________________________________________________________________________________\n",
            "conv4_block4_add (Add)          (None, 19, 19, 1024) 0           conv4_block3_out[0][0]           \n",
            "                                                                 conv4_block4_3_bn[0][0]          \n",
            "__________________________________________________________________________________________________\n",
            "conv4_block4_out (Activation)   (None, 19, 19, 1024) 0           conv4_block4_add[0][0]           \n",
            "__________________________________________________________________________________________________\n",
            "conv4_block5_1_conv (Conv2D)    (None, 19, 19, 256)  262400      conv4_block4_out[0][0]           \n",
            "__________________________________________________________________________________________________\n",
            "conv4_block5_1_bn (BatchNormali (None, 19, 19, 256)  1024        conv4_block5_1_conv[0][0]        \n",
            "__________________________________________________________________________________________________\n",
            "conv4_block5_1_relu (Activation (None, 19, 19, 256)  0           conv4_block5_1_bn[0][0]          \n",
            "__________________________________________________________________________________________________\n",
            "conv4_block5_2_conv (Conv2D)    (None, 19, 19, 256)  590080      conv4_block5_1_relu[0][0]        \n",
            "__________________________________________________________________________________________________\n",
            "conv4_block5_2_bn (BatchNormali (None, 19, 19, 256)  1024        conv4_block5_2_conv[0][0]        \n",
            "__________________________________________________________________________________________________\n",
            "conv4_block5_2_relu (Activation (None, 19, 19, 256)  0           conv4_block5_2_bn[0][0]          \n",
            "__________________________________________________________________________________________________\n",
            "conv4_block5_3_conv (Conv2D)    (None, 19, 19, 1024) 263168      conv4_block5_2_relu[0][0]        \n",
            "__________________________________________________________________________________________________\n",
            "conv4_block5_3_bn (BatchNormali (None, 19, 19, 1024) 4096        conv4_block5_3_conv[0][0]        \n",
            "__________________________________________________________________________________________________\n",
            "conv4_block5_add (Add)          (None, 19, 19, 1024) 0           conv4_block4_out[0][0]           \n",
            "                                                                 conv4_block5_3_bn[0][0]          \n",
            "__________________________________________________________________________________________________\n",
            "conv4_block5_out (Activation)   (None, 19, 19, 1024) 0           conv4_block5_add[0][0]           \n",
            "__________________________________________________________________________________________________\n",
            "conv4_block6_1_conv (Conv2D)    (None, 19, 19, 256)  262400      conv4_block5_out[0][0]           \n",
            "__________________________________________________________________________________________________\n",
            "conv4_block6_1_bn (BatchNormali (None, 19, 19, 256)  1024        conv4_block6_1_conv[0][0]        \n",
            "__________________________________________________________________________________________________\n",
            "conv4_block6_1_relu (Activation (None, 19, 19, 256)  0           conv4_block6_1_bn[0][0]          \n",
            "__________________________________________________________________________________________________\n",
            "conv4_block6_2_conv (Conv2D)    (None, 19, 19, 256)  590080      conv4_block6_1_relu[0][0]        \n",
            "__________________________________________________________________________________________________\n",
            "conv4_block6_2_bn (BatchNormali (None, 19, 19, 256)  1024        conv4_block6_2_conv[0][0]        \n",
            "__________________________________________________________________________________________________\n",
            "conv4_block6_2_relu (Activation (None, 19, 19, 256)  0           conv4_block6_2_bn[0][0]          \n",
            "__________________________________________________________________________________________________\n",
            "conv4_block6_3_conv (Conv2D)    (None, 19, 19, 1024) 263168      conv4_block6_2_relu[0][0]        \n",
            "__________________________________________________________________________________________________\n",
            "conv4_block6_3_bn (BatchNormali (None, 19, 19, 1024) 4096        conv4_block6_3_conv[0][0]        \n",
            "__________________________________________________________________________________________________\n",
            "conv4_block6_add (Add)          (None, 19, 19, 1024) 0           conv4_block5_out[0][0]           \n",
            "                                                                 conv4_block6_3_bn[0][0]          \n",
            "__________________________________________________________________________________________________\n",
            "conv4_block6_out (Activation)   (None, 19, 19, 1024) 0           conv4_block6_add[0][0]           \n",
            "__________________________________________________________________________________________________\n",
            "conv5_block1_1_conv (Conv2D)    (None, 10, 10, 512)  524800      conv4_block6_out[0][0]           \n",
            "__________________________________________________________________________________________________\n",
            "conv5_block1_1_bn (BatchNormali (None, 10, 10, 512)  2048        conv5_block1_1_conv[0][0]        \n",
            "__________________________________________________________________________________________________\n",
            "conv5_block1_1_relu (Activation (None, 10, 10, 512)  0           conv5_block1_1_bn[0][0]          \n",
            "__________________________________________________________________________________________________\n",
            "conv5_block1_2_conv (Conv2D)    (None, 10, 10, 512)  2359808     conv5_block1_1_relu[0][0]        \n",
            "__________________________________________________________________________________________________\n",
            "conv5_block1_2_bn (BatchNormali (None, 10, 10, 512)  2048        conv5_block1_2_conv[0][0]        \n",
            "__________________________________________________________________________________________________\n",
            "conv5_block1_2_relu (Activation (None, 10, 10, 512)  0           conv5_block1_2_bn[0][0]          \n",
            "__________________________________________________________________________________________________\n",
            "conv5_block1_0_conv (Conv2D)    (None, 10, 10, 2048) 2099200     conv4_block6_out[0][0]           \n",
            "__________________________________________________________________________________________________\n",
            "conv5_block1_3_conv (Conv2D)    (None, 10, 10, 2048) 1050624     conv5_block1_2_relu[0][0]        \n",
            "__________________________________________________________________________________________________\n",
            "conv5_block1_0_bn (BatchNormali (None, 10, 10, 2048) 8192        conv5_block1_0_conv[0][0]        \n",
            "__________________________________________________________________________________________________\n",
            "conv5_block1_3_bn (BatchNormali (None, 10, 10, 2048) 8192        conv5_block1_3_conv[0][0]        \n",
            "__________________________________________________________________________________________________\n",
            "conv5_block1_add (Add)          (None, 10, 10, 2048) 0           conv5_block1_0_bn[0][0]          \n",
            "                                                                 conv5_block1_3_bn[0][0]          \n",
            "__________________________________________________________________________________________________\n",
            "conv5_block1_out (Activation)   (None, 10, 10, 2048) 0           conv5_block1_add[0][0]           \n",
            "__________________________________________________________________________________________________\n",
            "conv5_block2_1_conv (Conv2D)    (None, 10, 10, 512)  1049088     conv5_block1_out[0][0]           \n",
            "__________________________________________________________________________________________________\n",
            "conv5_block2_1_bn (BatchNormali (None, 10, 10, 512)  2048        conv5_block2_1_conv[0][0]        \n",
            "__________________________________________________________________________________________________\n",
            "conv5_block2_1_relu (Activation (None, 10, 10, 512)  0           conv5_block2_1_bn[0][0]          \n",
            "__________________________________________________________________________________________________\n",
            "conv5_block2_2_conv (Conv2D)    (None, 10, 10, 512)  2359808     conv5_block2_1_relu[0][0]        \n",
            "__________________________________________________________________________________________________\n",
            "conv5_block2_2_bn (BatchNormali (None, 10, 10, 512)  2048        conv5_block2_2_conv[0][0]        \n",
            "__________________________________________________________________________________________________\n",
            "conv5_block2_2_relu (Activation (None, 10, 10, 512)  0           conv5_block2_2_bn[0][0]          \n",
            "__________________________________________________________________________________________________\n",
            "conv5_block2_3_conv (Conv2D)    (None, 10, 10, 2048) 1050624     conv5_block2_2_relu[0][0]        \n",
            "__________________________________________________________________________________________________\n",
            "conv5_block2_3_bn (BatchNormali (None, 10, 10, 2048) 8192        conv5_block2_3_conv[0][0]        \n",
            "__________________________________________________________________________________________________\n",
            "conv5_block2_add (Add)          (None, 10, 10, 2048) 0           conv5_block1_out[0][0]           \n",
            "                                                                 conv5_block2_3_bn[0][0]          \n",
            "__________________________________________________________________________________________________\n",
            "conv5_block2_out (Activation)   (None, 10, 10, 2048) 0           conv5_block2_add[0][0]           \n",
            "__________________________________________________________________________________________________\n",
            "conv5_block3_1_conv (Conv2D)    (None, 10, 10, 512)  1049088     conv5_block2_out[0][0]           \n",
            "__________________________________________________________________________________________________\n",
            "conv5_block3_1_bn (BatchNormali (None, 10, 10, 512)  2048        conv5_block3_1_conv[0][0]        \n",
            "__________________________________________________________________________________________________\n",
            "conv5_block3_1_relu (Activation (None, 10, 10, 512)  0           conv5_block3_1_bn[0][0]          \n",
            "__________________________________________________________________________________________________\n",
            "conv5_block3_2_conv (Conv2D)    (None, 10, 10, 512)  2359808     conv5_block3_1_relu[0][0]        \n",
            "__________________________________________________________________________________________________\n",
            "conv5_block3_2_bn (BatchNormali (None, 10, 10, 512)  2048        conv5_block3_2_conv[0][0]        \n",
            "__________________________________________________________________________________________________\n",
            "conv5_block3_2_relu (Activation (None, 10, 10, 512)  0           conv5_block3_2_bn[0][0]          \n",
            "__________________________________________________________________________________________________\n",
            "conv5_block3_3_conv (Conv2D)    (None, 10, 10, 2048) 1050624     conv5_block3_2_relu[0][0]        \n",
            "__________________________________________________________________________________________________\n",
            "conv5_block3_3_bn (BatchNormali (None, 10, 10, 2048) 8192        conv5_block3_3_conv[0][0]        \n",
            "__________________________________________________________________________________________________\n",
            "conv5_block3_add (Add)          (None, 10, 10, 2048) 0           conv5_block2_out[0][0]           \n",
            "                                                                 conv5_block3_3_bn[0][0]          \n",
            "__________________________________________________________________________________________________\n",
            "conv5_block3_out (Activation)   (None, 10, 10, 2048) 0           conv5_block3_add[0][0]           \n",
            "==================================================================================================\n",
            "Total params: 23,587,712\n",
            "Trainable params: 0\n",
            "Non-trainable params: 23,587,712\n",
            "__________________________________________________________________________________________________\n"
          ],
          "name": "stdout"
        }
      ]
    },
    {
      "cell_type": "code",
      "metadata": {
        "colab": {
          "base_uri": "https://localhost:8080/"
        },
        "id": "hMKyAO9yesb0",
        "outputId": "26c3f2aa-6d85-41ec-9570-54851c809773"
      },
      "source": [
        "# Inserindo novas camadas de saída com o número de classes adequadas para este problema\n",
        "resnet50_full_model = tf.keras.Sequential([\n",
        "  resnet50_model,\n",
        "  tf.keras.layers.GlobalAveragePooling2D(),\n",
        "  # Only 1 output neuron. It will contain a value from 0-1 where 0 for 1 class ('') and 1 for the other ('')\n",
        "  tf.keras.layers.Dense(1, activation='sigmoid')\n",
        "])\n",
        "\n",
        "resnet50_full_model.summary()"
      ],
      "execution_count": null,
      "outputs": [
        {
          "output_type": "stream",
          "text": [
            "Model: \"sequential\"\n",
            "_________________________________________________________________\n",
            "Layer (type)                 Output Shape              Param #   \n",
            "=================================================================\n",
            "resnet50 (Functional)        (None, 10, 10, 2048)      23587712  \n",
            "_________________________________________________________________\n",
            "global_average_pooling2d (Gl (None, 2048)              0         \n",
            "_________________________________________________________________\n",
            "dense (Dense)                (None, 1)                 2049      \n",
            "=================================================================\n",
            "Total params: 23,589,761\n",
            "Trainable params: 2,049\n",
            "Non-trainable params: 23,587,712\n",
            "_________________________________________________________________\n"
          ],
          "name": "stdout"
        }
      ]
    },
    {
      "cell_type": "code",
      "metadata": {
        "id": "rl5ogR6ne27H"
      },
      "source": [
        "# Since there are two classes, use a binary cross-entropy loss with from_logits=True since the model provides a linear output.\n",
        "resnet50_full_model.compile(\n",
        "    # loss='categorical_crossentropy', \n",
        "    # loss='binary_crossentropy',\n",
        "    loss=tf.keras.losses.BinaryCrossentropy(from_logits=True),\n",
        "    metrics=METRICS,\n",
        "    weighted_metrics=METRICS,\n",
        "    optimizer=optimizer\n",
        "    )"
      ],
      "execution_count": null,
      "outputs": []
    },
    {
      "cell_type": "code",
      "metadata": {
        "colab": {
          "base_uri": "https://localhost:8080/"
        },
        "id": "L2Py2L41yb5o",
        "outputId": "9cec29f3-6508-439b-b731-621e75ba60ab"
      },
      "source": [
        "trainable_variables = len(resnet50_full_model.trainable_variables)\n",
        "print(\"Trainable Variables: \", trainable_variables)"
      ],
      "execution_count": null,
      "outputs": [
        {
          "output_type": "stream",
          "text": [
            "Trainable Variables:  2\n"
          ],
          "name": "stdout"
        }
      ]
    },
    {
      "cell_type": "code",
      "metadata": {
        "colab": {
          "base_uri": "https://localhost:8080/"
        },
        "id": "uTFg2p4oCyDg",
        "outputId": "caece909-f0af-4159-b5b4-171cb6702e56"
      },
      "source": [
        "# Treina o modelo\n",
        "history_restnet50 = resnet50_full_model.fit(resnet50_train_ds, \n",
        "      batch_size=batch_size,\n",
        "      epochs=epochs, \n",
        "      validation_data=resnet50_val_ds,\n",
        "      callbacks=callbacks,\n",
        "      class_weight=class_weights\n",
        "      )"
      ],
      "execution_count": null,
      "outputs": [
        {
          "output_type": "stream",
          "text": [
            "Epoch 1/100\n",
            "927/927 [==============================] - 188s 203ms/step - loss: 0.6936 - weighted_tp: 189.0219 - weighted_fp: 66.0987 - weighted_tn: 31022.4629 - weighted_fn: 87365.8047 - weighted_accuracy: 0.2631 - weighted_precision: 0.7409 - weighted_recall: 0.0022 - weighted_auc: 0.5196 - val_loss: 0.6910 - val_weighted_tp: 0.0000e+00 - val_weighted_fp: 0.0000e+00 - val_weighted_tn: 704.0000 - val_weighted_fn: 28950.0000 - val_weighted_accuracy: 0.0237 - val_weighted_precision: 0.0000e+00 - val_weighted_recall: 0.0000e+00 - val_weighted_auc: 0.5112\n",
            "Epoch 2/100\n",
            "927/927 [==============================] - 180s 194ms/step - loss: 0.6930 - weighted_tp: 1.5122 - weighted_fp: 0.0000e+00 - weighted_tn: 31088.5684 - weighted_fn: 87553.2891 - weighted_accuracy: 0.2620 - weighted_precision: 1.0000 - weighted_recall: 1.7271e-05 - weighted_auc: 0.5382 - val_loss: 0.6860 - val_weighted_tp: 0.0000e+00 - val_weighted_fp: 0.0000e+00 - val_weighted_tn: 704.0000 - val_weighted_fn: 28950.0000 - val_weighted_accuracy: 0.0237 - val_weighted_precision: 0.0000e+00 - val_weighted_recall: 0.0000e+00 - val_weighted_auc: 0.7459\n",
            "Epoch 3/100\n",
            "927/927 [==============================] - 179s 193ms/step - loss: 0.6928 - weighted_tp: 802.9652 - weighted_fp: 242.3620 - weighted_tn: 30846.2012 - weighted_fn: 86751.8125 - weighted_accuracy: 0.2668 - weighted_precision: 0.7681 - weighted_recall: 0.0092 - weighted_auc: 0.5185 - val_loss: 0.6927 - val_weighted_tp: 0.0000e+00 - val_weighted_fp: 0.0000e+00 - val_weighted_tn: 704.0000 - val_weighted_fn: 28950.0000 - val_weighted_accuracy: 0.0237 - val_weighted_precision: 0.0000e+00 - val_weighted_recall: 0.0000e+00 - val_weighted_auc: 0.5000\n",
            "Epoch 4/100\n",
            "927/927 [==============================] - 179s 193ms/step - loss: 0.6932 - weighted_tp: 753.0634 - weighted_fp: 308.4608 - weighted_tn: 30780.0977 - weighted_fn: 86801.7109 - weighted_accuracy: 0.2658 - weighted_precision: 0.7094 - weighted_recall: 0.0086 - weighted_auc: 0.5341 - val_loss: 0.6931 - val_weighted_tp: 0.0000e+00 - val_weighted_fp: 0.0000e+00 - val_weighted_tn: 704.0000 - val_weighted_fn: 28950.0000 - val_weighted_accuracy: 0.0237 - val_weighted_precision: 0.0000e+00 - val_weighted_recall: 0.0000e+00 - val_weighted_auc: 0.5000\n",
            "Epoch 5/100\n",
            "927/927 [==============================] - 178s 192ms/step - loss: 0.6934 - weighted_tp: 0.0000e+00 - weighted_fp: 0.0000e+00 - weighted_tn: 31088.5801 - weighted_fn: 87554.7969 - weighted_accuracy: 0.2620 - weighted_precision: 0.0000e+00 - weighted_recall: 0.0000e+00 - weighted_auc: 0.5000 - val_loss: 0.6931 - val_weighted_tp: 0.0000e+00 - val_weighted_fp: 0.0000e+00 - val_weighted_tn: 704.0000 - val_weighted_fn: 28950.0000 - val_weighted_accuracy: 0.0237 - val_weighted_precision: 0.0000e+00 - val_weighted_recall: 0.0000e+00 - val_weighted_auc: 0.5000\n",
            "Epoch 6/100\n",
            "927/927 [==============================] - 176s 189ms/step - loss: 0.6934 - weighted_tp: 0.0000e+00 - weighted_fp: 0.0000e+00 - weighted_tn: 31088.5684 - weighted_fn: 87554.8125 - weighted_accuracy: 0.2620 - weighted_precision: 0.0000e+00 - weighted_recall: 0.0000e+00 - weighted_auc: 0.5000 - val_loss: 0.6927 - val_weighted_tp: 0.0000e+00 - val_weighted_fp: 0.0000e+00 - val_weighted_tn: 704.0000 - val_weighted_fn: 28950.0000 - val_weighted_accuracy: 0.0237 - val_weighted_precision: 0.0000e+00 - val_weighted_recall: 0.0000e+00 - val_weighted_auc: 0.5000\n",
            "Epoch 7/100\n",
            "927/927 [==============================] - 176s 189ms/step - loss: 0.6877 - weighted_tp: 5604.1216 - weighted_fp: 969.4478 - weighted_tn: 30119.1035 - weighted_fn: 81950.6406 - weighted_accuracy: 0.3011 - weighted_precision: 0.8525 - weighted_recall: 0.0640 - weighted_auc: 0.5680 - val_loss: 0.4134 - val_weighted_tp: 28140.0000 - val_weighted_fp: 564.0000 - val_weighted_tn: 140.0000 - val_weighted_fn: 810.0000 - val_weighted_accuracy: 0.9537 - val_weighted_precision: 0.9804 - val_weighted_recall: 0.9720 - val_weighted_auc: 0.8219\n",
            "Epoch 8/100\n",
            "927/927 [==============================] - 176s 189ms/step - loss: 0.6777 - weighted_tp: 12399.8379 - weighted_fp: 1344.0074 - weighted_tn: 29744.5566 - weighted_fn: 75154.9375 - weighted_accuracy: 0.3552 - weighted_precision: 0.9022 - weighted_recall: 0.1416 - weighted_auc: 0.6652 - val_loss: 0.5287 - val_weighted_tp: 3634.0000 - val_weighted_fp: 6.0000 - val_weighted_tn: 698.0000 - val_weighted_fn: 25316.0000 - val_weighted_accuracy: 0.1461 - val_weighted_precision: 0.9984 - val_weighted_recall: 0.1255 - val_weighted_auc: 0.8431\n",
            "Epoch 9/100\n",
            "927/927 [==============================] - 175s 189ms/step - loss: 0.6695 - weighted_tp: 21351.8984 - weighted_fp: 2071.0942 - weighted_tn: 29017.4590 - weighted_fn: 66202.8359 - weighted_accuracy: 0.4245 - weighted_precision: 0.9116 - weighted_recall: 0.2439 - weighted_auc: 0.7271 - val_loss: 0.6038 - val_weighted_tp: 0.0000e+00 - val_weighted_fp: 0.0000e+00 - val_weighted_tn: 704.0000 - val_weighted_fn: 28950.0000 - val_weighted_accuracy: 0.0237 - val_weighted_precision: 0.0000e+00 - val_weighted_recall: 0.0000e+00 - val_weighted_auc: 0.8430\n",
            "Epoch 10/100\n",
            "927/927 [==============================] - 174s 188ms/step - loss: 0.6607 - weighted_tp: 28991.4336 - weighted_fp: 1828.7328 - weighted_tn: 29259.8203 - weighted_fn: 58563.4648 - weighted_accuracy: 0.4910 - weighted_precision: 0.9407 - weighted_recall: 0.3311 - weighted_auc: 0.7961 - val_loss: 0.5070 - val_weighted_tp: 11756.0000 - val_weighted_fp: 8.0000 - val_weighted_tn: 696.0000 - val_weighted_fn: 17194.0000 - val_weighted_accuracy: 0.4199 - val_weighted_precision: 0.9993 - val_weighted_recall: 0.4061 - val_weighted_auc: 0.8502\n",
            "Epoch 11/100\n",
            "927/927 [==============================] - 174s 188ms/step - loss: 0.6565 - weighted_tp: 34959.9609 - weighted_fp: 2269.3916 - weighted_tn: 28819.1484 - weighted_fn: 52594.9492 - weighted_accuracy: 0.5376 - weighted_precision: 0.9390 - weighted_recall: 0.3993 - weighted_auc: 0.8052 - val_loss: 0.5242 - val_weighted_tp: 8248.0000 - val_weighted_fp: 10.0000 - val_weighted_tn: 694.0000 - val_weighted_fn: 20702.0000 - val_weighted_accuracy: 0.3015 - val_weighted_precision: 0.9988 - val_weighted_recall: 0.2849 - val_weighted_auc: 0.8553\n",
            "Epoch 12/100\n",
            "927/927 [==============================] - 178s 192ms/step - loss: 0.6526 - weighted_tp: 39886.6484 - weighted_fp: 3040.5447 - weighted_tn: 28048.0020 - weighted_fn: 47668.3320 - weighted_accuracy: 0.5726 - weighted_precision: 0.9292 - weighted_recall: 0.4556 - weighted_auc: 0.8173 - val_loss: 0.5322 - val_weighted_tp: 6624.0000 - val_weighted_fp: 4.0000 - val_weighted_tn: 700.0000 - val_weighted_fn: 22326.0000 - val_weighted_accuracy: 0.2470 - val_weighted_precision: 0.9994 - val_weighted_recall: 0.2288 - val_weighted_auc: 0.8592\n",
            "Epoch 13/100\n",
            "927/927 [==============================] - 172s 185ms/step - loss: 0.6483 - weighted_tp: 42602.5039 - weighted_fp: 2688.0176 - weighted_tn: 28400.5391 - weighted_fn: 44952.4766 - weighted_accuracy: 0.5985 - weighted_precision: 0.9406 - weighted_recall: 0.4866 - weighted_auc: 0.8281 - val_loss: 0.4340 - val_weighted_tp: 23760.0000 - val_weighted_fp: 192.0000 - val_weighted_tn: 512.0000 - val_weighted_fn: 5190.0000 - val_weighted_accuracy: 0.8185 - val_weighted_precision: 0.9920 - val_weighted_recall: 0.8207 - val_weighted_auc: 0.8598\n",
            "Epoch 14/100\n",
            "927/927 [==============================] - 170s 183ms/step - loss: 0.6439 - weighted_tp: 47058.8633 - weighted_fp: 2886.3142 - weighted_tn: 28202.2441 - weighted_fn: 40496.0625 - weighted_accuracy: 0.6343 - weighted_precision: 0.9422 - weighted_recall: 0.5375 - weighted_auc: 0.8469 - val_loss: 0.4578 - val_weighted_tp: 20574.0000 - val_weighted_fp: 102.0000 - val_weighted_tn: 602.0000 - val_weighted_fn: 8376.0000 - val_weighted_accuracy: 0.7141 - val_weighted_precision: 0.9951 - val_weighted_recall: 0.7107 - val_weighted_auc: 0.8675\n",
            "Epoch 15/100\n",
            "927/927 [==============================] - 174s 188ms/step - loss: 0.6413 - weighted_tp: 49776.2812 - weighted_fp: 2952.4128 - weighted_tn: 28136.1328 - weighted_fn: 37778.7109 - weighted_accuracy: 0.6567 - weighted_precision: 0.9440 - weighted_recall: 0.5685 - weighted_auc: 0.8508 - val_loss: 0.5144 - val_weighted_tp: 11134.0000 - val_weighted_fp: 12.0000 - val_weighted_tn: 692.0000 - val_weighted_fn: 17816.0000 - val_weighted_accuracy: 0.3988 - val_weighted_precision: 0.9989 - val_weighted_recall: 0.3846 - val_weighted_auc: 0.8767\n",
            "Epoch 16/100\n",
            "927/927 [==============================] - 178s 192ms/step - loss: 0.6397 - weighted_tp: 51221.9570 - weighted_fp: 3393.0720 - weighted_tn: 27695.4863 - weighted_fn: 36333.0547 - weighted_accuracy: 0.6652 - weighted_precision: 0.9379 - weighted_recall: 0.5850 - weighted_auc: 0.8544 - val_loss: 0.4578 - val_weighted_tp: 20506.0000 - val_weighted_fp: 86.0000 - val_weighted_tn: 618.0000 - val_weighted_fn: 8444.0000 - val_weighted_accuracy: 0.7123 - val_weighted_precision: 0.9958 - val_weighted_recall: 0.7083 - val_weighted_auc: 0.8793\n",
            "Epoch 17/100\n",
            "927/927 [==============================] - 179s 193ms/step - loss: 0.6346 - weighted_tp: 53060.7227 - weighted_fp: 2886.3147 - weighted_tn: 28202.2461 - weighted_fn: 34494.2305 - weighted_accuracy: 0.6849 - weighted_precision: 0.9484 - weighted_recall: 0.6060 - weighted_auc: 0.8692 - val_loss: 0.3900 - val_weighted_tp: 26808.0000 - val_weighted_fp: 306.0000 - val_weighted_tn: 398.0000 - val_weighted_fn: 2142.0000 - val_weighted_accuracy: 0.9174 - val_weighted_precision: 0.9887 - val_weighted_recall: 0.9260 - val_weighted_auc: 0.8870\n",
            "Epoch 18/100\n",
            "927/927 [==============================] - 179s 193ms/step - loss: 0.6331 - weighted_tp: 55400.0352 - weighted_fp: 3018.5120 - weighted_tn: 28070.0508 - weighted_fn: 32154.9238 - weighted_accuracy: 0.7035 - weighted_precision: 0.9483 - weighted_recall: 0.6327 - weighted_auc: 0.8750 - val_loss: 0.4857 - val_weighted_tp: 16214.0000 - val_weighted_fp: 28.0000 - val_weighted_tn: 676.0000 - val_weighted_fn: 12736.0000 - val_weighted_accuracy: 0.5696 - val_weighted_precision: 0.9983 - val_weighted_recall: 0.5601 - val_weighted_auc: 0.9037\n",
            "Epoch 19/100\n",
            "927/927 [==============================] - 179s 193ms/step - loss: 0.6289 - weighted_tp: 56434.3945 - weighted_fp: 3084.6106 - weighted_tn: 28003.9492 - weighted_fn: 31120.5645 - weighted_accuracy: 0.7117 - weighted_precision: 0.9482 - weighted_recall: 0.6446 - weighted_auc: 0.8796 - val_loss: 0.4417 - val_weighted_tp: 22184.0000 - val_weighted_fp: 80.0000 - val_weighted_tn: 624.0000 - val_weighted_fn: 6766.0000 - val_weighted_accuracy: 0.7691 - val_weighted_precision: 0.9964 - val_weighted_recall: 0.7663 - val_weighted_auc: 0.9018\n",
            "Epoch 20/100\n",
            "927/927 [==============================] - 179s 193ms/step - loss: 0.6281 - weighted_tp: 57680.3906 - weighted_fp: 3260.8743 - weighted_tn: 27827.6699 - weighted_fn: 29874.5527 - weighted_accuracy: 0.7207 - weighted_precision: 0.9465 - weighted_recall: 0.6588 - weighted_auc: 0.8829 - val_loss: 0.4123 - val_weighted_tp: 25034.0000 - val_weighted_fp: 170.0000 - val_weighted_tn: 534.0000 - val_weighted_fn: 3916.0000 - val_weighted_accuracy: 0.8622 - val_weighted_precision: 0.9933 - val_weighted_recall: 0.8647 - val_weighted_auc: 0.9072\n",
            "Epoch 21/100\n",
            "927/927 [==============================] - 173s 186ms/step - loss: 0.6251 - weighted_tp: 59281.7578 - weighted_fp: 3304.9402 - weighted_tn: 27783.6152 - weighted_fn: 28273.1582 - weighted_accuracy: 0.7338 - weighted_precision: 0.9472 - weighted_recall: 0.6771 - weighted_auc: 0.8891 - val_loss: 0.4721 - val_weighted_tp: 18080.0000 - val_weighted_fp: 32.0000 - val_weighted_tn: 672.0000 - val_weighted_fn: 10870.0000 - val_weighted_accuracy: 0.6324 - val_weighted_precision: 0.9982 - val_weighted_recall: 0.6245 - val_weighted_auc: 0.9089\n",
            "Epoch 22/100\n",
            "927/927 [==============================] - 174s 188ms/step - loss: 0.6223 - weighted_tp: 60846.8711 - weighted_fp: 3194.7756 - weighted_tn: 27893.7891 - weighted_fn: 26708.0430 - weighted_accuracy: 0.7480 - weighted_precision: 0.9501 - weighted_recall: 0.6950 - weighted_auc: 0.8969 - val_loss: 0.4409 - val_weighted_tp: 22088.0000 - val_weighted_fp: 74.0000 - val_weighted_tn: 630.0000 - val_weighted_fn: 6862.0000 - val_weighted_accuracy: 0.7661 - val_weighted_precision: 0.9967 - val_weighted_recall: 0.7630 - val_weighted_auc: 0.9088\n",
            "Epoch 23/100\n",
            "927/927 [==============================] - 176s 190ms/step - loss: 0.6209 - weighted_tp: 61430.5977 - weighted_fp: 2908.3467 - weighted_tn: 28180.2070 - weighted_fn: 26124.3301 - weighted_accuracy: 0.7553 - weighted_precision: 0.9548 - weighted_recall: 0.7016 - weighted_auc: 0.9013 - val_loss: 0.5127 - val_weighted_tp: 11612.0000 - val_weighted_fp: 8.0000 - val_weighted_tn: 696.0000 - val_weighted_fn: 17338.0000 - val_weighted_accuracy: 0.4151 - val_weighted_precision: 0.9993 - val_weighted_recall: 0.4011 - val_weighted_auc: 0.9182\n",
            "Epoch 24/100\n",
            "927/927 [==============================] - 176s 190ms/step - loss: 0.6186 - weighted_tp: 61807.1445 - weighted_fp: 3194.7754 - weighted_tn: 27893.7832 - weighted_fn: 25747.8535 - weighted_accuracy: 0.7561 - weighted_precision: 0.9509 - weighted_recall: 0.7059 - weighted_auc: 0.9019 - val_loss: 0.5471 - val_weighted_tp: 5908.0000 - val_weighted_fp: 6.0000 - val_weighted_tn: 698.0000 - val_weighted_fn: 23042.0000 - val_weighted_accuracy: 0.2228 - val_weighted_precision: 0.9990 - val_weighted_recall: 0.2041 - val_weighted_auc: 0.9209\n",
            "Epoch 25/100\n",
            "927/927 [==============================] - 178s 192ms/step - loss: 0.6162 - weighted_tp: 63939.2734 - weighted_fp: 3018.5120 - weighted_tn: 28070.0312 - weighted_fn: 23615.6562 - weighted_accuracy: 0.7755 - weighted_precision: 0.9549 - weighted_recall: 0.7303 - weighted_auc: 0.9116 - val_loss: 0.4721 - val_weighted_tp: 17964.0000 - val_weighted_fp: 28.0000 - val_weighted_tn: 676.0000 - val_weighted_fn: 10986.0000 - val_weighted_accuracy: 0.6286 - val_weighted_precision: 0.9984 - val_weighted_recall: 0.6205 - val_weighted_auc: 0.9256\n",
            "Epoch 26/100\n",
            "927/927 [==============================] - 178s 192ms/step - loss: 0.6161 - weighted_tp: 64214.5117 - weighted_fp: 2908.3474 - weighted_tn: 28180.1992 - weighted_fn: 23340.4375 - weighted_accuracy: 0.7788 - weighted_precision: 0.9567 - weighted_recall: 0.7334 - weighted_auc: 0.9126 - val_loss: 0.5108 - val_weighted_tp: 11784.0000 - val_weighted_fp: 10.0000 - val_weighted_tn: 694.0000 - val_weighted_fn: 17166.0000 - val_weighted_accuracy: 0.4208 - val_weighted_precision: 0.9992 - val_weighted_recall: 0.4070 - val_weighted_auc: 0.9277\n",
            "Epoch 27/100\n",
            "927/927 [==============================] - 179s 193ms/step - loss: 0.6143 - weighted_tp: 64736.2422 - weighted_fp: 2952.4133 - weighted_tn: 28136.1348 - weighted_fn: 22818.7344 - weighted_accuracy: 0.7828 - weighted_precision: 0.9564 - weighted_recall: 0.7394 - weighted_auc: 0.9147 - val_loss: 0.4084 - val_weighted_tp: 25262.0000 - val_weighted_fp: 112.0000 - val_weighted_tn: 592.0000 - val_weighted_fn: 3688.0000 - val_weighted_accuracy: 0.8719 - val_weighted_precision: 0.9956 - val_weighted_recall: 0.8726 - val_weighted_auc: 0.9363\n"
          ],
          "name": "stdout"
        }
      ]
    },
    {
      "cell_type": "code",
      "metadata": {
        "id": "xkmJpjX_yUNw",
        "colab": {
          "base_uri": "https://localhost:8080/"
        },
        "outputId": "fde21373-80b9-4e1c-8153-070f75539acf"
      },
      "source": [
        "history_restnet50.history"
      ],
      "execution_count": null,
      "outputs": [
        {
          "output_type": "execute_result",
          "data": {
            "text/plain": [
              "{'loss': [0.6935538053512573,\n",
              "  0.693049967288971,\n",
              "  0.6927933096885681,\n",
              "  0.6932340264320374,\n",
              "  0.6933859586715698,\n",
              "  0.6933683156967163,\n",
              "  0.6877113580703735,\n",
              "  0.677737295627594,\n",
              "  0.6694701910018921,\n",
              "  0.6607413291931152,\n",
              "  0.6565262079238892,\n",
              "  0.6526439785957336,\n",
              "  0.6483105421066284,\n",
              "  0.6439325213432312,\n",
              "  0.6412708759307861,\n",
              "  0.639724612236023,\n",
              "  0.6346046328544617,\n",
              "  0.6331214904785156,\n",
              "  0.6289004683494568,\n",
              "  0.628123939037323,\n",
              "  0.6251436471939087,\n",
              "  0.6222922205924988,\n",
              "  0.6209237575531006,\n",
              "  0.6185948848724365,\n",
              "  0.6161717772483826,\n",
              "  0.6160760521888733,\n",
              "  0.6143131256103516],\n",
              " 'val_loss': [0.6909642219543457,\n",
              "  0.6860195398330688,\n",
              "  0.6926662921905518,\n",
              "  0.6930873990058899,\n",
              "  0.6930564641952515,\n",
              "  0.6926687955856323,\n",
              "  0.41339096426963806,\n",
              "  0.5287112593650818,\n",
              "  0.6037586331367493,\n",
              "  0.5070234537124634,\n",
              "  0.5241842269897461,\n",
              "  0.5322474241256714,\n",
              "  0.4339597225189209,\n",
              "  0.4577936828136444,\n",
              "  0.5143879652023315,\n",
              "  0.45780783891677856,\n",
              "  0.39003121852874756,\n",
              "  0.4857199192047119,\n",
              "  0.44169172644615173,\n",
              "  0.41226306557655334,\n",
              "  0.4721376597881317,\n",
              "  0.44092029333114624,\n",
              "  0.5126862525939941,\n",
              "  0.5471364259719849,\n",
              "  0.4720923602581024,\n",
              "  0.5108150243759155,\n",
              "  0.4084088206291199],\n",
              " 'val_weighted_accuracy': [0.02374047413468361,\n",
              "  0.02374047413468361,\n",
              "  0.02374047413468361,\n",
              "  0.02374047413468361,\n",
              "  0.02374047413468361,\n",
              "  0.02374047413468361,\n",
              "  0.9536656141281128,\n",
              "  0.14608484506607056,\n",
              "  0.02374047413468361,\n",
              "  0.41990962624549866,\n",
              "  0.3015444874763489,\n",
              "  0.24698185920715332,\n",
              "  0.8185067772865295,\n",
              "  0.7141026258468628,\n",
              "  0.39879947900772095,\n",
              "  0.7123491168022156,\n",
              "  0.9174479246139526,\n",
              "  0.5695690512657166,\n",
              "  0.7691373825073242,\n",
              "  0.8622108101844788,\n",
              "  0.6323598623275757,\n",
              "  0.7661023736000061,\n",
              "  0.4150536060333252,\n",
              "  0.22276927530765533,\n",
              "  0.6285830140113831,\n",
              "  0.42078641057014465,\n",
              "  0.8718553781509399],\n",
              " 'val_weighted_auc': [0.511226236820221,\n",
              "  0.7459356188774109,\n",
              "  0.5,\n",
              "  0.5,\n",
              "  0.5,\n",
              "  0.5,\n",
              "  0.821929395198822,\n",
              "  0.8430631160736084,\n",
              "  0.8430168628692627,\n",
              "  0.8501763343811035,\n",
              "  0.8552895188331604,\n",
              "  0.8591614961624146,\n",
              "  0.8598150014877319,\n",
              "  0.8674502968788147,\n",
              "  0.8766878843307495,\n",
              "  0.8793368339538574,\n",
              "  0.8870089054107666,\n",
              "  0.9037101864814758,\n",
              "  0.9017542600631714,\n",
              "  0.9072060585021973,\n",
              "  0.9088531732559204,\n",
              "  0.9087644219398499,\n",
              "  0.9182191491127014,\n",
              "  0.9209386706352234,\n",
              "  0.9256094694137573,\n",
              "  0.9276599287986755,\n",
              "  0.9362503290176392],\n",
              " 'val_weighted_fn': [28950.0,\n",
              "  28950.0,\n",
              "  28950.0,\n",
              "  28950.0,\n",
              "  28950.0,\n",
              "  28950.0,\n",
              "  810.0,\n",
              "  25316.0,\n",
              "  28950.0,\n",
              "  17194.0,\n",
              "  20702.0,\n",
              "  22326.0,\n",
              "  5190.0,\n",
              "  8376.0,\n",
              "  17816.0,\n",
              "  8444.0,\n",
              "  2142.0,\n",
              "  12736.0,\n",
              "  6766.0,\n",
              "  3916.0,\n",
              "  10870.0,\n",
              "  6862.0,\n",
              "  17338.0,\n",
              "  23042.0,\n",
              "  10986.0,\n",
              "  17166.0,\n",
              "  3688.0],\n",
              " 'val_weighted_fp': [0.0,\n",
              "  0.0,\n",
              "  0.0,\n",
              "  0.0,\n",
              "  0.0,\n",
              "  0.0,\n",
              "  564.0,\n",
              "  6.0,\n",
              "  0.0,\n",
              "  8.0,\n",
              "  10.0,\n",
              "  4.0,\n",
              "  192.0,\n",
              "  102.0,\n",
              "  12.0,\n",
              "  86.0,\n",
              "  306.0,\n",
              "  28.0,\n",
              "  80.0,\n",
              "  170.0,\n",
              "  32.0,\n",
              "  74.0,\n",
              "  8.0,\n",
              "  6.0,\n",
              "  28.0,\n",
              "  10.0,\n",
              "  112.0],\n",
              " 'val_weighted_precision': [0.0,\n",
              "  0.0,\n",
              "  0.0,\n",
              "  0.0,\n",
              "  0.0,\n",
              "  0.0,\n",
              "  0.9803511500358582,\n",
              "  0.9983516335487366,\n",
              "  0.0,\n",
              "  0.9993199706077576,\n",
              "  0.9987890720367432,\n",
              "  0.9993965029716492,\n",
              "  0.991983950138092,\n",
              "  0.99506676197052,\n",
              "  0.9989233613014221,\n",
              "  0.9958236217498779,\n",
              "  0.988714337348938,\n",
              "  0.9982760548591614,\n",
              "  0.9964067339897156,\n",
              "  0.9932550191879272,\n",
              "  0.9982331991195679,\n",
              "  0.9966609477996826,\n",
              "  0.9993115067481995,\n",
              "  0.9989854693412781,\n",
              "  0.9984437823295593,\n",
              "  0.9991521239280701,\n",
              "  0.9955860376358032],\n",
              " 'val_weighted_recall': [0.0,\n",
              "  0.0,\n",
              "  0.0,\n",
              "  0.0,\n",
              "  0.0,\n",
              "  0.0,\n",
              "  0.9720207452774048,\n",
              "  0.1255267709493637,\n",
              "  0.0,\n",
              "  0.4060794413089752,\n",
              "  0.28490501642227173,\n",
              "  0.22880828380584717,\n",
              "  0.8207253813743591,\n",
              "  0.7106735706329346,\n",
              "  0.3845941424369812,\n",
              "  0.708324670791626,\n",
              "  0.9260103702545166,\n",
              "  0.5600690841674805,\n",
              "  0.7662867307662964,\n",
              "  0.8647323250770569,\n",
              "  0.6245250701904297,\n",
              "  0.7629706263542175,\n",
              "  0.4011053442955017,\n",
              "  0.20407599210739136,\n",
              "  0.620518147945404,\n",
              "  0.4070466458797455,\n",
              "  0.872607946395874],\n",
              " 'val_weighted_tn': [704.0,\n",
              "  704.0,\n",
              "  704.0,\n",
              "  704.0,\n",
              "  704.0,\n",
              "  704.0,\n",
              "  140.0,\n",
              "  698.0,\n",
              "  704.0,\n",
              "  696.0,\n",
              "  694.0,\n",
              "  700.0,\n",
              "  512.0,\n",
              "  602.0,\n",
              "  692.0,\n",
              "  618.0,\n",
              "  398.0,\n",
              "  676.0,\n",
              "  624.0,\n",
              "  534.0,\n",
              "  672.0,\n",
              "  630.0,\n",
              "  696.0,\n",
              "  698.0,\n",
              "  676.0,\n",
              "  694.0,\n",
              "  592.0],\n",
              " 'val_weighted_tp': [0.0,\n",
              "  0.0,\n",
              "  0.0,\n",
              "  0.0,\n",
              "  0.0,\n",
              "  0.0,\n",
              "  28140.0,\n",
              "  3634.0,\n",
              "  0.0,\n",
              "  11756.0,\n",
              "  8248.0,\n",
              "  6624.0,\n",
              "  23760.0,\n",
              "  20574.0,\n",
              "  11134.0,\n",
              "  20506.0,\n",
              "  26808.0,\n",
              "  16214.0,\n",
              "  22184.0,\n",
              "  25034.0,\n",
              "  18080.0,\n",
              "  22088.0,\n",
              "  11612.0,\n",
              "  5908.0,\n",
              "  17964.0,\n",
              "  11784.0,\n",
              "  25262.0],\n",
              " 'weighted_accuracy': [0.26307034492492676,\n",
              "  0.26204708218574524,\n",
              "  0.2667595446109772,\n",
              "  0.2657816708087921,\n",
              "  0.26203444600105286,\n",
              "  0.2620343267917633,\n",
              "  0.30109795928001404,\n",
              "  0.35521918535232544,\n",
              "  0.42454418540000916,\n",
              "  0.49097803235054016,\n",
              "  0.5375702381134033,\n",
              "  0.5725955963134766,\n",
              "  0.5984582901000977,\n",
              "  0.6343480944633484,\n",
              "  0.6566950678825378,\n",
              "  0.6651660203933716,\n",
              "  0.6849358081817627,\n",
              "  0.7035384774208069,\n",
              "  0.7116996645927429,\n",
              "  0.7207160592079163,\n",
              "  0.7338427901268005,\n",
              "  0.7479628920555115,\n",
              "  0.7552964687347412,\n",
              "  0.7560557126998901,\n",
              "  0.7755123972892761,\n",
              "  0.7787606716156006,\n",
              "  0.7827875018119812],\n",
              " 'weighted_auc': [0.5196019411087036,\n",
              "  0.5381902456283569,\n",
              "  0.5184900760650635,\n",
              "  0.5340965390205383,\n",
              "  0.5,\n",
              "  0.5,\n",
              "  0.5679682493209839,\n",
              "  0.6651923060417175,\n",
              "  0.7271127700805664,\n",
              "  0.796112060546875,\n",
              "  0.80524080991745,\n",
              "  0.8172836899757385,\n",
              "  0.8280764222145081,\n",
              "  0.8468858599662781,\n",
              "  0.8507809638977051,\n",
              "  0.854446291923523,\n",
              "  0.8692095279693604,\n",
              "  0.8750357627868652,\n",
              "  0.8796036839485168,\n",
              "  0.8828881978988647,\n",
              "  0.8890812993049622,\n",
              "  0.8969413638114929,\n",
              "  0.9012962579727173,\n",
              "  0.9018502831459045,\n",
              "  0.911554753780365,\n",
              "  0.9125827550888062,\n",
              "  0.914743185043335],\n",
              " 'weighted_fn': [87365.8046875,\n",
              "  87553.2890625,\n",
              "  86751.8125,\n",
              "  86801.7109375,\n",
              "  87554.796875,\n",
              "  87554.8125,\n",
              "  81950.640625,\n",
              "  75154.9375,\n",
              "  66202.8359375,\n",
              "  58563.46484375,\n",
              "  52594.94921875,\n",
              "  47668.33203125,\n",
              "  44952.4765625,\n",
              "  40496.0625,\n",
              "  37778.7109375,\n",
              "  36333.0546875,\n",
              "  34494.23046875,\n",
              "  32154.923828125,\n",
              "  31120.564453125,\n",
              "  29874.552734375,\n",
              "  28273.158203125,\n",
              "  26708.04296875,\n",
              "  26124.330078125,\n",
              "  25747.853515625,\n",
              "  23615.65625,\n",
              "  23340.4375,\n",
              "  22818.734375],\n",
              " 'weighted_fp': [66.09872436523438,\n",
              "  0.0,\n",
              "  242.3620147705078,\n",
              "  308.46075439453125,\n",
              "  0.0,\n",
              "  0.0,\n",
              "  969.4478149414062,\n",
              "  1344.0074462890625,\n",
              "  2071.09423828125,\n",
              "  1828.7327880859375,\n",
              "  2269.3916015625,\n",
              "  3040.544677734375,\n",
              "  2688.017578125,\n",
              "  2886.314208984375,\n",
              "  2952.412841796875,\n",
              "  3393.072021484375,\n",
              "  2886.314697265625,\n",
              "  3018.511962890625,\n",
              "  3084.610595703125,\n",
              "  3260.874267578125,\n",
              "  3304.940185546875,\n",
              "  3194.775634765625,\n",
              "  2908.3466796875,\n",
              "  3194.775390625,\n",
              "  3018.511962890625,\n",
              "  2908.347412109375,\n",
              "  2952.413330078125],\n",
              " 'weighted_precision': [0.7409119009971619,\n",
              "  1.0,\n",
              "  0.7681471705436707,\n",
              "  0.7094171047210693,\n",
              "  0.0,\n",
              "  0.0,\n",
              "  0.8525233864784241,\n",
              "  0.9022102355957031,\n",
              "  0.9115785956382751,\n",
              "  0.9406644105911255,\n",
              "  0.9390429854393005,\n",
              "  0.929169774055481,\n",
              "  0.9406493902206421,\n",
              "  0.9422103762626648,\n",
              "  0.9440074563026428,\n",
              "  0.9378729462623596,\n",
              "  0.9484098553657532,\n",
              "  0.9483295679092407,\n",
              "  0.9481743574142456,\n",
              "  0.946491539478302,\n",
              "  0.9471942186355591,\n",
              "  0.9501140713691711,\n",
              "  0.9547964930534363,\n",
              "  0.9508510231971741,\n",
              "  0.9549190998077393,\n",
              "  0.9566712975502014,\n",
              "  0.9563824534416199],\n",
              " 'weighted_recall': [0.002158897928893566,\n",
              "  1.727118797134608e-05,\n",
              "  0.009171003475785255,\n",
              "  0.008601054549217224,\n",
              "  0.0,\n",
              "  0.0,\n",
              "  0.06400704383850098,\n",
              "  0.14162378013134003,\n",
              "  0.2438691407442093,\n",
              "  0.33112290501594543,\n",
              "  0.39929184317588806,\n",
              "  0.4555611312389374,\n",
              "  0.4865799844264984,\n",
              "  0.5374782085418701,\n",
              "  0.5685144662857056,\n",
              "  0.58502596616745,\n",
              "  0.6060276627540588,\n",
              "  0.6327458024024963,\n",
              "  0.6445596218109131,\n",
              "  0.6587907671928406,\n",
              "  0.6770808696746826,\n",
              "  0.6949566602706909,\n",
              "  0.7016234993934631,\n",
              "  0.7059236168861389,\n",
              "  0.7302761077880859,\n",
              "  0.7334195375442505,\n",
              "  0.7393782138824463],\n",
              " 'weighted_tn': [31022.462890625,\n",
              "  31088.568359375,\n",
              "  30846.201171875,\n",
              "  30780.09765625,\n",
              "  31088.580078125,\n",
              "  31088.568359375,\n",
              "  30119.103515625,\n",
              "  29744.556640625,\n",
              "  29017.458984375,\n",
              "  29259.8203125,\n",
              "  28819.1484375,\n",
              "  28048.001953125,\n",
              "  28400.5390625,\n",
              "  28202.244140625,\n",
              "  28136.1328125,\n",
              "  27695.486328125,\n",
              "  28202.24609375,\n",
              "  28070.05078125,\n",
              "  28003.94921875,\n",
              "  27827.669921875,\n",
              "  27783.615234375,\n",
              "  27893.7890625,\n",
              "  28180.20703125,\n",
              "  27893.783203125,\n",
              "  28070.03125,\n",
              "  28180.19921875,\n",
              "  28136.134765625],\n",
              " 'weighted_tp': [189.02194213867188,\n",
              "  1.5121755599975586,\n",
              "  802.9652099609375,\n",
              "  753.0634155273438,\n",
              "  0.0,\n",
              "  0.0,\n",
              "  5604.12158203125,\n",
              "  12399.837890625,\n",
              "  21351.8984375,\n",
              "  28991.43359375,\n",
              "  34959.9609375,\n",
              "  39886.6484375,\n",
              "  42602.50390625,\n",
              "  47058.86328125,\n",
              "  49776.28125,\n",
              "  51221.95703125,\n",
              "  53060.72265625,\n",
              "  55400.03515625,\n",
              "  56434.39453125,\n",
              "  57680.390625,\n",
              "  59281.7578125,\n",
              "  60846.87109375,\n",
              "  61430.59765625,\n",
              "  61807.14453125,\n",
              "  63939.2734375,\n",
              "  64214.51171875,\n",
              "  64736.2421875]}"
            ]
          },
          "metadata": {
            "tags": []
          },
          "execution_count": 30
        }
      ]
    },
    {
      "cell_type": "code",
      "metadata": {
        "id": "iSEHZOA11mPP",
        "colab": {
          "base_uri": "https://localhost:8080/",
          "height": 283
        },
        "outputId": "58d466e1-492d-4e25-c476-5408a6286e7a"
      },
      "source": [
        "plot_metrics(history_restnet50)"
      ],
      "execution_count": null,
      "outputs": [
        {
          "output_type": "display_data",
          "data": {
            "image/png": "[encoded data removed]",
            "text/plain": [
              "<Figure size 432x288 with 4 Axes>"
            ]
          },
          "metadata": {
            "tags": [],
            "needs_background": "light"
          }
        }
      ]
    },
    {
      "cell_type": "code",
      "metadata": {
        "id": "Ev9-Erh83eYa",
        "colab": {
          "base_uri": "https://localhost:8080/",
          "height": 654
        },
        "outputId": "e65cf39f-bb93-432f-91ba-198cf76699cd"
      },
      "source": [
        "cm = cm_calc(resnet50_full_model, resnet50_val_ds);\n",
        "balanced_acc = balanced_acc_calc(cm)\n",
        "plot_cm(cm)"
      ],
      "execution_count": null,
      "outputs": [
        {
          "output_type": "stream",
          "text": [
            "Matriz de confusão\n",
            "[[  352     0]\n",
            " [14475     0]]\n",
            "\n",
            "\n",
            "Matriz de confusão balanceada\n",
            "[[1. 0.]\n",
            " [1. 0.]]\n",
            "\n",
            "\n",
            "Acurácia balanceada: 0.5\n",
            "Mask Detected (True Negatives):  352\n",
            "Mask Incorrectly Detected (False Positives):  0\n",
            "No mask Missed (False Negatives):  14475\n",
            "No mask Detected (True Positives):  0\n",
            "Total Mask :  14475\n"
          ],
          "name": "stdout"
        },
        {
          "output_type": "display_data",
          "data": {
            "image/png": "[encoded data removed]",
            "text/plain": [
              "<Figure size 360x360 with 2 Axes>"
            ]
          },
          "metadata": {
            "tags": [],
            "needs_background": "light"
          }
        }
      ]
    },
    {
      "cell_type": "code",
      "metadata": {
        "id": "nJXxH-wvC5B7",
        "colab": {
          "base_uri": "https://localhost:8080/"
        },
        "outputId": "642f7590-3c8f-4d26-f0fb-aa1651359aec"
      },
      "source": [
        "# Avalia o modelo na validação\n",
        "score_full_restnet50 = resnet50_full_model.evaluate(\n",
        "    resnet50_val_ds,\n",
        "    verbose=1, \n",
        "    batch_size=batch_size\n",
        "    )\n",
        "\n",
        "print_score('Validation', score_full_restnet50)"
      ],
      "execution_count": null,
      "outputs": [
        {
          "output_type": "stream",
          "text": [
            "232/232 [==============================] - 36s 154ms/step - loss: 0.4092 - weighted_tp: 25032.0000 - weighted_fp: 110.0000 - weighted_tn: 594.0000 - weighted_fn: 3918.0000 - weighted_accuracy: 0.8642 - weighted_precision: 0.9956 - weighted_recall: 0.8647 - weighted_auc: 0.9317\n",
            "Validation metrics:\n",
            "loss: 0.40921536087989807\n",
            "tp: 25032.0\n",
            "fp: 110.0\n",
            "tn: 594.0\n",
            "fn: 3918.0\n",
            "accuracy: 0.8641667366027832\n",
            "precision: 0.995624840259552\n",
            "recall: 0.8646631836891174\n",
            "auc: 0.931673526763916\n"
          ],
          "name": "stdout"
        }
      ]
    },
    {
      "cell_type": "code",
      "metadata": {
        "id": "ky-e9polF1WP"
      },
      "source": [
        "# save model\n",
        "save_model(resnet50_full_model, \"resnet50_tf\")"
      ],
      "execution_count": null,
      "outputs": []
    },
    {
      "cell_type": "markdown",
      "metadata": {
        "id": "MgP-TRf-401T"
      },
      "source": [
        "### Fine tuning"
      ]
    },
    {
      "cell_type": "code",
      "metadata": {
        "id": "Kw1FsRX_42cC",
        "colab": {
          "base_uri": "https://localhost:8080/"
        },
        "outputId": "64c30db1-fff6-4d83-9501-583335de024f"
      },
      "source": [
        "# Descongela camadas pré-treinadas\n",
        "for layer in resnet50_model.layers:\n",
        "    layer.trainable = True\n",
        "\n",
        "# Since there are two classes, use a binary cross-entropy loss with from_logits=True since the model provides a linear output.\n",
        "resnet50_full_model.compile(\n",
        "    #loss='categorical_crossentropy', \n",
        "    #loss='binary_crossentropy',\n",
        "    loss=tf.keras.losses.BinaryCrossentropy(from_logits=True),\n",
        "    metrics=METRICS,\n",
        "    weighted_metrics=METRICS,\n",
        "    optimizer=optimizer\n",
        "    )\n",
        "    \n",
        "resnet50_full_model.summary()"
      ],
      "execution_count": null,
      "outputs": [
        {
          "output_type": "stream",
          "text": [
            "Model: \"sequential\"\n",
            "_________________________________________________________________\n",
            "Layer (type)                 Output Shape              Param #   \n",
            "=================================================================\n",
            "resnet50 (Functional)        (None, 10, 10, 2048)      23587712  \n",
            "_________________________________________________________________\n",
            "global_average_pooling2d (Gl (None, 2048)              0         \n",
            "_________________________________________________________________\n",
            "dense (Dense)                (None, 1)                 2049      \n",
            "=================================================================\n",
            "Total params: 23,589,761\n",
            "Trainable params: 23,536,641\n",
            "Non-trainable params: 53,120\n",
            "_________________________________________________________________\n"
          ],
          "name": "stdout"
        }
      ]
    },
    {
      "cell_type": "code",
      "metadata": {
        "id": "ZSfnm2yaJVSM",
        "colab": {
          "base_uri": "https://localhost:8080/"
        },
        "outputId": "f7176972-b5f0-4387-d473-018d380ff279"
      },
      "source": [
        "trainable_variables = len(resnet50_full_model.trainable_variables)\n",
        "print(\"Trainable Variables: \", trainable_variables)"
      ],
      "execution_count": null,
      "outputs": [
        {
          "output_type": "stream",
          "text": [
            "Trainable Variables:  214\n"
          ],
          "name": "stdout"
        }
      ]
    },
    {
      "cell_type": "code",
      "metadata": {
        "id": "NhonS8ky5z-l",
        "colab": {
          "base_uri": "https://localhost:8080/"
        },
        "outputId": "60b02f6d-c613-48d1-e5b2-72b93c592eb6"
      },
      "source": [
        "resnet50_unfreeze_history = resnet50_full_model.fit(\n",
        "    resnet50_train_ds, \n",
        "    batch_size=batch_size,\n",
        "    epochs=epochs, \n",
        "    validation_data=resnet50_val_ds,\n",
        "    callbacks=callbacks)"
      ],
      "execution_count": null,
      "outputs": [
        {
          "output_type": "stream",
          "text": [
            "Epoch 1/100\n",
            "927/927 [==============================] - 387s 417ms/step - loss: 0.6932 - weighted_weighted_tp: 25032.0000 - weighted_weighted_fp: 110.0000 - weighted_weighted_tn: 3416.0000 - weighted_weighted_fn: 119718.0000 - weighted_weighted_accuracy: 0.1919 - weighted_weighted_precision: 0.9956 - weighted_weighted_recall: 0.1729 - weighted_weighted_auc: 0.5210 - val_loss: 0.6931 - val_weighted_weighted_tp: 0.0000e+00 - val_weighted_weighted_fp: 0.0000e+00 - val_weighted_weighted_tn: 704.0000 - val_weighted_weighted_fn: 28950.0000 - val_weighted_weighted_accuracy: 0.0237 - val_weighted_weighted_precision: 0.0000e+00 - val_weighted_weighted_recall: 0.0000e+00 - val_weighted_weighted_auc: 0.5000\n",
            "Epoch 2/100\n",
            "927/927 [==============================] - 382s 412ms/step - loss: 0.6932 - weighted_weighted_tp: 0.0000e+00 - weighted_weighted_fp: 0.0000e+00 - weighted_weighted_tn: 2822.0000 - weighted_weighted_fn: 115800.0000 - weighted_weighted_accuracy: 0.0238 - weighted_weighted_precision: 0.0000e+00 - weighted_weighted_recall: 0.0000e+00 - weighted_weighted_auc: 0.5000 - val_loss: 0.6931 - val_weighted_weighted_tp: 0.0000e+00 - val_weighted_weighted_fp: 0.0000e+00 - val_weighted_weighted_tn: 704.0000 - val_weighted_weighted_fn: 28950.0000 - val_weighted_weighted_accuracy: 0.0237 - val_weighted_weighted_precision: 0.0000e+00 - val_weighted_weighted_recall: 0.0000e+00 - val_weighted_weighted_auc: 0.5000\n",
            "Epoch 3/100\n",
            "927/927 [==============================] - 383s 413ms/step - loss: 0.6932 - weighted_weighted_tp: 0.0000e+00 - weighted_weighted_fp: 0.0000e+00 - weighted_weighted_tn: 2822.0000 - weighted_weighted_fn: 115800.0000 - weighted_weighted_accuracy: 0.0238 - weighted_weighted_precision: 0.0000e+00 - weighted_weighted_recall: 0.0000e+00 - weighted_weighted_auc: 0.5000 - val_loss: 0.6931 - val_weighted_weighted_tp: 0.0000e+00 - val_weighted_weighted_fp: 0.0000e+00 - val_weighted_weighted_tn: 704.0000 - val_weighted_weighted_fn: 28950.0000 - val_weighted_weighted_accuracy: 0.0237 - val_weighted_weighted_precision: 0.0000e+00 - val_weighted_weighted_recall: 0.0000e+00 - val_weighted_weighted_auc: 0.5000\n",
            "Epoch 4/100\n",
            "927/927 [==============================] - 384s 414ms/step - loss: 0.6932 - weighted_weighted_tp: 0.0000e+00 - weighted_weighted_fp: 0.0000e+00 - weighted_weighted_tn: 2822.0000 - weighted_weighted_fn: 115800.0000 - weighted_weighted_accuracy: 0.0238 - weighted_weighted_precision: 0.0000e+00 - weighted_weighted_recall: 0.0000e+00 - weighted_weighted_auc: 0.5000 - val_loss: 0.6931 - val_weighted_weighted_tp: 0.0000e+00 - val_weighted_weighted_fp: 0.0000e+00 - val_weighted_weighted_tn: 704.0000 - val_weighted_weighted_fn: 28950.0000 - val_weighted_weighted_accuracy: 0.0237 - val_weighted_weighted_precision: 0.0000e+00 - val_weighted_weighted_recall: 0.0000e+00 - val_weighted_weighted_auc: 0.5000\n",
            "Epoch 5/100\n",
            "927/927 [==============================] - 384s 414ms/step - loss: 0.6932 - weighted_weighted_tp: 0.0000e+00 - weighted_weighted_fp: 0.0000e+00 - weighted_weighted_tn: 2822.0000 - weighted_weighted_fn: 115800.0000 - weighted_weighted_accuracy: 0.0238 - weighted_weighted_precision: 0.0000e+00 - weighted_weighted_recall: 0.0000e+00 - weighted_weighted_auc: 0.5000 - val_loss: 0.6931 - val_weighted_weighted_tp: 0.0000e+00 - val_weighted_weighted_fp: 0.0000e+00 - val_weighted_weighted_tn: 704.0000 - val_weighted_weighted_fn: 28950.0000 - val_weighted_weighted_accuracy: 0.0237 - val_weighted_weighted_precision: 0.0000e+00 - val_weighted_weighted_recall: 0.0000e+00 - val_weighted_weighted_auc: 0.5000\n",
            "Epoch 6/100\n",
            "927/927 [==============================] - 385s 415ms/step - loss: 0.6932 - weighted_weighted_tp: 0.0000e+00 - weighted_weighted_fp: 0.0000e+00 - weighted_weighted_tn: 2822.0000 - weighted_weighted_fn: 115800.0000 - weighted_weighted_accuracy: 0.0238 - weighted_weighted_precision: 0.0000e+00 - weighted_weighted_recall: 0.0000e+00 - weighted_weighted_auc: 0.5000 - val_loss: 0.6931 - val_weighted_weighted_tp: 0.0000e+00 - val_weighted_weighted_fp: 0.0000e+00 - val_weighted_weighted_tn: 704.0000 - val_weighted_weighted_fn: 28950.0000 - val_weighted_weighted_accuracy: 0.0237 - val_weighted_weighted_precision: 0.0000e+00 - val_weighted_weighted_recall: 0.0000e+00 - val_weighted_weighted_auc: 0.5000\n",
            "Epoch 7/100\n",
            "927/927 [==============================] - 382s 412ms/step - loss: 0.6932 - weighted_weighted_tp: 0.0000e+00 - weighted_weighted_fp: 0.0000e+00 - weighted_weighted_tn: 2822.0000 - weighted_weighted_fn: 115800.0000 - weighted_weighted_accuracy: 0.0238 - weighted_weighted_precision: 0.0000e+00 - weighted_weighted_recall: 0.0000e+00 - weighted_weighted_auc: 0.5000 - val_loss: 0.6931 - val_weighted_weighted_tp: 0.0000e+00 - val_weighted_weighted_fp: 0.0000e+00 - val_weighted_weighted_tn: 704.0000 - val_weighted_weighted_fn: 28950.0000 - val_weighted_weighted_accuracy: 0.0237 - val_weighted_weighted_precision: 0.0000e+00 - val_weighted_weighted_recall: 0.0000e+00 - val_weighted_weighted_auc: 0.5000\n",
            "Epoch 8/100\n",
            "927/927 [==============================] - 381s 411ms/step - loss: 0.6932 - weighted_weighted_tp: 0.0000e+00 - weighted_weighted_fp: 0.0000e+00 - weighted_weighted_tn: 2822.0000 - weighted_weighted_fn: 115800.0000 - weighted_weighted_accuracy: 0.0238 - weighted_weighted_precision: 0.0000e+00 - weighted_weighted_recall: 0.0000e+00 - weighted_weighted_auc: 0.5000 - val_loss: 0.6931 - val_weighted_weighted_tp: 0.0000e+00 - val_weighted_weighted_fp: 0.0000e+00 - val_weighted_weighted_tn: 704.0000 - val_weighted_weighted_fn: 28950.0000 - val_weighted_weighted_accuracy: 0.0237 - val_weighted_weighted_precision: 0.0000e+00 - val_weighted_weighted_recall: 0.0000e+00 - val_weighted_weighted_auc: 0.5000\n",
            "Epoch 9/100\n",
            "927/927 [==============================] - 380s 410ms/step - loss: 0.6932 - weighted_weighted_tp: 0.0000e+00 - weighted_weighted_fp: 0.0000e+00 - weighted_weighted_tn: 2822.0000 - weighted_weighted_fn: 115800.0000 - weighted_weighted_accuracy: 0.0238 - weighted_weighted_precision: 0.0000e+00 - weighted_weighted_recall: 0.0000e+00 - weighted_weighted_auc: 0.5000 - val_loss: 0.6931 - val_weighted_weighted_tp: 0.0000e+00 - val_weighted_weighted_fp: 0.0000e+00 - val_weighted_weighted_tn: 704.0000 - val_weighted_weighted_fn: 28950.0000 - val_weighted_weighted_accuracy: 0.0237 - val_weighted_weighted_precision: 0.0000e+00 - val_weighted_weighted_recall: 0.0000e+00 - val_weighted_weighted_auc: 0.5000\n",
            "Epoch 10/100\n",
            "927/927 [==============================] - 379s 409ms/step - loss: 0.6932 - weighted_weighted_tp: 0.0000e+00 - weighted_weighted_fp: 0.0000e+00 - weighted_weighted_tn: 2822.0000 - weighted_weighted_fn: 115800.0000 - weighted_weighted_accuracy: 0.0238 - weighted_weighted_precision: 0.0000e+00 - weighted_weighted_recall: 0.0000e+00 - weighted_weighted_auc: 0.5000 - val_loss: 0.6931 - val_weighted_weighted_tp: 0.0000e+00 - val_weighted_weighted_fp: 0.0000e+00 - val_weighted_weighted_tn: 704.0000 - val_weighted_weighted_fn: 28950.0000 - val_weighted_weighted_accuracy: 0.0237 - val_weighted_weighted_precision: 0.0000e+00 - val_weighted_weighted_recall: 0.0000e+00 - val_weighted_weighted_auc: 0.5000\n",
            "Epoch 11/100\n",
            "927/927 [==============================] - 379s 409ms/step - loss: 0.6932 - weighted_weighted_tp: 0.0000e+00 - weighted_weighted_fp: 0.0000e+00 - weighted_weighted_tn: 2822.0000 - weighted_weighted_fn: 115800.0000 - weighted_weighted_accuracy: 0.0238 - weighted_weighted_precision: 0.0000e+00 - weighted_weighted_recall: 0.0000e+00 - weighted_weighted_auc: 0.5000 - val_loss: 0.6931 - val_weighted_weighted_tp: 0.0000e+00 - val_weighted_weighted_fp: 0.0000e+00 - val_weighted_weighted_tn: 704.0000 - val_weighted_weighted_fn: 28950.0000 - val_weighted_weighted_accuracy: 0.0237 - val_weighted_weighted_precision: 0.0000e+00 - val_weighted_weighted_recall: 0.0000e+00 - val_weighted_weighted_auc: 0.5000\n"
          ],
          "name": "stdout"
        }
      ]
    },
    {
      "cell_type": "code",
      "metadata": {
        "id": "X6AtWAq1JaAD",
        "colab": {
          "base_uri": "https://localhost:8080/"
        },
        "outputId": "8b8dea17-a527-4445-a6d4-47a799a27a7a"
      },
      "source": [
        "history_restnet50.history"
      ],
      "execution_count": null,
      "outputs": [
        {
          "output_type": "execute_result",
          "data": {
            "text/plain": [
              "{'loss': [0.6935538053512573,\n",
              "  0.693049967288971,\n",
              "  0.6927933096885681,\n",
              "  0.6932340264320374,\n",
              "  0.6933859586715698,\n",
              "  0.6933683156967163,\n",
              "  0.6877113580703735,\n",
              "  0.677737295627594,\n",
              "  0.6694701910018921,\n",
              "  0.6607413291931152,\n",
              "  0.6565262079238892,\n",
              "  0.6526439785957336,\n",
              "  0.6483105421066284,\n",
              "  0.6439325213432312,\n",
              "  0.6412708759307861,\n",
              "  0.639724612236023,\n",
              "  0.6346046328544617,\n",
              "  0.6331214904785156,\n",
              "  0.6289004683494568,\n",
              "  0.628123939037323,\n",
              "  0.6251436471939087,\n",
              "  0.6222922205924988,\n",
              "  0.6209237575531006,\n",
              "  0.6185948848724365,\n",
              "  0.6161717772483826,\n",
              "  0.6160760521888733,\n",
              "  0.6143131256103516],\n",
              " 'val_loss': [0.6909642219543457,\n",
              "  0.6860195398330688,\n",
              "  0.6926662921905518,\n",
              "  0.6930873990058899,\n",
              "  0.6930564641952515,\n",
              "  0.6926687955856323,\n",
              "  0.41339096426963806,\n",
              "  0.5287112593650818,\n",
              "  0.6037586331367493,\n",
              "  0.5070234537124634,\n",
              "  0.5241842269897461,\n",
              "  0.5322474241256714,\n",
              "  0.4339597225189209,\n",
              "  0.4577936828136444,\n",
              "  0.5143879652023315,\n",
              "  0.45780783891677856,\n",
              "  0.39003121852874756,\n",
              "  0.4857199192047119,\n",
              "  0.44169172644615173,\n",
              "  0.41226306557655334,\n",
              "  0.4721376597881317,\n",
              "  0.44092029333114624,\n",
              "  0.5126862525939941,\n",
              "  0.5471364259719849,\n",
              "  0.4720923602581024,\n",
              "  0.5108150243759155,\n",
              "  0.4084088206291199],\n",
              " 'val_weighted_accuracy': [0.02374047413468361,\n",
              "  0.02374047413468361,\n",
              "  0.02374047413468361,\n",
              "  0.02374047413468361,\n",
              "  0.02374047413468361,\n",
              "  0.02374047413468361,\n",
              "  0.9536656141281128,\n",
              "  0.14608484506607056,\n",
              "  0.02374047413468361,\n",
              "  0.41990962624549866,\n",
              "  0.3015444874763489,\n",
              "  0.24698185920715332,\n",
              "  0.8185067772865295,\n",
              "  0.7141026258468628,\n",
              "  0.39879947900772095,\n",
              "  0.7123491168022156,\n",
              "  0.9174479246139526,\n",
              "  0.5695690512657166,\n",
              "  0.7691373825073242,\n",
              "  0.8622108101844788,\n",
              "  0.6323598623275757,\n",
              "  0.7661023736000061,\n",
              "  0.4150536060333252,\n",
              "  0.22276927530765533,\n",
              "  0.6285830140113831,\n",
              "  0.42078641057014465,\n",
              "  0.8718553781509399],\n",
              " 'val_weighted_auc': [0.511226236820221,\n",
              "  0.7459356188774109,\n",
              "  0.5,\n",
              "  0.5,\n",
              "  0.5,\n",
              "  0.5,\n",
              "  0.821929395198822,\n",
              "  0.8430631160736084,\n",
              "  0.8430168628692627,\n",
              "  0.8501763343811035,\n",
              "  0.8552895188331604,\n",
              "  0.8591614961624146,\n",
              "  0.8598150014877319,\n",
              "  0.8674502968788147,\n",
              "  0.8766878843307495,\n",
              "  0.8793368339538574,\n",
              "  0.8870089054107666,\n",
              "  0.9037101864814758,\n",
              "  0.9017542600631714,\n",
              "  0.9072060585021973,\n",
              "  0.9088531732559204,\n",
              "  0.9087644219398499,\n",
              "  0.9182191491127014,\n",
              "  0.9209386706352234,\n",
              "  0.9256094694137573,\n",
              "  0.9276599287986755,\n",
              "  0.9362503290176392],\n",
              " 'val_weighted_fn': [28950.0,\n",
              "  28950.0,\n",
              "  28950.0,\n",
              "  28950.0,\n",
              "  28950.0,\n",
              "  28950.0,\n",
              "  810.0,\n",
              "  25316.0,\n",
              "  28950.0,\n",
              "  17194.0,\n",
              "  20702.0,\n",
              "  22326.0,\n",
              "  5190.0,\n",
              "  8376.0,\n",
              "  17816.0,\n",
              "  8444.0,\n",
              "  2142.0,\n",
              "  12736.0,\n",
              "  6766.0,\n",
              "  3916.0,\n",
              "  10870.0,\n",
              "  6862.0,\n",
              "  17338.0,\n",
              "  23042.0,\n",
              "  10986.0,\n",
              "  17166.0,\n",
              "  3688.0],\n",
              " 'val_weighted_fp': [0.0,\n",
              "  0.0,\n",
              "  0.0,\n",
              "  0.0,\n",
              "  0.0,\n",
              "  0.0,\n",
              "  564.0,\n",
              "  6.0,\n",
              "  0.0,\n",
              "  8.0,\n",
              "  10.0,\n",
              "  4.0,\n",
              "  192.0,\n",
              "  102.0,\n",
              "  12.0,\n",
              "  86.0,\n",
              "  306.0,\n",
              "  28.0,\n",
              "  80.0,\n",
              "  170.0,\n",
              "  32.0,\n",
              "  74.0,\n",
              "  8.0,\n",
              "  6.0,\n",
              "  28.0,\n",
              "  10.0,\n",
              "  112.0],\n",
              " 'val_weighted_precision': [0.0,\n",
              "  0.0,\n",
              "  0.0,\n",
              "  0.0,\n",
              "  0.0,\n",
              "  0.0,\n",
              "  0.9803511500358582,\n",
              "  0.9983516335487366,\n",
              "  0.0,\n",
              "  0.9993199706077576,\n",
              "  0.9987890720367432,\n",
              "  0.9993965029716492,\n",
              "  0.991983950138092,\n",
              "  0.99506676197052,\n",
              "  0.9989233613014221,\n",
              "  0.9958236217498779,\n",
              "  0.988714337348938,\n",
              "  0.9982760548591614,\n",
              "  0.9964067339897156,\n",
              "  0.9932550191879272,\n",
              "  0.9982331991195679,\n",
              "  0.9966609477996826,\n",
              "  0.9993115067481995,\n",
              "  0.9989854693412781,\n",
              "  0.9984437823295593,\n",
              "  0.9991521239280701,\n",
              "  0.9955860376358032],\n",
              " 'val_weighted_recall': [0.0,\n",
              "  0.0,\n",
              "  0.0,\n",
              "  0.0,\n",
              "  0.0,\n",
              "  0.0,\n",
              "  0.9720207452774048,\n",
              "  0.1255267709493637,\n",
              "  0.0,\n",
              "  0.4060794413089752,\n",
              "  0.28490501642227173,\n",
              "  0.22880828380584717,\n",
              "  0.8207253813743591,\n",
              "  0.7106735706329346,\n",
              "  0.3845941424369812,\n",
              "  0.708324670791626,\n",
              "  0.9260103702545166,\n",
              "  0.5600690841674805,\n",
              "  0.7662867307662964,\n",
              "  0.8647323250770569,\n",
              "  0.6245250701904297,\n",
              "  0.7629706263542175,\n",
              "  0.4011053442955017,\n",
              "  0.20407599210739136,\n",
              "  0.620518147945404,\n",
              "  0.4070466458797455,\n",
              "  0.872607946395874],\n",
              " 'val_weighted_tn': [704.0,\n",
              "  704.0,\n",
              "  704.0,\n",
              "  704.0,\n",
              "  704.0,\n",
              "  704.0,\n",
              "  140.0,\n",
              "  698.0,\n",
              "  704.0,\n",
              "  696.0,\n",
              "  694.0,\n",
              "  700.0,\n",
              "  512.0,\n",
              "  602.0,\n",
              "  692.0,\n",
              "  618.0,\n",
              "  398.0,\n",
              "  676.0,\n",
              "  624.0,\n",
              "  534.0,\n",
              "  672.0,\n",
              "  630.0,\n",
              "  696.0,\n",
              "  698.0,\n",
              "  676.0,\n",
              "  694.0,\n",
              "  592.0],\n",
              " 'val_weighted_tp': [0.0,\n",
              "  0.0,\n",
              "  0.0,\n",
              "  0.0,\n",
              "  0.0,\n",
              "  0.0,\n",
              "  28140.0,\n",
              "  3634.0,\n",
              "  0.0,\n",
              "  11756.0,\n",
              "  8248.0,\n",
              "  6624.0,\n",
              "  23760.0,\n",
              "  20574.0,\n",
              "  11134.0,\n",
              "  20506.0,\n",
              "  26808.0,\n",
              "  16214.0,\n",
              "  22184.0,\n",
              "  25034.0,\n",
              "  18080.0,\n",
              "  22088.0,\n",
              "  11612.0,\n",
              "  5908.0,\n",
              "  17964.0,\n",
              "  11784.0,\n",
              "  25262.0],\n",
              " 'weighted_accuracy': [0.26307034492492676,\n",
              "  0.26204708218574524,\n",
              "  0.2667595446109772,\n",
              "  0.2657816708087921,\n",
              "  0.26203444600105286,\n",
              "  0.2620343267917633,\n",
              "  0.30109795928001404,\n",
              "  0.35521918535232544,\n",
              "  0.42454418540000916,\n",
              "  0.49097803235054016,\n",
              "  0.5375702381134033,\n",
              "  0.5725955963134766,\n",
              "  0.5984582901000977,\n",
              "  0.6343480944633484,\n",
              "  0.6566950678825378,\n",
              "  0.6651660203933716,\n",
              "  0.6849358081817627,\n",
              "  0.7035384774208069,\n",
              "  0.7116996645927429,\n",
              "  0.7207160592079163,\n",
              "  0.7338427901268005,\n",
              "  0.7479628920555115,\n",
              "  0.7552964687347412,\n",
              "  0.7560557126998901,\n",
              "  0.7755123972892761,\n",
              "  0.7787606716156006,\n",
              "  0.7827875018119812],\n",
              " 'weighted_auc': [0.5196019411087036,\n",
              "  0.5381902456283569,\n",
              "  0.5184900760650635,\n",
              "  0.5340965390205383,\n",
              "  0.5,\n",
              "  0.5,\n",
              "  0.5679682493209839,\n",
              "  0.6651923060417175,\n",
              "  0.7271127700805664,\n",
              "  0.796112060546875,\n",
              "  0.80524080991745,\n",
              "  0.8172836899757385,\n",
              "  0.8280764222145081,\n",
              "  0.8468858599662781,\n",
              "  0.8507809638977051,\n",
              "  0.854446291923523,\n",
              "  0.8692095279693604,\n",
              "  0.8750357627868652,\n",
              "  0.8796036839485168,\n",
              "  0.8828881978988647,\n",
              "  0.8890812993049622,\n",
              "  0.8969413638114929,\n",
              "  0.9012962579727173,\n",
              "  0.9018502831459045,\n",
              "  0.911554753780365,\n",
              "  0.9125827550888062,\n",
              "  0.914743185043335],\n",
              " 'weighted_fn': [87365.8046875,\n",
              "  87553.2890625,\n",
              "  86751.8125,\n",
              "  86801.7109375,\n",
              "  87554.796875,\n",
              "  87554.8125,\n",
              "  81950.640625,\n",
              "  75154.9375,\n",
              "  66202.8359375,\n",
              "  58563.46484375,\n",
              "  52594.94921875,\n",
              "  47668.33203125,\n",
              "  44952.4765625,\n",
              "  40496.0625,\n",
              "  37778.7109375,\n",
              "  36333.0546875,\n",
              "  34494.23046875,\n",
              "  32154.923828125,\n",
              "  31120.564453125,\n",
              "  29874.552734375,\n",
              "  28273.158203125,\n",
              "  26708.04296875,\n",
              "  26124.330078125,\n",
              "  25747.853515625,\n",
              "  23615.65625,\n",
              "  23340.4375,\n",
              "  22818.734375],\n",
              " 'weighted_fp': [66.09872436523438,\n",
              "  0.0,\n",
              "  242.3620147705078,\n",
              "  308.46075439453125,\n",
              "  0.0,\n",
              "  0.0,\n",
              "  969.4478149414062,\n",
              "  1344.0074462890625,\n",
              "  2071.09423828125,\n",
              "  1828.7327880859375,\n",
              "  2269.3916015625,\n",
              "  3040.544677734375,\n",
              "  2688.017578125,\n",
              "  2886.314208984375,\n",
              "  2952.412841796875,\n",
              "  3393.072021484375,\n",
              "  2886.314697265625,\n",
              "  3018.511962890625,\n",
              "  3084.610595703125,\n",
              "  3260.874267578125,\n",
              "  3304.940185546875,\n",
              "  3194.775634765625,\n",
              "  2908.3466796875,\n",
              "  3194.775390625,\n",
              "  3018.511962890625,\n",
              "  2908.347412109375,\n",
              "  2952.413330078125],\n",
              " 'weighted_precision': [0.7409119009971619,\n",
              "  1.0,\n",
              "  0.7681471705436707,\n",
              "  0.7094171047210693,\n",
              "  0.0,\n",
              "  0.0,\n",
              "  0.8525233864784241,\n",
              "  0.9022102355957031,\n",
              "  0.9115785956382751,\n",
              "  0.9406644105911255,\n",
              "  0.9390429854393005,\n",
              "  0.929169774055481,\n",
              "  0.9406493902206421,\n",
              "  0.9422103762626648,\n",
              "  0.9440074563026428,\n",
              "  0.9378729462623596,\n",
              "  0.9484098553657532,\n",
              "  0.9483295679092407,\n",
              "  0.9481743574142456,\n",
              "  0.946491539478302,\n",
              "  0.9471942186355591,\n",
              "  0.9501140713691711,\n",
              "  0.9547964930534363,\n",
              "  0.9508510231971741,\n",
              "  0.9549190998077393,\n",
              "  0.9566712975502014,\n",
              "  0.9563824534416199],\n",
              " 'weighted_recall': [0.002158897928893566,\n",
              "  1.727118797134608e-05,\n",
              "  0.009171003475785255,\n",
              "  0.008601054549217224,\n",
              "  0.0,\n",
              "  0.0,\n",
              "  0.06400704383850098,\n",
              "  0.14162378013134003,\n",
              "  0.2438691407442093,\n",
              "  0.33112290501594543,\n",
              "  0.39929184317588806,\n",
              "  0.4555611312389374,\n",
              "  0.4865799844264984,\n",
              "  0.5374782085418701,\n",
              "  0.5685144662857056,\n",
              "  0.58502596616745,\n",
              "  0.6060276627540588,\n",
              "  0.6327458024024963,\n",
              "  0.6445596218109131,\n",
              "  0.6587907671928406,\n",
              "  0.6770808696746826,\n",
              "  0.6949566602706909,\n",
              "  0.7016234993934631,\n",
              "  0.7059236168861389,\n",
              "  0.7302761077880859,\n",
              "  0.7334195375442505,\n",
              "  0.7393782138824463],\n",
              " 'weighted_tn': [31022.462890625,\n",
              "  31088.568359375,\n",
              "  30846.201171875,\n",
              "  30780.09765625,\n",
              "  31088.580078125,\n",
              "  31088.568359375,\n",
              "  30119.103515625,\n",
              "  29744.556640625,\n",
              "  29017.458984375,\n",
              "  29259.8203125,\n",
              "  28819.1484375,\n",
              "  28048.001953125,\n",
              "  28400.5390625,\n",
              "  28202.244140625,\n",
              "  28136.1328125,\n",
              "  27695.486328125,\n",
              "  28202.24609375,\n",
              "  28070.05078125,\n",
              "  28003.94921875,\n",
              "  27827.669921875,\n",
              "  27783.615234375,\n",
              "  27893.7890625,\n",
              "  28180.20703125,\n",
              "  27893.783203125,\n",
              "  28070.03125,\n",
              "  28180.19921875,\n",
              "  28136.134765625],\n",
              " 'weighted_tp': [189.02194213867188,\n",
              "  1.5121755599975586,\n",
              "  802.9652099609375,\n",
              "  753.0634155273438,\n",
              "  0.0,\n",
              "  0.0,\n",
              "  5604.12158203125,\n",
              "  12399.837890625,\n",
              "  21351.8984375,\n",
              "  28991.43359375,\n",
              "  34959.9609375,\n",
              "  39886.6484375,\n",
              "  42602.50390625,\n",
              "  47058.86328125,\n",
              "  49776.28125,\n",
              "  51221.95703125,\n",
              "  53060.72265625,\n",
              "  55400.03515625,\n",
              "  56434.39453125,\n",
              "  57680.390625,\n",
              "  59281.7578125,\n",
              "  60846.87109375,\n",
              "  61430.59765625,\n",
              "  61807.14453125,\n",
              "  63939.2734375,\n",
              "  64214.51171875,\n",
              "  64736.2421875]}"
            ]
          },
          "metadata": {
            "tags": []
          },
          "execution_count": 37
        }
      ]
    },
    {
      "cell_type": "code",
      "metadata": {
        "id": "z-bh2rweJa9N",
        "colab": {
          "base_uri": "https://localhost:8080/",
          "height": 283
        },
        "outputId": "6f7075d4-db99-446e-ec01-6f39a1bdaa8c"
      },
      "source": [
        "plot_metrics(history_restnet50)"
      ],
      "execution_count": null,
      "outputs": [
        {
          "output_type": "display_data",
          "data": {
            "image/png": "[encoded data removed]",
            "text/plain": [
              "<Figure size 432x288 with 4 Axes>"
            ]
          },
          "metadata": {
            "tags": [],
            "needs_background": "light"
          }
        }
      ]
    },
    {
      "cell_type": "code",
      "metadata": {
        "id": "detr7XtTJhVk",
        "colab": {
          "base_uri": "https://localhost:8080/",
          "height": 654
        },
        "outputId": "b988e3f6-856a-42c5-b5ba-52ff7c9df887"
      },
      "source": [
        "cm = cm_calc(resnet50_full_model, resnet50_val_ds);\n",
        "balanced_acc = balanced_acc_calc(cm)\n",
        "plot_cm(cm)"
      ],
      "execution_count": null,
      "outputs": [
        {
          "output_type": "stream",
          "text": [
            "Matriz de confusão\n",
            "[[  352     0]\n",
            " [14475     0]]\n",
            "\n",
            "\n",
            "Matriz de confusão balanceada\n",
            "[[1. 0.]\n",
            " [1. 0.]]\n",
            "\n",
            "\n",
            "Acurácia balanceada: 0.5\n",
            "Mask Detected (True Negatives):  352\n",
            "Mask Incorrectly Detected (False Positives):  0\n",
            "No mask Missed (False Negatives):  14475\n",
            "No mask Detected (True Positives):  0\n",
            "Total Mask :  14475\n"
          ],
          "name": "stdout"
        },
        {
          "output_type": "display_data",
          "data": {
            "image/png": "[encoded data removed]",
            "text/plain": [
              "<Figure size 360x360 with 2 Axes>"
            ]
          },
          "metadata": {
            "tags": [],
            "needs_background": "light"
          }
        }
      ]
    },
    {
      "cell_type": "code",
      "metadata": {
        "id": "LOOrE26452KS",
        "colab": {
          "base_uri": "https://localhost:8080/"
        },
        "outputId": "9604ea87-bf30-4719-c11d-56c7dd1cee9f"
      },
      "source": [
        "# Avalia modelo na validação\n",
        "resnet50_unfreeze_score = resnet50_full_model.evaluate(resnet50_val_ds,verbose=1)\n",
        "\n",
        "print_score('Validation', resnet50_unfreeze_score)"
      ],
      "execution_count": null,
      "outputs": [
        {
          "output_type": "stream",
          "text": [
            "232/232 [==============================] - 33s 141ms/step - loss: 0.6931 - weighted_weighted_tp: 0.0000e+00 - weighted_weighted_fp: 0.0000e+00 - weighted_weighted_tn: 704.0000 - weighted_weighted_fn: 28950.0000 - weighted_weighted_accuracy: 0.0237 - weighted_weighted_precision: 0.0000e+00 - weighted_weighted_recall: 0.0000e+00 - weighted_weighted_auc: 0.5000\n",
            "Validation metrics:\n",
            "loss: 0.40921536087989807\n",
            "tp: 25032.0\n",
            "fp: 110.0\n",
            "tn: 594.0\n",
            "fn: 3918.0\n",
            "accuracy: 0.8641667366027832\n",
            "precision: 0.995624840259552\n",
            "recall: 0.8646631836891174\n",
            "auc: 0.931673526763916\n"
          ],
          "name": "stdout"
        }
      ]
    },
    {
      "cell_type": "code",
      "metadata": {
        "id": "2B4w6IB8Gofn"
      },
      "source": [
        "# save model\n",
        "save_model(resnet50_full_model, \"resnet50_tf_fine_tuning\")"
      ],
      "execution_count": null,
      "outputs": []
    },
    {
      "cell_type": "markdown",
      "metadata": {
        "id": "R5pbetOYKq76"
      },
      "source": [
        "## Avaliação do modelo no test"
      ]
    },
    {
      "cell_type": "code",
      "metadata": {
        "id": "atXZ0FQUJpZR",
        "colab": {
          "base_uri": "https://localhost:8080/",
          "height": 654
        },
        "outputId": "5f418816-eb42-4b32-cd52-566398da46f0"
      },
      "source": [
        "cm = cm_calc(resnet50_full_model, resnet50_test_ds);\n",
        "balanced_acc = balanced_acc_calc(cm)\n",
        "plot_cm(cm)"
      ],
      "execution_count": null,
      "outputs": [
        {
          "output_type": "stream",
          "text": [
            "Matriz de confusão\n",
            "[[  439     0]\n",
            " [18092     0]]\n",
            "\n",
            "\n",
            "Matriz de confusão balanceada\n",
            "[[1. 0.]\n",
            " [1. 0.]]\n",
            "\n",
            "\n",
            "Acurácia balanceada: 0.5\n",
            "Mask Detected (True Negatives):  439\n",
            "Mask Incorrectly Detected (False Positives):  0\n",
            "No mask Missed (False Negatives):  18092\n",
            "No mask Detected (True Positives):  0\n",
            "Total Mask :  18092\n"
          ],
          "name": "stdout"
        },
        {
          "output_type": "display_data",
          "data": {
            "image/png": "[encoded data removed]",
            "text/plain": [
              "<Figure size 360x360 with 2 Axes>"
            ]
          },
          "metadata": {
            "tags": [],
            "needs_background": "light"
          }
        }
      ]
    },
    {
      "cell_type": "code",
      "metadata": {
        "id": "e1FrPZOKJptC",
        "colab": {
          "base_uri": "https://localhost:8080/"
        },
        "outputId": "8b77ec6d-e0ca-41be-e798-eaaa63474eb6"
      },
      "source": [
        "# Avalia modelo na validação\n",
        "resnet50_unfreeze_test_score = resnet50_full_model.evaluate(resnet50_test_ds,verbose=1)\n",
        "\n",
        "print_score('Test', resnet50_unfreeze_test_score)"
      ],
      "execution_count": null,
      "outputs": [
        {
          "output_type": "stream",
          "text": [
            "290/290 [==============================] - 44s 152ms/step - loss: 0.6931 - weighted_weighted_tp: 0.0000e+00 - weighted_weighted_fp: 0.0000e+00 - weighted_weighted_tn: 878.0000 - weighted_weighted_fn: 36184.0000 - weighted_weighted_accuracy: 0.0237 - weighted_weighted_precision: 0.0000e+00 - weighted_weighted_recall: 0.0000e+00 - weighted_weighted_auc: 0.5000\n",
            "Test metrics:\n",
            "loss: 0.40921536087989807\n",
            "tp: 25032.0\n",
            "fp: 110.0\n",
            "tn: 594.0\n",
            "fn: 3918.0\n",
            "accuracy: 0.8641667366027832\n",
            "precision: 0.995624840259552\n",
            "recall: 0.8646631836891174\n",
            "auc: 0.931673526763916\n"
          ],
          "name": "stdout"
        }
      ]
    },
    {
      "cell_type": "markdown",
      "metadata": {
        "id": "DK8a2zbWatLb"
      },
      "source": [
        "# Tempo de execução"
      ]
    },
    {
      "cell_type": "code",
      "metadata": {
        "id": "bn5DbQWya12Y",
        "colab": {
          "base_uri": "https://localhost:8080/"
        },
        "outputId": "60eee184-085e-4f03-f705-629d361c1a67"
      },
      "source": [
        "execution_time = time.time() - start_time\n",
        "print(\"--- %s seconds ---\" % (execution_time))\n",
        "print(\"--- %s minutes ---\" % (execution_time / 60.0))\n",
        "print(\"--- %s hours ---\" % (execution_time / 3600.0))"
      ],
      "execution_count": null,
      "outputs": [
        {
          "output_type": "stream",
          "text": [
            "--- 9295.067363262177 seconds ---\n",
            "--- 154.91778938770295 minutes ---\n",
            "--- 2.5819631564617156 hours ---\n"
          ],
          "name": "stdout"
        }
      ]
    },
    {
      "cell_type": "markdown",
      "metadata": {
        "id": "RXhB2BiLzbJA"
      },
      "source": [
        "# Carrega o modelo pra uso futuro"
      ]
    },
    {
      "cell_type": "code",
      "metadata": {
        "id": "ije0F0ICzjSS"
      },
      "source": [
        "loaded_tf_model = load_trained_model(\"resnet50_tf\")"
      ],
      "execution_count": null,
      "outputs": []
    },
    {
      "cell_type": "code",
      "metadata": {
        "colab": {
          "base_uri": "https://localhost:8080/"
        },
        "id": "h8OmggxnzoF4",
        "outputId": "3c8a0c2c-8299-4212-b653-d5b523fc12a5"
      },
      "source": [
        "loaded_tf_model.summary()"
      ],
      "execution_count": null,
      "outputs": [
        {
          "output_type": "stream",
          "text": [
            "Saved model to disk\n"
          ],
          "name": "stdout"
        }
      ]
    }
  ]
}