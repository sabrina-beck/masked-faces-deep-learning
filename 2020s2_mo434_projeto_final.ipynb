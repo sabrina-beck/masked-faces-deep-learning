{
  "nbformat": 4,
  "nbformat_minor": 0,
  "metadata": {
    "colab": {
      "name": "2020s2_mo434_projeto_final.ipynb",
      "provenance": [],
      "collapsed_sections": [],
      "toc_visible": true,
      "machine_shape": "hm",
      "include_colab_link": true
    },
    "kernelspec": {
      "name": "python3",
      "display_name": "Python 3"
    },
    "accelerator": "GPU"
  },
  "cells": [
    {
      "cell_type": "markdown",
      "metadata": {
        "id": "view-in-github",
        "colab_type": "text"
      },
      "source": [
        "<a href=\"https://colab.research.google.com/github/sabrina-beck/masked-faces-deep-learning/blob/main/2020s2_mo434_projeto_final.ipynb\" target=\"_parent\"><img src=\"https://colab.research.google.com/assets/colab-badge.svg\" alt=\"Open In Colab\"/></a>"
      ]
    },
    {
      "cell_type": "markdown",
      "metadata": {
        "id": "9AWozgNfK-cK"
      },
      "source": [
        "# Projeto Final\n",
        "\n",
        "Universidade Estadual de Campinas (UNICAMP), Instituto de Computação (IC)\n",
        "\n",
        "Profa. Sandra Avila, 2020s2"
      ]
    },
    {
      "cell_type": "code",
      "metadata": {
        "colab": {
          "base_uri": "https://localhost:8080/"
        },
        "id": "YabfLSItLH4o",
        "outputId": "b1f15722-a4b9-41e3-b2e3-e8b430f81a98"
      },
      "source": [
        "print('173334: ' + 'Luiz Henrique Simioni Machado')\n",
        "print('121192: ' + 'Mariane Previde')\n",
        "print('157240: ' + 'Sabrina Beck Angelini')"
      ],
      "execution_count": null,
      "outputs": [
        {
          "output_type": "stream",
          "text": [
            "173334: Luiz Henrique Simioni Machado\n",
            "121192: Mariane Previde\n",
            "157240: Sabrina Beck Angelini\n"
          ],
          "name": "stdout"
        }
      ]
    },
    {
      "cell_type": "code",
      "metadata": {
        "colab": {
          "base_uri": "https://localhost:8080/"
        },
        "id": "xBD1IZboVa-r",
        "outputId": "92f2dd55-83e9-4fae-9347-9b2e1db715b2"
      },
      "source": [
        "# Verificar qual GPU to usando\n",
        "gpu_info = !nvidia-smi\n",
        "gpu_info = '\\n'.join(gpu_info)\n",
        "if gpu_info.find('failed') >= 0:\n",
        "  print('Select the Runtime > \"Change runtime type\" menu to enable a GPU accelerator, ')\n",
        "  print('and then re-execute this cell.')\n",
        "else:\n",
        "  print(gpu_info)"
      ],
      "execution_count": null,
      "outputs": [
        {
          "output_type": "stream",
          "text": [
            "Sun Dec 13 21:49:44 2020       \n",
            "+-----------------------------------------------------------------------------+\n",
            "| NVIDIA-SMI 455.45.01    Driver Version: 418.67       CUDA Version: 10.1     |\n",
            "|-------------------------------+----------------------+----------------------+\n",
            "| GPU  Name        Persistence-M| Bus-Id        Disp.A | Volatile Uncorr. ECC |\n",
            "| Fan  Temp  Perf  Pwr:Usage/Cap|         Memory-Usage | GPU-Util  Compute M. |\n",
            "|                               |                      |               MIG M. |\n",
            "|===============================+======================+======================|\n",
            "|   0  Tesla V100-SXM2...  Off  | 00000000:00:04.0 Off |                    0 |\n",
            "| N/A   42C    P0    26W / 300W |      0MiB / 16130MiB |      0%      Default |\n",
            "|                               |                      |                 ERR! |\n",
            "+-------------------------------+----------------------+----------------------+\n",
            "                                                                               \n",
            "+-----------------------------------------------------------------------------+\n",
            "| Processes:                                                                  |\n",
            "|  GPU   GI   CI        PID   Type   Process name                  GPU Memory |\n",
            "|        ID   ID                                                   Usage      |\n",
            "|=============================================================================|\n",
            "|  No running processes found                                                 |\n",
            "+-----------------------------------------------------------------------------+\n"
          ],
          "name": "stdout"
        }
      ]
    },
    {
      "cell_type": "code",
      "metadata": {
        "colab": {
          "base_uri": "https://localhost:8080/"
        },
        "id": "gE-6h7Z9WBsr",
        "outputId": "1cbdd851-33c5-4347-9f17-3b6295f4ff45"
      },
      "source": [
        "# Verificar quanta memória\n",
        "from psutil import virtual_memory\n",
        "ram_gb = virtual_memory().total / 1e9\n",
        "print('Your runtime has {:.1f} gigabytes of available RAM\\n'.format(ram_gb))\n",
        "\n",
        "if ram_gb < 20:\n",
        "  print('To enable a high-RAM runtime, select the Runtime > \"Change runtime type\"')\n",
        "  print('menu, and then select High-RAM in the Runtime shape dropdown. Then, ')\n",
        "  print('re-execute this cell.')\n",
        "else:\n",
        "  print('You are using a high-RAM runtime!')"
      ],
      "execution_count": null,
      "outputs": [
        {
          "output_type": "stream",
          "text": [
            "Your runtime has 27.4 gigabytes of available RAM\n",
            "\n",
            "You are using a high-RAM runtime!\n"
          ],
          "name": "stdout"
        }
      ]
    },
    {
      "cell_type": "code",
      "metadata": {
        "id": "sd6Wim2Fam4y"
      },
      "source": [
        "# Calcular o tempo total de execução\n",
        "import time\n",
        "start_time = time.time()"
      ],
      "execution_count": null,
      "outputs": []
    },
    {
      "cell_type": "markdown",
      "metadata": {
        "id": "u_cDGdrKLayZ"
      },
      "source": [
        "# Tema: Detecção de máscaras faciais\n",
        "Com a pandemia do Covid-19 surgiu a necessidade das pessoas utilizarem máscaras para diminuir o contágio por Sars-CoV-2. A máscara vem cada vez mais se provando muito eficaz na diminuição do número de contágios ou da carga viral na transmissão, ajudando a diminuir casos de contaminação e internações de modo a evitar a sobrecarga dos hospitais e falecimentos. \n",
        "\n",
        "A ideia é desenvolver uma rede neural que consiga detectar em espaços públicos pessoas que estejam sem máscara ~~**ou usando a máscara incorretamente**~~. Com isso, agentes públicos poderiam abordar essas pessoas e fornecer uma máscara ~~**ou explicar o jeito correto de utilizá-la**~~.\n",
        "\n",
        "**~~Nós pretendemos mesclar alguns datasets de modo a obter um conjunto maior para o treinamento~~. Nosso dataset final deverá ter ~~3~~ 2 classes:**\n",
        "* Pessoas com máscaras\n",
        "* Pessoas sem máscaras \n",
        "* ~~**Pessoas utilizando a máscara de forma errada**~~"
      ]
    },
    {
      "cell_type": "code",
      "metadata": {
        "colab": {
          "base_uri": "https://localhost:8080/"
        },
        "id": "uBPJ55VZzdd5",
        "outputId": "246972dc-fdba-4494-a8fd-48aeb27d9f06"
      },
      "source": [
        "# Montar o Google Drive para salvar os modelos no final\n",
        "from google.colab import drive\n",
        "drive.mount('/content/drive')"
      ],
      "execution_count": null,
      "outputs": [
        {
          "output_type": "stream",
          "text": [
            "Mounted at /content/drive\n"
          ],
          "name": "stdout"
        }
      ]
    },
    {
      "cell_type": "markdown",
      "metadata": {
        "id": "NPGrYhC0GgSx"
      },
      "source": [
        "# Base de Dados\n",
        "\n",
        "A base de dados utilizada é a [Real World Masked Face Dataset](https://github.com/X-zhangyang/Real-World-Masked-Face-Dataset), optamos pela primeira opção de [download](https://github.com/X-zhangyang/Real-World-Masked-Face-Dataset) em que as amostras de imagens foram limpas e rotuladas contendo:\n",
        "\n",
        "\n",
        "*   5000 faces com máscara de 525 pessoas\n",
        "*   90000 faces sem máscara\n",
        "\n",
        "Subimos uma cópia da base de dados feita no dia 23-11-2020 no Google Drive [aqui](https://drive.google.com/file/d/1UD8nf8CfuEycJwt2mBjfT9ElB2QoOMlx/view?usp=sharing)."
      ]
    },
    {
      "cell_type": "code",
      "metadata": {
        "id": "-9XzT2ZtzQdz"
      },
      "source": [
        "!pip install PyDrive &> /dev/null"
      ],
      "execution_count": null,
      "outputs": []
    },
    {
      "cell_type": "code",
      "metadata": {
        "id": "cwu0LqLAFI9S"
      },
      "source": [
        "from pydrive.auth import GoogleAuth\n",
        "from pydrive.drive import GoogleDrive\n",
        "from google.colab import auth\n",
        "from oauth2client.client import GoogleCredentials\n",
        "import io\n",
        "import zipfile\n",
        "\n",
        "# Authenticate and create the PyDrive client.\n",
        "# This only needs to be done once per notebook.\n",
        "auth.authenticate_user()\n",
        "gauth = GoogleAuth()\n",
        "gauth.credentials = GoogleCredentials.get_application_default()\n",
        "drive = GoogleDrive(gauth)\n",
        "\n",
        "# Download the zipped dataset based on its file ID on Drive.\n",
        "file_id = '1UD8nf8CfuEycJwt2mBjfT9ElB2QoOMlx' #-- Updated File ID for my zip\n",
        "downloaded = drive.CreateFile({'id': file_id})\n",
        "downloaded.GetContentFile('RMFD.zip')\n",
        "!unzip -q RMFD.zip"
      ],
      "execution_count": null,
      "outputs": []
    },
    {
      "cell_type": "markdown",
      "metadata": {
        "id": "xcoGlumXHMI6"
      },
      "source": [
        "## Organização da Base de Dados\n",
        "\n",
        "A base está organizada com os seguintes subdiretórios:\n",
        "* `AFDB_face_dataset/`: imagens de pessoas sem máscara\n",
        "* `AFDB_masked_face_dataset/`: imagens de pessoas com máscara\n",
        "\n",
        "Cada subdiretório é composto por outros subdiretórios, cada um identificando as fotos de cada uma das 525 pessoas.\n",
        "\n",
        "Devido à essa organização tivemos que fazer uma reorganização da base para deixar todas as imagens diretamente no subdiretório de sua classe, uma vez que estamos interessados somente na classificação `face` x `masked face`."
      ]
    },
    {
      "cell_type": "code",
      "metadata": {
        "id": "yBWKsniTZ-nn"
      },
      "source": [
        "from pathlib import Path\n",
        "\n",
        "basePath = Path('self-built-masked-face-recognition-dataset')\n",
        "maskPath = basePath/'AFDB_masked_face_dataset'\n",
        "nonMaskPath = basePath/'AFDB_face_dataset'"
      ],
      "execution_count": null,
      "outputs": []
    },
    {
      "cell_type": "code",
      "metadata": {
        "colab": {
          "base_uri": "https://localhost:8080/"
        },
        "id": "fSCoWQPOJ7FZ",
        "outputId": "569ff736-6627-4df0-fbf7-1955016a8afd"
      },
      "source": [
        "from pathlib import Path\n",
        "from tqdm import tqdm\n",
        "from os import listdir, rmdir, path\n",
        "from shutil import move\n",
        "import ntpath\n",
        "\n",
        "def flattenClassDir(classDir, classDesc):\n",
        "  classDirList = list(classDir.iterdir())\n",
        "  count = 0\n",
        "  for subDirectory in tqdm(classDirList, desc=classDesc):\n",
        "    for imgPath in subDirectory.iterdir():\n",
        "      count += 1\n",
        "      filename = ntpath.basename(imgPath)\n",
        "      move(imgPath, path.join(classDir, '%s.jpg' % count))\n",
        "    rmdir(subDirectory)\n",
        "\n",
        "flattenClassDir(nonMaskPath, 'non mask photos')\n",
        "flattenClassDir(maskPath, 'mask photos')"
      ],
      "execution_count": null,
      "outputs": [
        {
          "output_type": "stream",
          "text": [
            "non mask photos: 100%|██████████| 460/460 [00:03<00:00, 134.12it/s]\n",
            "mask photos: 100%|██████████| 525/525 [00:00<00:00, 4920.02it/s]\n"
          ],
          "name": "stderr"
        }
      ]
    },
    {
      "cell_type": "markdown",
      "metadata": {
        "id": "DWniodrMd7es"
      },
      "source": [
        "## A Base está Balanceada?"
      ]
    },
    {
      "cell_type": "code",
      "metadata": {
        "colab": {
          "base_uri": "https://localhost:8080/"
        },
        "id": "T6FG4nu_Rav9",
        "outputId": "bddeb68f-d8f1-44ba-911c-0eed534cce74"
      },
      "source": [
        "mask_image_count = len(list(maskPath.glob('*.jpg')))\n",
        "non_mask_image_count = len(list(nonMaskPath.glob('*.jpg')))\n",
        "image_count = mask_image_count + non_mask_image_count\n",
        "\n",
        "print('Masked photos: ', mask_image_count, ' (', '%.2f' % (mask_image_count / image_count * 100), '%)')\n",
        "print('Non masked photos: ', non_mask_image_count, ' (', '%.2f' % (non_mask_image_count / image_count * 100), '%)')"
      ],
      "execution_count": null,
      "outputs": [
        {
          "output_type": "stream",
          "text": [
            "Masked photos:  2203  ( 2.38 %)\n",
            "Non masked photos:  90468  ( 97.62 %)\n"
          ],
          "name": "stdout"
        }
      ]
    },
    {
      "cell_type": "code",
      "metadata": {
        "id": "ZJOI-PLceark",
        "colab": {
          "base_uri": "https://localhost:8080/"
        },
        "outputId": "c9c0490c-bf47-445c-9c9d-2f4be9557d3b"
      },
      "source": [
        "# Scaling by total/2 helps keep the loss to a similar magnitude.\n",
        "# The sum of the weights of all examples stays the same.\n",
        "weight_for_non_mask = (1 / non_mask_image_count)*(image_count)/2.0 \n",
        "weight_for_mask = (1 / mask_image_count)*(image_count)/2.0 \n",
        "\n",
        "class_weights = {0: weight_for_non_mask , 1: weight_for_mask}\n",
        "\n",
        "print('Weight for class 0 (non mask): {:.2f}'.format(weight_for_non_mask))\n",
        "print('Weight for class 1 (mask): {:.2f}'.format(weight_for_mask))"
      ],
      "execution_count": null,
      "outputs": [
        {
          "output_type": "stream",
          "text": [
            "Weight for class 0 (non mask): 0.51\n",
            "Weight for class 1 (mask): 21.03\n"
          ],
          "name": "stdout"
        }
      ]
    },
    {
      "cell_type": "markdown",
      "metadata": {
        "id": "kIH_j_uAmZZW"
      },
      "source": [
        "## Separando em treino e teste"
      ]
    },
    {
      "cell_type": "code",
      "metadata": {
        "colab": {
          "base_uri": "https://localhost:8080/"
        },
        "id": "iRdxczlAdcSq",
        "outputId": "48189e0f-7007-4ef6-96b6-27075c1f0444"
      },
      "source": [
        "\n",
        "\n",
        "import os, shutil\n",
        "import math\n",
        "\n",
        "# Path to the directory where the original dataset was uncompressed\n",
        "original_dataset_dir = basePath\n",
        "\n",
        "# Directory where you’ll store your  dataset\n",
        "base_dir = 'masked_vs_no_masked'\n",
        "\n",
        "percent_to_train = 0.8;\n",
        "\n",
        "try:\n",
        "    os.stat(base_dir)\n",
        "except:\n",
        "    os.mkdir(base_dir)  \n",
        "\n",
        "# Directory for the training splits\n",
        "train_dir = os.path.join(base_dir, 'train')\n",
        "try:\n",
        "    os.stat(train_dir)\n",
        "except:\n",
        "    os.mkdir(train_dir)  \n",
        "\n",
        "# Directory for the test splits\n",
        "test_dir = os.path.join(base_dir, 'test')\n",
        "try:\n",
        "    os.stat(test_dir)\n",
        "except:\n",
        "    os.mkdir(test_dir)  \n",
        "\n",
        "# Directory with training no masked pictures\n",
        "train_no_masked_dir = os.path.join(train_dir, '0_no_masked')\n",
        "try:\n",
        "    os.stat(train_no_masked_dir)\n",
        "except:\n",
        "    os.mkdir(train_no_masked_dir)  \n",
        "\n",
        "# Directory with training masked pictures\n",
        "train_masked_dir = os.path.join(train_dir, '1_masked')\n",
        "try:\n",
        "    os.stat(train_masked_dir)\n",
        "except:\n",
        "    os.mkdir(train_masked_dir) \n",
        "\n",
        "# Directory with Test no maskedPictures\n",
        "test_no_masked_dir = os.path.join(test_dir, '0_no_masked')\n",
        "try:\n",
        "    os.stat(test_no_masked_dir)\n",
        "except:\n",
        "    os.mkdir(test_no_masked_dir) \n",
        "\n",
        "# Directory with Test masked Pictures\n",
        "test_masked_dir = os.path.join(test_dir, '1_masked')\n",
        "try:\n",
        "    os.stat(test_masked_dir)\n",
        "except:\n",
        "    os.mkdir(test_masked_dir) \n",
        "\n",
        "train_non_mask_image_count = math.ceil(non_mask_image_count*percent_to_train);\n",
        "\n",
        "# Copies the first 80% non masked images to train_no_masked_dir. \n",
        "fnames = ['{}.jpg'.format(i) for i in range(1, train_non_mask_image_count+1)]\n",
        "for fname in fnames:\n",
        "    src = os.path.join(nonMaskPath, fname)\n",
        "    dst = os.path.join(train_no_masked_dir, fname)\n",
        "    shutil.copyfile(src, dst)\n",
        "\n",
        "# Copies the next 20% no maskedimages to test_no_masked_dir\n",
        "fnames = ['{}.jpg'.format(i) for i in range(train_non_mask_image_count + 2, non_mask_image_count+1)]\n",
        "for fname in fnames:\n",
        "    src = os.path.join(nonMaskPath, fname)\n",
        "    dst = os.path.join(test_no_masked_dir, fname)\n",
        "    shutil.copyfile(src, dst)\n",
        "\n",
        "train_mask_image_count = math.ceil(mask_image_count*percent_to_train);\n",
        "# Copies the first 80% masked images to train_masked_dir\n",
        "fnames = ['{}.jpg'.format(i) for i in range(1, train_mask_image_count+1)]\n",
        "for fname in fnames:\n",
        "    src = os.path.join(maskPath, fname)\n",
        "    dst = os.path.join(train_masked_dir, fname)\n",
        "    shutil.copyfile(src, dst)\n",
        "\n",
        "# Copies the next 20% masked images to test_masked_dir\n",
        "fnames = ['{}.jpg'.format(i) for i in range(train_mask_image_count+2, mask_image_count+1)]\n",
        "for fname in fnames:\n",
        "    src = os.path.join(maskPath, fname)\n",
        "    dst = os.path.join(test_masked_dir, fname)\n",
        "    shutil.copyfile(src, dst)\n",
        "\n",
        "# Sanity Check to ensure that Train and Test Folders have the expected number of images\n",
        "\n",
        "print('Number of no masked Images in Training Directory is {}'.format(len(os.listdir(train_no_masked_dir))))\n",
        "print('Number of masked Images in Training Directory is {}'.format(len(os.listdir(train_masked_dir))))\n",
        "print('Number of no masked Images in Testing Directory is {}'.format(len(os.listdir(test_no_masked_dir))))\n",
        "print('Number of masked Images in Testing Directory is {}'.format(len(os.listdir(test_masked_dir))))"
      ],
      "execution_count": null,
      "outputs": [
        {
          "output_type": "stream",
          "text": [
            "Number of no masked Images in Training Directory is 72375\n",
            "Number of masked Images in Training Directory is 1763\n",
            "Number of no masked Images in Testing Directory is 18092\n",
            "Number of masked Images in Testing Directory is 439\n"
          ],
          "name": "stdout"
        }
      ]
    },
    {
      "cell_type": "markdown",
      "metadata": {
        "id": "kNrX1L88bWLJ"
      },
      "source": [
        "## Carregando a Base de dados"
      ]
    },
    {
      "cell_type": "code",
      "metadata": {
        "id": "ODilp4aXbVF0"
      },
      "source": [
        "batch_size = 64\n",
        "img_width = 299\n",
        "img_height = 299\n",
        "input_shape = (img_width, img_height, 3)"
      ],
      "execution_count": null,
      "outputs": []
    },
    {
      "cell_type": "code",
      "metadata": {
        "id": "Wk93IRDOaFvP"
      },
      "source": [
        "from tensorflow.keras.preprocessing.image import ImageDataGenerator\n",
        "\n",
        "def load_ds(preprocess_function):\n",
        "  datagen = ImageDataGenerator(rescale=1./255,\n",
        "            #  rotation_range=40,\n",
        "            #  width_shift_range= 0.1,\n",
        "            #  height_shift_range= 0.1,\n",
        "            #  shear_range =  2,\n",
        "            #  zoom_range =  0.2,\n",
        "            horizontal_flip=  True,\n",
        "            vertical_flip =  True,\n",
        "            #  vertical_flip =  False,\n",
        "            #  fill_mode = \"nearest\"\n",
        "            validation_split=0.2,\n",
        "            preprocessing_function=preprocess_function\n",
        "            )\n",
        "\n",
        "  train_ds = datagen.flow_from_directory(\n",
        "            train_dir,\n",
        "            target_size=(img_width, img_height),\n",
        "            batch_size=batch_size,\n",
        "            class_mode='binary',\n",
        "            subset='training')\n",
        "    \n",
        "  val_ds = datagen.flow_from_directory(\n",
        "            train_dir,\n",
        "            target_size=(img_width, img_height),\n",
        "            batch_size=batch_size,\n",
        "            class_mode='binary',\n",
        "            subset='validation')\n",
        "  \n",
        "  return (train_ds, val_ds)"
      ],
      "execution_count": null,
      "outputs": []
    },
    {
      "cell_type": "code",
      "metadata": {
        "id": "HjytrqFU5fUZ"
      },
      "source": [
        "def load_test_ds(preprocess_function):\n",
        "  datagen_test = ImageDataGenerator(\n",
        "      rescale=1./255,\n",
        "      preprocessing_function=preprocess_function\n",
        "      )\n",
        "  return datagen_test.flow_from_directory(\n",
        "            test_dir,\n",
        "            target_size=(img_width, img_height),\n",
        "            batch_size=batch_size,\n",
        "            class_mode='binary')\n"
      ],
      "execution_count": null,
      "outputs": []
    },
    {
      "cell_type": "markdown",
      "metadata": {
        "id": "sN1yO5JKeNlM"
      },
      "source": [
        "# Modelos"
      ]
    },
    {
      "cell_type": "markdown",
      "metadata": {
        "id": "ahZYgL_DDCrL"
      },
      "source": [
        "### Funções auxiliares"
      ]
    },
    {
      "cell_type": "markdown",
      "metadata": {
        "id": "ZWNalIDuFQl5"
      },
      "source": [
        "#### Cálculos de métricas"
      ]
    },
    {
      "cell_type": "code",
      "metadata": {
        "id": "kvmOw1uO8_Vf"
      },
      "source": [
        "from sklearn.metrics import confusion_matrix\n",
        "\n",
        "def cm_calc(model, predict_result, ds_, p=0.5):\n",
        "  np.set_printoptions(precision=3, suppress=True)\n",
        "\n",
        "  # Matriz de confusão\n",
        "  cm = confusion_matrix(ds_.classes, predict_result > p)\n",
        "  print(\"Matriz de confusão\")\n",
        "  print(cm)\n",
        "\n",
        "  return cm\n"
      ],
      "execution_count": null,
      "outputs": []
    },
    {
      "cell_type": "code",
      "metadata": {
        "id": "T5tKjN76-WHW"
      },
      "source": [
        "\n",
        "def balanced_acc_calc(cm): \n",
        "  # Matriz de confusão normalizada\n",
        "  cmn = cm / cm.astype(np.float).sum(axis=1, keepdims=True)\n",
        "  balanced_acc = np.trace(cmn) / 2\n",
        "  print(\"\\n\\nMatriz de confusão balanceada\")\n",
        "  print(cmn)\n",
        "  print(\"\\n\\nAcurácia balanceada:\", balanced_acc)\n",
        "  return balanced_acc\n"
      ],
      "execution_count": null,
      "outputs": []
    },
    {
      "cell_type": "markdown",
      "metadata": {
        "id": "MeTs_iKIFdZh"
      },
      "source": [
        "#### Visualizações"
      ]
    },
    {
      "cell_type": "code",
      "metadata": {
        "id": "HTTN-WA-9_tA"
      },
      "source": [
        "import matplotlib.pyplot as plt"
      ],
      "execution_count": null,
      "outputs": []
    },
    {
      "cell_type": "code",
      "metadata": {
        "id": "nplXNduO3W4N"
      },
      "source": [
        "import seaborn as sns\n",
        "def plot_cm(cm,  p=0.5):\n",
        "  #cm = confusion_matrix(labels, predictions > p)\n",
        "  plt.figure(figsize=(5,5))\n",
        "  sns.heatmap(cm, annot=True, fmt=\"d\")\n",
        "  plt.title('Confusion matrix @{:.2f}'.format(p))\n",
        "  # plt.title('Confusion matrix @{:.2f}')\n",
        "  plt.ylabel('Actual label')\n",
        "  plt.xlabel('Predicted label')\n",
        "\n",
        "  print('Non Mask Detected (True Negatives): ', cm[0][0])\n",
        "  print('Non Mask Incorrectly Detected (False Positives): ', cm[0][1])\n",
        "  print('With mask Missed (False Negatives): ', cm[1][0])\n",
        "  print('With mask Detected (True Positives): ', cm[1][1])\n",
        "  print('Total with Mask: ', np.sum(cm[1]))"
      ],
      "execution_count": null,
      "outputs": []
    },
    {
      "cell_type": "code",
      "metadata": {
        "id": "qMSR2n9a1jKG"
      },
      "source": [
        "colors = plt.rcParams['axes.prop_cycle'].by_key()['color']\n",
        "\n",
        "def plot_metrics(history):\n",
        "  #metrics = ['loss', 'auc', 'precision', 'recall']\n",
        "  #metrics = ['loss', 'weighted_auc', 'weighted_precision', 'weighted_recall']\n",
        "  interested_metrics = ['loss', 'weighted_auc', 'weighted_precision', 'weighted_recall']\n",
        "  raw_metrics = list(history.history.keys())\n",
        "  \n",
        "  metrics = filter(lambda e: any(ext in e for ext in interested_metrics), raw_metrics)\n",
        "  metrics = filter(lambda e: \"val\" not in e, metrics)\n",
        "  metrics = list(metrics)\n",
        "\n",
        "  for n, metric in enumerate(metrics):\n",
        "    name = metric.replace(\"_\",\" \").capitalize()\n",
        "    plt.subplot(2,2,n+1)\n",
        "    plt.plot(history.epoch, history.history[metric], color=colors[0], label='Train')\n",
        "    plt.plot(history.epoch, history.history['val_'+metric],\n",
        "             color=colors[0], linestyle=\"--\", label='Val')\n",
        "    plt.xlabel('Epoch')\n",
        "    plt.ylabel(name)\n",
        "    if metric == 'loss':\n",
        "      plt.ylim([0, plt.ylim()[1]])\n",
        "    elif metric == 'weighted_auc':\n",
        "      plt.ylim([0.8,1])\n",
        "    else:\n",
        "      plt.ylim([0,1])\n",
        "\n",
        "    plt.legend()"
      ],
      "execution_count": null,
      "outputs": []
    },
    {
      "cell_type": "code",
      "metadata": {
        "id": "mQWFZmFtqQ_o"
      },
      "source": [
        "import sklearn\n",
        "def plot_roc(name, labels, predictions, **kwargs):\n",
        "  fp, tp, _ = sklearn.metrics.roc_curve(labels, predictions)\n",
        "\n",
        "  plt.plot(100*fp, 100*tp, label=name, linewidth=2, **kwargs)\n",
        "  plt.xlabel('False positives [%]')\n",
        "  plt.ylabel('True positives [%]')\n",
        "  plt.xlim([-0.5,20])\n",
        "  plt.ylim([80,100.5])\n",
        "  plt.grid(True)\n",
        "  ax = plt.gca()\n",
        "  ax.set_aspect('equal')"
      ],
      "execution_count": null,
      "outputs": []
    },
    {
      "cell_type": "code",
      "metadata": {
        "id": "0cSzcMQcqUOH"
      },
      "source": [
        "def plot_loss(history, label, n):\n",
        "  # Use a log scale to show the wide range of values.\n",
        "  plt.semilogy(history.epoch, history.history['loss'],\n",
        "               color=colors[n], label='Train '+label)\n",
        "  plt.semilogy(history.epoch, history.history['val_loss'],\n",
        "          color=colors[n], label='Val '+label,\n",
        "          linestyle=\"--\")\n",
        "  plt.xlabel('Epoch')\n",
        "  plt.ylabel('Loss')\n",
        "\n",
        "  plt.legend()"
      ],
      "execution_count": null,
      "outputs": []
    },
    {
      "cell_type": "code",
      "metadata": {
        "id": "Z2GobSTP_gsQ"
      },
      "source": [
        "def print_score(desc, score):\n",
        "  print(desc, \" metrics:\")\n",
        "  print('loss:', score[0])\n",
        "  print('tp:', score[1])\n",
        "  print('fp:', score[2])\n",
        "  print('tn:', score[3])\n",
        "  print('fn:', score[4])\n",
        "  print('accuracy:', score[5])\n",
        "  print('precision:', score[6])\n",
        "  print('recall:', score[7])\n",
        "  print('auc:', score[8])"
      ],
      "execution_count": null,
      "outputs": []
    },
    {
      "cell_type": "markdown",
      "metadata": {
        "id": "UNCKzVXvFhuX"
      },
      "source": [
        "#### Definições para os modelos"
      ]
    },
    {
      "cell_type": "code",
      "metadata": {
        "id": "mMraln20eXx6"
      },
      "source": [
        "import numpy as np\n",
        "import tensorflow as tf\n",
        "from tensorflow import keras"
      ],
      "execution_count": null,
      "outputs": []
    },
    {
      "cell_type": "code",
      "metadata": {
        "id": "DDqEDpcFAhI9"
      },
      "source": [
        "METRICS = [\n",
        "      tf.keras.metrics.TruePositives(name='tp'),\n",
        "      tf.keras.metrics.FalsePositives(name='fp'),\n",
        "      tf.keras.metrics.TrueNegatives(name='tn'),\n",
        "      tf.keras.metrics.FalseNegatives(name='fn'), \n",
        "      tf.keras.metrics.BinaryAccuracy(name='accuracy'),\n",
        "      tf.keras.metrics.Precision(name='precision'),\n",
        "      tf.keras.metrics.Recall(name='recall'),\n",
        "      tf.keras.metrics.AUC(name='auc'),\n",
        "]"
      ],
      "execution_count": null,
      "outputs": []
    },
    {
      "cell_type": "code",
      "metadata": {
        "id": "GEzbSEcaeh9b"
      },
      "source": [
        "epochs=100\n",
        "optimizer=keras.optimizers.Adam(1e-3)\n",
        "callbacks=[tf.keras.callbacks.EarlyStopping(\n",
        "    \n",
        "    monitor='val_loss', patience=10\n",
        "    restore_best_weights=True #TODO: é melhor?\n",
        "    )]\n",
        "\n",
        "#TODO: ver se é melhor com essas configs\n",
        "# callbacks=[tf.keras.callbacks.EarlyStopping(\n",
        "#     monitor='val_auc', \n",
        "#     verbose=1,\n",
        "#     patience=10,\n",
        "#     mode='max',\n",
        "#     restore_best_weights=True)\n",
        "# ]"
      ],
      "execution_count": null,
      "outputs": []
    },
    {
      "cell_type": "code",
      "metadata": {
        "id": "TT8DlPQYqobG"
      },
      "source": [
        "import tempfile\n",
        "import os\n",
        "# TODO: ver se vale a pena\n",
        "# initial_weights = os.path.join(tempfile.mkdtemp(), 'initial_weights')"
      ],
      "execution_count": null,
      "outputs": []
    },
    {
      "cell_type": "markdown",
      "metadata": {
        "id": "L4WIeRbmeQNM"
      },
      "source": [
        "## Baseline Resnet 50"
      ]
    },
    {
      "cell_type": "code",
      "metadata": {
        "id": "emZkqxS91pjx"
      },
      "source": [
        "from tensorflow.keras.applications import resnet50"
      ],
      "execution_count": null,
      "outputs": []
    },
    {
      "cell_type": "code",
      "metadata": {
        "colab": {
          "base_uri": "https://localhost:8080/"
        },
        "id": "NiCXt08u2ibq",
        "outputId": "9755cf0b-9c5d-48c8-9f85-4dbca97fea3f"
      },
      "source": [
        "(resnet50_train_ds, resnet50_val_ds) = load_ds(resnet50.preprocess_input)\n",
        "resnet50_test_ds = load_test_ds(resnet50.preprocess_input)"
      ],
      "execution_count": null,
      "outputs": [
        {
          "output_type": "stream",
          "text": [
            "Found 59311 images belonging to 2 classes.\n",
            "Found 14827 images belonging to 2 classes.\n",
            "Found 18531 images belonging to 2 classes.\n"
          ],
          "name": "stdout"
        }
      ]
    },
    {
      "cell_type": "code",
      "metadata": {
        "colab": {
          "base_uri": "https://localhost:8080/"
        },
        "id": "X2gIyxupdy5t",
        "outputId": "f909243e-2abe-436c-ecf6-9aa97e42f4b5"
      },
      "source": [
        "class_names = list(resnet50_train_ds.class_indices.keys())\n",
        "class_names"
      ],
      "execution_count": null,
      "outputs": [
        {
          "output_type": "execute_result",
          "data": {
            "text/plain": [
              "['0_no_masked', '1_masked']"
            ]
          },
          "metadata": {
            "tags": []
          },
          "execution_count": 30
        }
      ]
    },
    {
      "cell_type": "code",
      "metadata": {
        "id": "-Hx4Ejwxo75G"
      },
      "source": [
        ""
      ],
      "execution_count": null,
      "outputs": []
    },
    {
      "cell_type": "code",
      "metadata": {
        "colab": {
          "base_uri": "https://localhost:8080/"
        },
        "id": "9h7DeftQePmz",
        "outputId": "47746165-b062-41e8-ae39-e042420647e6"
      },
      "source": [
        "# Modelo pré-treinado SEM as camadas densas (include_top = False)\n",
        "resnet50_model = tf.keras.applications.ResNet50(\n",
        "    weights='imagenet', \n",
        "    include_top=False, \n",
        "    input_shape=input_shape,\n",
        "    )\n",
        "\n",
        "# Congela camadas pré-treinadas\n",
        "resnet50_model.trainable = False\n",
        "\n",
        "resnet50_model.summary()"
      ],
      "execution_count": null,
      "outputs": [
        {
          "output_type": "stream",
          "text": [
            "Downloading data from https://storage.googleapis.com/tensorflow/keras-applications/resnet/resnet50_weights_tf_dim_ordering_tf_kernels_notop.h5\n",
            "94773248/94765736 [==============================] - 1s 0us/step\n",
            "Model: \"resnet50\"\n",
            "__________________________________________________________________________________________________\n",
            "Layer (type)                    Output Shape         Param #     Connected to                     \n",
            "==================================================================================================\n",
            "input_1 (InputLayer)            [(None, 299, 299, 3) 0                                            \n",
            "__________________________________________________________________________________________________\n",
            "conv1_pad (ZeroPadding2D)       (None, 305, 305, 3)  0           input_1[0][0]                    \n",
            "__________________________________________________________________________________________________\n",
            "conv1_conv (Conv2D)             (None, 150, 150, 64) 9472        conv1_pad[0][0]                  \n",
            "__________________________________________________________________________________________________\n",
            "conv1_bn (BatchNormalization)   (None, 150, 150, 64) 256         conv1_conv[0][0]                 \n",
            "__________________________________________________________________________________________________\n",
            "conv1_relu (Activation)         (None, 150, 150, 64) 0           conv1_bn[0][0]                   \n",
            "__________________________________________________________________________________________________\n",
            "pool1_pad (ZeroPadding2D)       (None, 152, 152, 64) 0           conv1_relu[0][0]                 \n",
            "__________________________________________________________________________________________________\n",
            "pool1_pool (MaxPooling2D)       (None, 75, 75, 64)   0           pool1_pad[0][0]                  \n",
            "__________________________________________________________________________________________________\n",
            "conv2_block1_1_conv (Conv2D)    (None, 75, 75, 64)   4160        pool1_pool[0][0]                 \n",
            "__________________________________________________________________________________________________\n",
            "conv2_block1_1_bn (BatchNormali (None, 75, 75, 64)   256         conv2_block1_1_conv[0][0]        \n",
            "__________________________________________________________________________________________________\n",
            "conv2_block1_1_relu (Activation (None, 75, 75, 64)   0           conv2_block1_1_bn[0][0]          \n",
            "__________________________________________________________________________________________________\n",
            "conv2_block1_2_conv (Conv2D)    (None, 75, 75, 64)   36928       conv2_block1_1_relu[0][0]        \n",
            "__________________________________________________________________________________________________\n",
            "conv2_block1_2_bn (BatchNormali (None, 75, 75, 64)   256         conv2_block1_2_conv[0][0]        \n",
            "__________________________________________________________________________________________________\n",
            "conv2_block1_2_relu (Activation (None, 75, 75, 64)   0           conv2_block1_2_bn[0][0]          \n",
            "__________________________________________________________________________________________________\n",
            "conv2_block1_0_conv (Conv2D)    (None, 75, 75, 256)  16640       pool1_pool[0][0]                 \n",
            "__________________________________________________________________________________________________\n",
            "conv2_block1_3_conv (Conv2D)    (None, 75, 75, 256)  16640       conv2_block1_2_relu[0][0]        \n",
            "__________________________________________________________________________________________________\n",
            "conv2_block1_0_bn (BatchNormali (None, 75, 75, 256)  1024        conv2_block1_0_conv[0][0]        \n",
            "__________________________________________________________________________________________________\n",
            "conv2_block1_3_bn (BatchNormali (None, 75, 75, 256)  1024        conv2_block1_3_conv[0][0]        \n",
            "__________________________________________________________________________________________________\n",
            "conv2_block1_add (Add)          (None, 75, 75, 256)  0           conv2_block1_0_bn[0][0]          \n",
            "                                                                 conv2_block1_3_bn[0][0]          \n",
            "__________________________________________________________________________________________________\n",
            "conv2_block1_out (Activation)   (None, 75, 75, 256)  0           conv2_block1_add[0][0]           \n",
            "__________________________________________________________________________________________________\n",
            "conv2_block2_1_conv (Conv2D)    (None, 75, 75, 64)   16448       conv2_block1_out[0][0]           \n",
            "__________________________________________________________________________________________________\n",
            "conv2_block2_1_bn (BatchNormali (None, 75, 75, 64)   256         conv2_block2_1_conv[0][0]        \n",
            "__________________________________________________________________________________________________\n",
            "conv2_block2_1_relu (Activation (None, 75, 75, 64)   0           conv2_block2_1_bn[0][0]          \n",
            "__________________________________________________________________________________________________\n",
            "conv2_block2_2_conv (Conv2D)    (None, 75, 75, 64)   36928       conv2_block2_1_relu[0][0]        \n",
            "__________________________________________________________________________________________________\n",
            "conv2_block2_2_bn (BatchNormali (None, 75, 75, 64)   256         conv2_block2_2_conv[0][0]        \n",
            "__________________________________________________________________________________________________\n",
            "conv2_block2_2_relu (Activation (None, 75, 75, 64)   0           conv2_block2_2_bn[0][0]          \n",
            "__________________________________________________________________________________________________\n",
            "conv2_block2_3_conv (Conv2D)    (None, 75, 75, 256)  16640       conv2_block2_2_relu[0][0]        \n",
            "__________________________________________________________________________________________________\n",
            "conv2_block2_3_bn (BatchNormali (None, 75, 75, 256)  1024        conv2_block2_3_conv[0][0]        \n",
            "__________________________________________________________________________________________________\n",
            "conv2_block2_add (Add)          (None, 75, 75, 256)  0           conv2_block1_out[0][0]           \n",
            "                                                                 conv2_block2_3_bn[0][0]          \n",
            "__________________________________________________________________________________________________\n",
            "conv2_block2_out (Activation)   (None, 75, 75, 256)  0           conv2_block2_add[0][0]           \n",
            "__________________________________________________________________________________________________\n",
            "conv2_block3_1_conv (Conv2D)    (None, 75, 75, 64)   16448       conv2_block2_out[0][0]           \n",
            "__________________________________________________________________________________________________\n",
            "conv2_block3_1_bn (BatchNormali (None, 75, 75, 64)   256         conv2_block3_1_conv[0][0]        \n",
            "__________________________________________________________________________________________________\n",
            "conv2_block3_1_relu (Activation (None, 75, 75, 64)   0           conv2_block3_1_bn[0][0]          \n",
            "__________________________________________________________________________________________________\n",
            "conv2_block3_2_conv (Conv2D)    (None, 75, 75, 64)   36928       conv2_block3_1_relu[0][0]        \n",
            "__________________________________________________________________________________________________\n",
            "conv2_block3_2_bn (BatchNormali (None, 75, 75, 64)   256         conv2_block3_2_conv[0][0]        \n",
            "__________________________________________________________________________________________________\n",
            "conv2_block3_2_relu (Activation (None, 75, 75, 64)   0           conv2_block3_2_bn[0][0]          \n",
            "__________________________________________________________________________________________________\n",
            "conv2_block3_3_conv (Conv2D)    (None, 75, 75, 256)  16640       conv2_block3_2_relu[0][0]        \n",
            "__________________________________________________________________________________________________\n",
            "conv2_block3_3_bn (BatchNormali (None, 75, 75, 256)  1024        conv2_block3_3_conv[0][0]        \n",
            "__________________________________________________________________________________________________\n",
            "conv2_block3_add (Add)          (None, 75, 75, 256)  0           conv2_block2_out[0][0]           \n",
            "                                                                 conv2_block3_3_bn[0][0]          \n",
            "__________________________________________________________________________________________________\n",
            "conv2_block3_out (Activation)   (None, 75, 75, 256)  0           conv2_block3_add[0][0]           \n",
            "__________________________________________________________________________________________________\n",
            "conv3_block1_1_conv (Conv2D)    (None, 38, 38, 128)  32896       conv2_block3_out[0][0]           \n",
            "__________________________________________________________________________________________________\n",
            "conv3_block1_1_bn (BatchNormali (None, 38, 38, 128)  512         conv3_block1_1_conv[0][0]        \n",
            "__________________________________________________________________________________________________\n",
            "conv3_block1_1_relu (Activation (None, 38, 38, 128)  0           conv3_block1_1_bn[0][0]          \n",
            "__________________________________________________________________________________________________\n",
            "conv3_block1_2_conv (Conv2D)    (None, 38, 38, 128)  147584      conv3_block1_1_relu[0][0]        \n",
            "__________________________________________________________________________________________________\n",
            "conv3_block1_2_bn (BatchNormali (None, 38, 38, 128)  512         conv3_block1_2_conv[0][0]        \n",
            "__________________________________________________________________________________________________\n",
            "conv3_block1_2_relu (Activation (None, 38, 38, 128)  0           conv3_block1_2_bn[0][0]          \n",
            "__________________________________________________________________________________________________\n",
            "conv3_block1_0_conv (Conv2D)    (None, 38, 38, 512)  131584      conv2_block3_out[0][0]           \n",
            "__________________________________________________________________________________________________\n",
            "conv3_block1_3_conv (Conv2D)    (None, 38, 38, 512)  66048       conv3_block1_2_relu[0][0]        \n",
            "__________________________________________________________________________________________________\n",
            "conv3_block1_0_bn (BatchNormali (None, 38, 38, 512)  2048        conv3_block1_0_conv[0][0]        \n",
            "__________________________________________________________________________________________________\n",
            "conv3_block1_3_bn (BatchNormali (None, 38, 38, 512)  2048        conv3_block1_3_conv[0][0]        \n",
            "__________________________________________________________________________________________________\n",
            "conv3_block1_add (Add)          (None, 38, 38, 512)  0           conv3_block1_0_bn[0][0]          \n",
            "                                                                 conv3_block1_3_bn[0][0]          \n",
            "__________________________________________________________________________________________________\n",
            "conv3_block1_out (Activation)   (None, 38, 38, 512)  0           conv3_block1_add[0][0]           \n",
            "__________________________________________________________________________________________________\n",
            "conv3_block2_1_conv (Conv2D)    (None, 38, 38, 128)  65664       conv3_block1_out[0][0]           \n",
            "__________________________________________________________________________________________________\n",
            "conv3_block2_1_bn (BatchNormali (None, 38, 38, 128)  512         conv3_block2_1_conv[0][0]        \n",
            "__________________________________________________________________________________________________\n",
            "conv3_block2_1_relu (Activation (None, 38, 38, 128)  0           conv3_block2_1_bn[0][0]          \n",
            "__________________________________________________________________________________________________\n",
            "conv3_block2_2_conv (Conv2D)    (None, 38, 38, 128)  147584      conv3_block2_1_relu[0][0]        \n",
            "__________________________________________________________________________________________________\n",
            "conv3_block2_2_bn (BatchNormali (None, 38, 38, 128)  512         conv3_block2_2_conv[0][0]        \n",
            "__________________________________________________________________________________________________\n",
            "conv3_block2_2_relu (Activation (None, 38, 38, 128)  0           conv3_block2_2_bn[0][0]          \n",
            "__________________________________________________________________________________________________\n",
            "conv3_block2_3_conv (Conv2D)    (None, 38, 38, 512)  66048       conv3_block2_2_relu[0][0]        \n",
            "__________________________________________________________________________________________________\n",
            "conv3_block2_3_bn (BatchNormali (None, 38, 38, 512)  2048        conv3_block2_3_conv[0][0]        \n",
            "__________________________________________________________________________________________________\n",
            "conv3_block2_add (Add)          (None, 38, 38, 512)  0           conv3_block1_out[0][0]           \n",
            "                                                                 conv3_block2_3_bn[0][0]          \n",
            "__________________________________________________________________________________________________\n",
            "conv3_block2_out (Activation)   (None, 38, 38, 512)  0           conv3_block2_add[0][0]           \n",
            "__________________________________________________________________________________________________\n",
            "conv3_block3_1_conv (Conv2D)    (None, 38, 38, 128)  65664       conv3_block2_out[0][0]           \n",
            "__________________________________________________________________________________________________\n",
            "conv3_block3_1_bn (BatchNormali (None, 38, 38, 128)  512         conv3_block3_1_conv[0][0]        \n",
            "__________________________________________________________________________________________________\n",
            "conv3_block3_1_relu (Activation (None, 38, 38, 128)  0           conv3_block3_1_bn[0][0]          \n",
            "__________________________________________________________________________________________________\n",
            "conv3_block3_2_conv (Conv2D)    (None, 38, 38, 128)  147584      conv3_block3_1_relu[0][0]        \n",
            "__________________________________________________________________________________________________\n",
            "conv3_block3_2_bn (BatchNormali (None, 38, 38, 128)  512         conv3_block3_2_conv[0][0]        \n",
            "__________________________________________________________________________________________________\n",
            "conv3_block3_2_relu (Activation (None, 38, 38, 128)  0           conv3_block3_2_bn[0][0]          \n",
            "__________________________________________________________________________________________________\n",
            "conv3_block3_3_conv (Conv2D)    (None, 38, 38, 512)  66048       conv3_block3_2_relu[0][0]        \n",
            "__________________________________________________________________________________________________\n",
            "conv3_block3_3_bn (BatchNormali (None, 38, 38, 512)  2048        conv3_block3_3_conv[0][0]        \n",
            "__________________________________________________________________________________________________\n",
            "conv3_block3_add (Add)          (None, 38, 38, 512)  0           conv3_block2_out[0][0]           \n",
            "                                                                 conv3_block3_3_bn[0][0]          \n",
            "__________________________________________________________________________________________________\n",
            "conv3_block3_out (Activation)   (None, 38, 38, 512)  0           conv3_block3_add[0][0]           \n",
            "__________________________________________________________________________________________________\n",
            "conv3_block4_1_conv (Conv2D)    (None, 38, 38, 128)  65664       conv3_block3_out[0][0]           \n",
            "__________________________________________________________________________________________________\n",
            "conv3_block4_1_bn (BatchNormali (None, 38, 38, 128)  512         conv3_block4_1_conv[0][0]        \n",
            "__________________________________________________________________________________________________\n",
            "conv3_block4_1_relu (Activation (None, 38, 38, 128)  0           conv3_block4_1_bn[0][0]          \n",
            "__________________________________________________________________________________________________\n",
            "conv3_block4_2_conv (Conv2D)    (None, 38, 38, 128)  147584      conv3_block4_1_relu[0][0]        \n",
            "__________________________________________________________________________________________________\n",
            "conv3_block4_2_bn (BatchNormali (None, 38, 38, 128)  512         conv3_block4_2_conv[0][0]        \n",
            "__________________________________________________________________________________________________\n",
            "conv3_block4_2_relu (Activation (None, 38, 38, 128)  0           conv3_block4_2_bn[0][0]          \n",
            "__________________________________________________________________________________________________\n",
            "conv3_block4_3_conv (Conv2D)    (None, 38, 38, 512)  66048       conv3_block4_2_relu[0][0]        \n",
            "__________________________________________________________________________________________________\n",
            "conv3_block4_3_bn (BatchNormali (None, 38, 38, 512)  2048        conv3_block4_3_conv[0][0]        \n",
            "__________________________________________________________________________________________________\n",
            "conv3_block4_add (Add)          (None, 38, 38, 512)  0           conv3_block3_out[0][0]           \n",
            "                                                                 conv3_block4_3_bn[0][0]          \n",
            "__________________________________________________________________________________________________\n",
            "conv3_block4_out (Activation)   (None, 38, 38, 512)  0           conv3_block4_add[0][0]           \n",
            "__________________________________________________________________________________________________\n",
            "conv4_block1_1_conv (Conv2D)    (None, 19, 19, 256)  131328      conv3_block4_out[0][0]           \n",
            "__________________________________________________________________________________________________\n",
            "conv4_block1_1_bn (BatchNormali (None, 19, 19, 256)  1024        conv4_block1_1_conv[0][0]        \n",
            "__________________________________________________________________________________________________\n",
            "conv4_block1_1_relu (Activation (None, 19, 19, 256)  0           conv4_block1_1_bn[0][0]          \n",
            "__________________________________________________________________________________________________\n",
            "conv4_block1_2_conv (Conv2D)    (None, 19, 19, 256)  590080      conv4_block1_1_relu[0][0]        \n",
            "__________________________________________________________________________________________________\n",
            "conv4_block1_2_bn (BatchNormali (None, 19, 19, 256)  1024        conv4_block1_2_conv[0][0]        \n",
            "__________________________________________________________________________________________________\n",
            "conv4_block1_2_relu (Activation (None, 19, 19, 256)  0           conv4_block1_2_bn[0][0]          \n",
            "__________________________________________________________________________________________________\n",
            "conv4_block1_0_conv (Conv2D)    (None, 19, 19, 1024) 525312      conv3_block4_out[0][0]           \n",
            "__________________________________________________________________________________________________\n",
            "conv4_block1_3_conv (Conv2D)    (None, 19, 19, 1024) 263168      conv4_block1_2_relu[0][0]        \n",
            "__________________________________________________________________________________________________\n",
            "conv4_block1_0_bn (BatchNormali (None, 19, 19, 1024) 4096        conv4_block1_0_conv[0][0]        \n",
            "__________________________________________________________________________________________________\n",
            "conv4_block1_3_bn (BatchNormali (None, 19, 19, 1024) 4096        conv4_block1_3_conv[0][0]        \n",
            "__________________________________________________________________________________________________\n",
            "conv4_block1_add (Add)          (None, 19, 19, 1024) 0           conv4_block1_0_bn[0][0]          \n",
            "                                                                 conv4_block1_3_bn[0][0]          \n",
            "__________________________________________________________________________________________________\n",
            "conv4_block1_out (Activation)   (None, 19, 19, 1024) 0           conv4_block1_add[0][0]           \n",
            "__________________________________________________________________________________________________\n",
            "conv4_block2_1_conv (Conv2D)    (None, 19, 19, 256)  262400      conv4_block1_out[0][0]           \n",
            "__________________________________________________________________________________________________\n",
            "conv4_block2_1_bn (BatchNormali (None, 19, 19, 256)  1024        conv4_block2_1_conv[0][0]        \n",
            "__________________________________________________________________________________________________\n",
            "conv4_block2_1_relu (Activation (None, 19, 19, 256)  0           conv4_block2_1_bn[0][0]          \n",
            "__________________________________________________________________________________________________\n",
            "conv4_block2_2_conv (Conv2D)    (None, 19, 19, 256)  590080      conv4_block2_1_relu[0][0]        \n",
            "__________________________________________________________________________________________________\n",
            "conv4_block2_2_bn (BatchNormali (None, 19, 19, 256)  1024        conv4_block2_2_conv[0][0]        \n",
            "__________________________________________________________________________________________________\n",
            "conv4_block2_2_relu (Activation (None, 19, 19, 256)  0           conv4_block2_2_bn[0][0]          \n",
            "__________________________________________________________________________________________________\n",
            "conv4_block2_3_conv (Conv2D)    (None, 19, 19, 1024) 263168      conv4_block2_2_relu[0][0]        \n",
            "__________________________________________________________________________________________________\n",
            "conv4_block2_3_bn (BatchNormali (None, 19, 19, 1024) 4096        conv4_block2_3_conv[0][0]        \n",
            "__________________________________________________________________________________________________\n",
            "conv4_block2_add (Add)          (None, 19, 19, 1024) 0           conv4_block1_out[0][0]           \n",
            "                                                                 conv4_block2_3_bn[0][0]          \n",
            "__________________________________________________________________________________________________\n",
            "conv4_block2_out (Activation)   (None, 19, 19, 1024) 0           conv4_block2_add[0][0]           \n",
            "__________________________________________________________________________________________________\n",
            "conv4_block3_1_conv (Conv2D)    (None, 19, 19, 256)  262400      conv4_block2_out[0][0]           \n",
            "__________________________________________________________________________________________________\n",
            "conv4_block3_1_bn (BatchNormali (None, 19, 19, 256)  1024        conv4_block3_1_conv[0][0]        \n",
            "__________________________________________________________________________________________________\n",
            "conv4_block3_1_relu (Activation (None, 19, 19, 256)  0           conv4_block3_1_bn[0][0]          \n",
            "__________________________________________________________________________________________________\n",
            "conv4_block3_2_conv (Conv2D)    (None, 19, 19, 256)  590080      conv4_block3_1_relu[0][0]        \n",
            "__________________________________________________________________________________________________\n",
            "conv4_block3_2_bn (BatchNormali (None, 19, 19, 256)  1024        conv4_block3_2_conv[0][0]        \n",
            "__________________________________________________________________________________________________\n",
            "conv4_block3_2_relu (Activation (None, 19, 19, 256)  0           conv4_block3_2_bn[0][0]          \n",
            "__________________________________________________________________________________________________\n",
            "conv4_block3_3_conv (Conv2D)    (None, 19, 19, 1024) 263168      conv4_block3_2_relu[0][0]        \n",
            "__________________________________________________________________________________________________\n",
            "conv4_block3_3_bn (BatchNormali (None, 19, 19, 1024) 4096        conv4_block3_3_conv[0][0]        \n",
            "__________________________________________________________________________________________________\n",
            "conv4_block3_add (Add)          (None, 19, 19, 1024) 0           conv4_block2_out[0][0]           \n",
            "                                                                 conv4_block3_3_bn[0][0]          \n",
            "__________________________________________________________________________________________________\n",
            "conv4_block3_out (Activation)   (None, 19, 19, 1024) 0           conv4_block3_add[0][0]           \n",
            "__________________________________________________________________________________________________\n",
            "conv4_block4_1_conv (Conv2D)    (None, 19, 19, 256)  262400      conv4_block3_out[0][0]           \n",
            "__________________________________________________________________________________________________\n",
            "conv4_block4_1_bn (BatchNormali (None, 19, 19, 256)  1024        conv4_block4_1_conv[0][0]        \n",
            "__________________________________________________________________________________________________\n",
            "conv4_block4_1_relu (Activation (None, 19, 19, 256)  0           conv4_block4_1_bn[0][0]          \n",
            "__________________________________________________________________________________________________\n",
            "conv4_block4_2_conv (Conv2D)    (None, 19, 19, 256)  590080      conv4_block4_1_relu[0][0]        \n",
            "__________________________________________________________________________________________________\n",
            "conv4_block4_2_bn (BatchNormali (None, 19, 19, 256)  1024        conv4_block4_2_conv[0][0]        \n",
            "__________________________________________________________________________________________________\n",
            "conv4_block4_2_relu (Activation (None, 19, 19, 256)  0           conv4_block4_2_bn[0][0]          \n",
            "__________________________________________________________________________________________________\n",
            "conv4_block4_3_conv (Conv2D)    (None, 19, 19, 1024) 263168      conv4_block4_2_relu[0][0]        \n",
            "__________________________________________________________________________________________________\n",
            "conv4_block4_3_bn (BatchNormali (None, 19, 19, 1024) 4096        conv4_block4_3_conv[0][0]        \n",
            "__________________________________________________________________________________________________\n",
            "conv4_block4_add (Add)          (None, 19, 19, 1024) 0           conv4_block3_out[0][0]           \n",
            "                                                                 conv4_block4_3_bn[0][0]          \n",
            "__________________________________________________________________________________________________\n",
            "conv4_block4_out (Activation)   (None, 19, 19, 1024) 0           conv4_block4_add[0][0]           \n",
            "__________________________________________________________________________________________________\n",
            "conv4_block5_1_conv (Conv2D)    (None, 19, 19, 256)  262400      conv4_block4_out[0][0]           \n",
            "__________________________________________________________________________________________________\n",
            "conv4_block5_1_bn (BatchNormali (None, 19, 19, 256)  1024        conv4_block5_1_conv[0][0]        \n",
            "__________________________________________________________________________________________________\n",
            "conv4_block5_1_relu (Activation (None, 19, 19, 256)  0           conv4_block5_1_bn[0][0]          \n",
            "__________________________________________________________________________________________________\n",
            "conv4_block5_2_conv (Conv2D)    (None, 19, 19, 256)  590080      conv4_block5_1_relu[0][0]        \n",
            "__________________________________________________________________________________________________\n",
            "conv4_block5_2_bn (BatchNormali (None, 19, 19, 256)  1024        conv4_block5_2_conv[0][0]        \n",
            "__________________________________________________________________________________________________\n",
            "conv4_block5_2_relu (Activation (None, 19, 19, 256)  0           conv4_block5_2_bn[0][0]          \n",
            "__________________________________________________________________________________________________\n",
            "conv4_block5_3_conv (Conv2D)    (None, 19, 19, 1024) 263168      conv4_block5_2_relu[0][0]        \n",
            "__________________________________________________________________________________________________\n",
            "conv4_block5_3_bn (BatchNormali (None, 19, 19, 1024) 4096        conv4_block5_3_conv[0][0]        \n",
            "__________________________________________________________________________________________________\n",
            "conv4_block5_add (Add)          (None, 19, 19, 1024) 0           conv4_block4_out[0][0]           \n",
            "                                                                 conv4_block5_3_bn[0][0]          \n",
            "__________________________________________________________________________________________________\n",
            "conv4_block5_out (Activation)   (None, 19, 19, 1024) 0           conv4_block5_add[0][0]           \n",
            "__________________________________________________________________________________________________\n",
            "conv4_block6_1_conv (Conv2D)    (None, 19, 19, 256)  262400      conv4_block5_out[0][0]           \n",
            "__________________________________________________________________________________________________\n",
            "conv4_block6_1_bn (BatchNormali (None, 19, 19, 256)  1024        conv4_block6_1_conv[0][0]        \n",
            "__________________________________________________________________________________________________\n",
            "conv4_block6_1_relu (Activation (None, 19, 19, 256)  0           conv4_block6_1_bn[0][0]          \n",
            "__________________________________________________________________________________________________\n",
            "conv4_block6_2_conv (Conv2D)    (None, 19, 19, 256)  590080      conv4_block6_1_relu[0][0]        \n",
            "__________________________________________________________________________________________________\n",
            "conv4_block6_2_bn (BatchNormali (None, 19, 19, 256)  1024        conv4_block6_2_conv[0][0]        \n",
            "__________________________________________________________________________________________________\n",
            "conv4_block6_2_relu (Activation (None, 19, 19, 256)  0           conv4_block6_2_bn[0][0]          \n",
            "__________________________________________________________________________________________________\n",
            "conv4_block6_3_conv (Conv2D)    (None, 19, 19, 1024) 263168      conv4_block6_2_relu[0][0]        \n",
            "__________________________________________________________________________________________________\n",
            "conv4_block6_3_bn (BatchNormali (None, 19, 19, 1024) 4096        conv4_block6_3_conv[0][0]        \n",
            "__________________________________________________________________________________________________\n",
            "conv4_block6_add (Add)          (None, 19, 19, 1024) 0           conv4_block5_out[0][0]           \n",
            "                                                                 conv4_block6_3_bn[0][0]          \n",
            "__________________________________________________________________________________________________\n",
            "conv4_block6_out (Activation)   (None, 19, 19, 1024) 0           conv4_block6_add[0][0]           \n",
            "__________________________________________________________________________________________________\n",
            "conv5_block1_1_conv (Conv2D)    (None, 10, 10, 512)  524800      conv4_block6_out[0][0]           \n",
            "__________________________________________________________________________________________________\n",
            "conv5_block1_1_bn (BatchNormali (None, 10, 10, 512)  2048        conv5_block1_1_conv[0][0]        \n",
            "__________________________________________________________________________________________________\n",
            "conv5_block1_1_relu (Activation (None, 10, 10, 512)  0           conv5_block1_1_bn[0][0]          \n",
            "__________________________________________________________________________________________________\n",
            "conv5_block1_2_conv (Conv2D)    (None, 10, 10, 512)  2359808     conv5_block1_1_relu[0][0]        \n",
            "__________________________________________________________________________________________________\n",
            "conv5_block1_2_bn (BatchNormali (None, 10, 10, 512)  2048        conv5_block1_2_conv[0][0]        \n",
            "__________________________________________________________________________________________________\n",
            "conv5_block1_2_relu (Activation (None, 10, 10, 512)  0           conv5_block1_2_bn[0][0]          \n",
            "__________________________________________________________________________________________________\n",
            "conv5_block1_0_conv (Conv2D)    (None, 10, 10, 2048) 2099200     conv4_block6_out[0][0]           \n",
            "__________________________________________________________________________________________________\n",
            "conv5_block1_3_conv (Conv2D)    (None, 10, 10, 2048) 1050624     conv5_block1_2_relu[0][0]        \n",
            "__________________________________________________________________________________________________\n",
            "conv5_block1_0_bn (BatchNormali (None, 10, 10, 2048) 8192        conv5_block1_0_conv[0][0]        \n",
            "__________________________________________________________________________________________________\n",
            "conv5_block1_3_bn (BatchNormali (None, 10, 10, 2048) 8192        conv5_block1_3_conv[0][0]        \n",
            "__________________________________________________________________________________________________\n",
            "conv5_block1_add (Add)          (None, 10, 10, 2048) 0           conv5_block1_0_bn[0][0]          \n",
            "                                                                 conv5_block1_3_bn[0][0]          \n",
            "__________________________________________________________________________________________________\n",
            "conv5_block1_out (Activation)   (None, 10, 10, 2048) 0           conv5_block1_add[0][0]           \n",
            "__________________________________________________________________________________________________\n",
            "conv5_block2_1_conv (Conv2D)    (None, 10, 10, 512)  1049088     conv5_block1_out[0][0]           \n",
            "__________________________________________________________________________________________________\n",
            "conv5_block2_1_bn (BatchNormali (None, 10, 10, 512)  2048        conv5_block2_1_conv[0][0]        \n",
            "__________________________________________________________________________________________________\n",
            "conv5_block2_1_relu (Activation (None, 10, 10, 512)  0           conv5_block2_1_bn[0][0]          \n",
            "__________________________________________________________________________________________________\n",
            "conv5_block2_2_conv (Conv2D)    (None, 10, 10, 512)  2359808     conv5_block2_1_relu[0][0]        \n",
            "__________________________________________________________________________________________________\n",
            "conv5_block2_2_bn (BatchNormali (None, 10, 10, 512)  2048        conv5_block2_2_conv[0][0]        \n",
            "__________________________________________________________________________________________________\n",
            "conv5_block2_2_relu (Activation (None, 10, 10, 512)  0           conv5_block2_2_bn[0][0]          \n",
            "__________________________________________________________________________________________________\n",
            "conv5_block2_3_conv (Conv2D)    (None, 10, 10, 2048) 1050624     conv5_block2_2_relu[0][0]        \n",
            "__________________________________________________________________________________________________\n",
            "conv5_block2_3_bn (BatchNormali (None, 10, 10, 2048) 8192        conv5_block2_3_conv[0][0]        \n",
            "__________________________________________________________________________________________________\n",
            "conv5_block2_add (Add)          (None, 10, 10, 2048) 0           conv5_block1_out[0][0]           \n",
            "                                                                 conv5_block2_3_bn[0][0]          \n",
            "__________________________________________________________________________________________________\n",
            "conv5_block2_out (Activation)   (None, 10, 10, 2048) 0           conv5_block2_add[0][0]           \n",
            "__________________________________________________________________________________________________\n",
            "conv5_block3_1_conv (Conv2D)    (None, 10, 10, 512)  1049088     conv5_block2_out[0][0]           \n",
            "__________________________________________________________________________________________________\n",
            "conv5_block3_1_bn (BatchNormali (None, 10, 10, 512)  2048        conv5_block3_1_conv[0][0]        \n",
            "__________________________________________________________________________________________________\n",
            "conv5_block3_1_relu (Activation (None, 10, 10, 512)  0           conv5_block3_1_bn[0][0]          \n",
            "__________________________________________________________________________________________________\n",
            "conv5_block3_2_conv (Conv2D)    (None, 10, 10, 512)  2359808     conv5_block3_1_relu[0][0]        \n",
            "__________________________________________________________________________________________________\n",
            "conv5_block3_2_bn (BatchNormali (None, 10, 10, 512)  2048        conv5_block3_2_conv[0][0]        \n",
            "__________________________________________________________________________________________________\n",
            "conv5_block3_2_relu (Activation (None, 10, 10, 512)  0           conv5_block3_2_bn[0][0]          \n",
            "__________________________________________________________________________________________________\n",
            "conv5_block3_3_conv (Conv2D)    (None, 10, 10, 2048) 1050624     conv5_block3_2_relu[0][0]        \n",
            "__________________________________________________________________________________________________\n",
            "conv5_block3_3_bn (BatchNormali (None, 10, 10, 2048) 8192        conv5_block3_3_conv[0][0]        \n",
            "__________________________________________________________________________________________________\n",
            "conv5_block3_add (Add)          (None, 10, 10, 2048) 0           conv5_block2_out[0][0]           \n",
            "                                                                 conv5_block3_3_bn[0][0]          \n",
            "__________________________________________________________________________________________________\n",
            "conv5_block3_out (Activation)   (None, 10, 10, 2048) 0           conv5_block3_add[0][0]           \n",
            "==================================================================================================\n",
            "Total params: 23,587,712\n",
            "Trainable params: 0\n",
            "Non-trainable params: 23,587,712\n",
            "__________________________________________________________________________________________________\n"
          ],
          "name": "stdout"
        }
      ]
    },
    {
      "cell_type": "code",
      "metadata": {
        "id": "hMKyAO9yesb0",
        "colab": {
          "base_uri": "https://localhost:8080/"
        },
        "outputId": "a1167eca-ca0e-49ee-b435-0756ac9eaf77"
      },
      "source": [
        "#bias_initializer= tf.keras.initializers.Constant(np.log([mask_image_count/non_mask_image_count])) \n",
        "\n",
        "# Inserindo novas camadas de saída com o número de classes adequadas para este problema\n",
        "resnet50_full_model = tf.keras.Sequential([\n",
        "  resnet50_model,\n",
        "  tf.keras.layers.GlobalAveragePooling2D(),\n",
        "  # Only 1 output neuron. It will contain a value from 0-1 where 0 for 1 class ('') and 1 for the other ('')\n",
        "\n",
        "  # tf.keras.layers.Dropout(0.3),  #TODO: checar se melhora\n",
        "  # tf.keras.layers.Flatten(), #TODO: checar se melhora\n",
        "  # tf.keras.layers.Dropout(0.5), #TODO: checar se melhora\n",
        "\n",
        "  # tf.keras.layers.Dropout(0.2),  #TODO: checar se melhora\n",
        "\n",
        "  tf.keras.layers.Dense(1, \n",
        "                        activation='sigmoid',\n",
        "                        #bias_initializer= bias_initializer #TODO: checar se melhora\n",
        "                        )\n",
        "])\n",
        "\n",
        "#ignora inicializacao \n",
        "#model.layers[-1].bias.assign([0.0])\n",
        "\n",
        "resnet50_full_model.summary()"
      ],
      "execution_count": null,
      "outputs": [
        {
          "output_type": "stream",
          "text": [
            "Model: \"sequential\"\n",
            "_________________________________________________________________\n",
            "Layer (type)                 Output Shape              Param #   \n",
            "=================================================================\n",
            "resnet50 (Functional)        (None, 10, 10, 2048)      23587712  \n",
            "_________________________________________________________________\n",
            "global_average_pooling2d (Gl (None, 2048)              0         \n",
            "_________________________________________________________________\n",
            "dropout (Dropout)            (None, 2048)              0         \n",
            "_________________________________________________________________\n",
            "dense (Dense)                (None, 1)                 2049      \n",
            "=================================================================\n",
            "Total params: 23,589,761\n",
            "Trainable params: 2,049\n",
            "Non-trainable params: 23,587,712\n",
            "_________________________________________________________________\n"
          ],
          "name": "stdout"
        }
      ]
    },
    {
      "cell_type": "code",
      "metadata": {
        "id": "rl5ogR6ne27H"
      },
      "source": [
        "# Since there are two classes, use a binary cross-entropy loss with from_logits=True since the model provides a linear output.\n",
        "resnet50_full_model.compile(\n",
        "    # loss='categorical_crossentropy', \n",
        "    # loss='binary_crossentropy',\n",
        "    loss=tf.keras.losses.BinaryCrossentropy(from_logits=True),\n",
        "    metrics=METRICS,\n",
        "    weighted_metrics=METRICS,\n",
        "    optimizer=optimizer\n",
        "    )"
      ],
      "execution_count": null,
      "outputs": []
    },
    {
      "cell_type": "code",
      "metadata": {
        "id": "L2Py2L41yb5o",
        "colab": {
          "base_uri": "https://localhost:8080/"
        },
        "outputId": "b0c39c3e-5f10-4845-b01f-689b7ac7ed51"
      },
      "source": [
        "trainable_variables = len(resnet50_full_model.trainable_variables)\n",
        "print(\"Trainable Variables: \", trainable_variables)"
      ],
      "execution_count": null,
      "outputs": [
        {
          "output_type": "stream",
          "text": [
            "Trainable Variables:  2\n"
          ],
          "name": "stdout"
        }
      ]
    },
    {
      "cell_type": "code",
      "metadata": {
        "id": "uTFg2p4oCyDg",
        "colab": {
          "base_uri": "https://localhost:8080/"
        },
        "outputId": "8b2e8e2d-8aa4-473b-c207-d39b3e685128"
      },
      "source": [
        "# Treina o modelo\n",
        "history_restnet50 = resnet50_full_model.fit(resnet50_train_ds, \n",
        "      batch_size=batch_size,\n",
        "      epochs=epochs, \n",
        "      validation_data=resnet50_val_ds,\n",
        "      callbacks=callbacks,\n",
        "      class_weight=class_weights\n",
        "      )"
      ],
      "execution_count": null,
      "outputs": [
        {
          "output_type": "stream",
          "text": [
            "Epoch 1/100\n",
            "927/927 [==============================] - 191s 206ms/step - loss: 0.6936 - weighted_tp: 242.3620 - weighted_fp: 444.5796 - weighted_tn: 87110.1797 - weighted_fn: 30846.2168 - weighted_accuracy: 0.7363 - weighted_precision: 0.3528 - weighted_recall: 0.0078 - weighted_auc: 0.5104 - val_loss: 0.6947 - val_weighted_tp: 0.0000e+00 - val_weighted_fp: 0.0000e+00 - val_weighted_tn: 28950.0000 - val_weighted_fn: 704.0000 - val_weighted_accuracy: 0.9763 - val_weighted_precision: 0.0000e+00 - val_weighted_recall: 0.0000e+00 - val_weighted_auc: 0.5000\n",
            "Epoch 2/100\n",
            "927/927 [==============================] - 178s 192ms/step - loss: 0.6930 - weighted_tp: 264.3949 - weighted_fp: 461.2136 - weighted_tn: 87093.5938 - weighted_fn: 30824.1660 - weighted_accuracy: 0.7363 - weighted_precision: 0.3644 - weighted_recall: 0.0085 - weighted_auc: 0.5249 - val_loss: 0.6934 - val_weighted_tp: 0.0000e+00 - val_weighted_fp: 0.0000e+00 - val_weighted_tn: 28950.0000 - val_weighted_fn: 704.0000 - val_weighted_accuracy: 0.9763 - val_weighted_precision: 0.0000e+00 - val_weighted_recall: 0.0000e+00 - val_weighted_auc: 0.5000\n",
            "Epoch 3/100\n",
            "927/927 [==============================] - 175s 189ms/step - loss: 0.6934 - weighted_tp: 242.3620 - weighted_fp: 559.5049 - weighted_tn: 86995.3125 - weighted_fn: 30846.2207 - weighted_accuracy: 0.7353 - weighted_precision: 0.3022 - weighted_recall: 0.0078 - weighted_auc: 0.5151 - val_loss: 0.6932 - val_weighted_tp: 0.0000e+00 - val_weighted_fp: 0.0000e+00 - val_weighted_tn: 28950.0000 - val_weighted_fn: 704.0000 - val_weighted_accuracy: 0.9763 - val_weighted_precision: 0.0000e+00 - val_weighted_recall: 0.0000e+00 - val_weighted_auc: 0.5000\n",
            "Epoch 4/100\n",
            "927/927 [==============================] - 173s 187ms/step - loss: 0.6933 - weighted_tp: 0.0000e+00 - weighted_fp: 0.0000e+00 - weighted_tn: 87554.7891 - weighted_fn: 31088.5762 - weighted_accuracy: 0.7380 - weighted_precision: 0.0000e+00 - weighted_recall: 0.0000e+00 - weighted_auc: 0.5079 - val_loss: 0.6955 - val_weighted_tp: 0.0000e+00 - val_weighted_fp: 0.0000e+00 - val_weighted_tn: 28950.0000 - val_weighted_fn: 704.0000 - val_weighted_accuracy: 0.9763 - val_weighted_precision: 0.0000e+00 - val_weighted_recall: 0.0000e+00 - val_weighted_auc: 0.7336\n",
            "Epoch 5/100\n",
            "927/927 [==============================] - 173s 186ms/step - loss: 0.6858 - weighted_tp: 2357.5229 - weighted_fp: 2538.9434 - weighted_tn: 85015.8906 - weighted_fn: 28731.0312 - weighted_accuracy: 0.7364 - weighted_precision: 0.4815 - weighted_recall: 0.0758 - weighted_auc: 0.5838 - val_loss: 0.7763 - val_weighted_tp: 40.0000 - val_weighted_fp: 146.0000 - val_weighted_tn: 28804.0000 - val_weighted_fn: 664.0000 - val_weighted_accuracy: 0.9727 - val_weighted_precision: 0.2151 - val_weighted_recall: 0.0568 - val_weighted_auc: 0.8207\n",
            "Epoch 6/100\n",
            "927/927 [==============================] - 173s 187ms/step - loss: 0.6739 - weighted_tp: 5596.3584 - weighted_fp: 4079.8511 - weighted_tn: 83475.0312 - weighted_fn: 25492.1699 - weighted_accuracy: 0.7508 - weighted_precision: 0.5784 - weighted_recall: 0.1800 - weighted_auc: 0.6811 - val_loss: 0.7324 - val_weighted_tp: 26.0000 - val_weighted_fp: 58.0000 - val_weighted_tn: 28892.0000 - val_weighted_fn: 678.0000 - val_weighted_accuracy: 0.9752 - val_weighted_precision: 0.3095 - val_weighted_recall: 0.0369 - val_weighted_auc: 0.8174\n",
            "Epoch 7/100\n",
            "927/927 [==============================] - 172s 185ms/step - loss: 0.6650 - weighted_tp: 7865.7388 - weighted_fp: 5082.4297 - weighted_tn: 82472.6172 - weighted_fn: 23222.7637 - weighted_accuracy: 0.7614 - weighted_precision: 0.6075 - weighted_recall: 0.2530 - weighted_auc: 0.7309 - val_loss: 0.7669 - val_weighted_tp: 118.0000 - val_weighted_fp: 460.0000 - val_weighted_tn: 28490.0000 - val_weighted_fn: 586.0000 - val_weighted_accuracy: 0.9647 - val_weighted_precision: 0.2042 - val_weighted_recall: 0.1676 - val_weighted_auc: 0.8251\n",
            "Epoch 8/100\n",
            "927/927 [==============================] - 175s 188ms/step - loss: 0.6618 - weighted_tp: 8923.3174 - weighted_fp: 4920.6250 - weighted_tn: 82634.3906 - weighted_fn: 22165.1738 - weighted_accuracy: 0.7717 - weighted_precision: 0.6446 - weighted_recall: 0.2870 - weighted_auc: 0.7339 - val_loss: 0.7918 - val_weighted_tp: 208.0000 - val_weighted_fp: 1066.0000 - val_weighted_tn: 27884.0000 - val_weighted_fn: 496.0000 - val_weighted_accuracy: 0.9473 - val_weighted_precision: 0.1633 - val_weighted_recall: 0.2955 - val_weighted_auc: 0.8279\n",
            "Epoch 9/100\n",
            "927/927 [==============================] - 172s 186ms/step - loss: 0.6567 - weighted_tp: 10201.2344 - weighted_fp: 5652.5244 - weighted_tn: 81902.5547 - weighted_fn: 20887.2539 - weighted_accuracy: 0.7763 - weighted_precision: 0.6435 - weighted_recall: 0.3281 - weighted_auc: 0.7652 - val_loss: 0.8421 - val_weighted_tp: 378.0000 - val_weighted_fp: 3104.0000 - val_weighted_tn: 25846.0000 - val_weighted_fn: 326.0000 - val_weighted_accuracy: 0.8843 - val_weighted_precision: 0.1086 - val_weighted_recall: 0.5369 - val_weighted_auc: 0.8347\n",
            "Epoch 10/100\n",
            "927/927 [==============================] - 173s 187ms/step - loss: 0.6552 - weighted_tp: 10928.3320 - weighted_fp: 6248.3198 - weighted_tn: 81306.7266 - weighted_fn: 20160.1641 - weighted_accuracy: 0.7774 - weighted_precision: 0.6362 - weighted_recall: 0.3515 - weighted_auc: 0.7670 - val_loss: 0.8156 - val_weighted_tp: 328.0000 - val_weighted_fp: 2180.0000 - val_weighted_tn: 26770.0000 - val_weighted_fn: 376.0000 - val_weighted_accuracy: 0.9138 - val_weighted_precision: 0.1308 - val_weighted_recall: 0.4659 - val_weighted_auc: 0.8442\n",
            "Epoch 11/100\n",
            "927/927 [==============================] - 173s 186ms/step - loss: 0.6512 - weighted_tp: 11787.6133 - weighted_fp: 6181.7866 - weighted_tn: 81373.3359 - weighted_fn: 19300.8750 - weighted_accuracy: 0.7852 - weighted_precision: 0.6560 - weighted_recall: 0.3792 - weighted_auc: 0.7710 - val_loss: 0.7841 - val_weighted_tp: 260.0000 - val_weighted_fp: 1214.0000 - val_weighted_tn: 27736.0000 - val_weighted_fn: 444.0000 - val_weighted_accuracy: 0.9441 - val_weighted_precision: 0.1764 - val_weighted_recall: 0.3693 - val_weighted_auc: 0.8448\n",
            "Epoch 12/100\n",
            "927/927 [==============================] - 173s 187ms/step - loss: 0.6502 - weighted_tp: 11897.7715 - weighted_fp: 6010.9160 - weighted_tn: 81544.1172 - weighted_fn: 19190.7012 - weighted_accuracy: 0.7876 - weighted_precision: 0.6644 - weighted_recall: 0.3827 - weighted_auc: 0.7781 - val_loss: 0.8013 - val_weighted_tp: 360.0000 - val_weighted_fp: 1904.0000 - val_weighted_tn: 27046.0000 - val_weighted_fn: 344.0000 - val_weighted_accuracy: 0.9242 - val_weighted_precision: 0.1590 - val_weighted_recall: 0.5114 - val_weighted_auc: 0.8585\n",
            "Epoch 13/100\n",
            "927/927 [==============================] - 172s 186ms/step - loss: 0.6452 - weighted_tp: 13153.6494 - weighted_fp: 5941.3477 - weighted_tn: 81613.6797 - weighted_fn: 17934.8164 - weighted_accuracy: 0.7988 - weighted_precision: 0.6889 - weighted_recall: 0.4231 - weighted_auc: 0.7945 - val_loss: 0.7998 - val_weighted_tp: 364.0000 - val_weighted_fp: 1880.0000 - val_weighted_tn: 27070.0000 - val_weighted_fn: 340.0000 - val_weighted_accuracy: 0.9251 - val_weighted_precision: 0.1622 - val_weighted_recall: 0.5170 - val_weighted_auc: 0.8718\n"
          ],
          "name": "stdout"
        }
      ]
    },
    {
      "cell_type": "code",
      "metadata": {
        "id": "aL_rAHhrqwX5"
      },
      "source": [
        "# TODO: ver se vale a pena\n",
        "# resnet50_full_model.save_weights(initial_weights)"
      ],
      "execution_count": null,
      "outputs": []
    },
    {
      "cell_type": "code",
      "metadata": {
        "id": "_xF7AFWSq0d7",
        "colab": {
          "base_uri": "https://localhost:8080/",
          "height": 279
        },
        "outputId": "42e3674d-4ea4-4b12-93cc-3b53537df6b7"
      },
      "source": [
        "plot_loss(history_restnet50, \"history_restnet50\", 0)"
      ],
      "execution_count": null,
      "outputs": [
        {
          "output_type": "display_data",
          "data": {
            "image/png": "[encoded data removed]",
            "text/plain": [
              "<Figure size 432x288 with 1 Axes>"
            ]
          },
          "metadata": {
            "tags": [],
            "needs_background": "light"
          }
        }
      ]
    },
    {
      "cell_type": "code",
      "metadata": {
        "id": "iSEHZOA11mPP",
        "colab": {
          "base_uri": "https://localhost:8080/",
          "height": 283
        },
        "outputId": "cfbf7cba-e06b-4ee7-b6a1-a486f992e185"
      },
      "source": [
        "plot_metrics(history_restnet50)"
      ],
      "execution_count": null,
      "outputs": [
        {
          "output_type": "display_data",
          "data": {
            "image/png": "[encoded data removed]",
            "text/plain": [
              "<Figure size 432x288 with 4 Axes>"
            ]
          },
          "metadata": {
            "tags": [],
            "needs_background": "light"
          }
        }
      ]
    },
    {
      "cell_type": "code",
      "metadata": {
        "id": "N7p2XqBZq417"
      },
      "source": [
        "val_predictions_baseline = resnet50_full_model.predict(resnet50_val_ds, batch_size=batch_size)\n",
        "train_predictions_baseline = resnet50_full_model.predict(resnet50_train_ds, batch_size=batch_size) "
      ],
      "execution_count": null,
      "outputs": []
    },
    {
      "cell_type": "code",
      "metadata": {
        "id": "Ev9-Erh83eYa",
        "colab": {
          "base_uri": "https://localhost:8080/",
          "height": 655
        },
        "outputId": "ffd8a871-d781-4bf8-ab30-85ec1a9ad1c1"
      },
      "source": [
        "cm = cm_calc(resnet50_full_model, val_predictions_baseline, resnet50_val_ds);\n",
        "balanced_acc = balanced_acc_calc(cm)\n",
        "plot_cm(cm)"
      ],
      "execution_count": null,
      "outputs": [
        {
          "output_type": "stream",
          "text": [
            "Matriz de confusão\n",
            "[[13367  1108]\n",
            " [  323    29]]\n",
            "\n",
            "\n",
            "Matriz de confusão balanceada\n",
            "[[0.923 0.077]\n",
            " [0.918 0.082]]\n",
            "\n",
            "\n",
            "Acurácia balanceada: 0.5029202975349348\n",
            "Non Mask Detected (True Negatives):  13367\n",
            "Non Mask Incorrectly Detected (False Positives):  1108\n",
            "With mask Missed (False Negatives):  323\n",
            "With mask Detected (True Positives):  29\n",
            "Total with Mask:  352\n"
          ],
          "name": "stdout"
        },
        {
          "output_type": "display_data",
          "data": {
            "image/png": "[encoded data removed]",
            "text/plain": [
              "<Figure size 360x360 with 2 Axes>"
            ]
          },
          "metadata": {
            "tags": [],
            "needs_background": "light"
          }
        }
      ]
    },
    {
      "cell_type": "code",
      "metadata": {
        "id": "QyHe4opRq6oS",
        "colab": {
          "base_uri": "https://localhost:8080/",
          "height": 298
        },
        "outputId": "ee0ccf7f-79b3-4034-c2b8-ae0218d1dc3a"
      },
      "source": [
        "plot_roc(\"Train Baseline\", resnet50_train_ds.classes, train_predictions_baseline, color=colors[0])\n",
        "plot_roc(\"Validation Baseline\", resnet50_val_ds.classes, val_predictions_baseline, color=colors[0], linestyle='--')\n",
        "\n",
        "plt.legend(loc='lower right')"
      ],
      "execution_count": null,
      "outputs": [
        {
          "output_type": "execute_result",
          "data": {
            "text/plain": [
              "<matplotlib.legend.Legend at 0x7efb49164048>"
            ]
          },
          "metadata": {
            "tags": []
          },
          "execution_count": 42
        },
        {
          "output_type": "display_data",
          "data": {
            "image/png": "[encoded data removed]",
            "text/plain": [
              "<Figure size 432x288 with 1 Axes>"
            ]
          },
          "metadata": {
            "tags": [],
            "needs_background": "light"
          }
        }
      ]
    },
    {
      "cell_type": "code",
      "metadata": {
        "id": "nJXxH-wvC5B7",
        "colab": {
          "base_uri": "https://localhost:8080/"
        },
        "outputId": "4dd40e7f-30c6-4847-8cc2-5693c8ff81d5"
      },
      "source": [
        "# Avalia o modelo na validação\n",
        "score_full_restnet50 = resnet50_full_model.evaluate(\n",
        "    resnet50_val_ds,\n",
        "    verbose=1, \n",
        "    batch_size=batch_size\n",
        "    )\n",
        "\n",
        "print_score('Validation', score_full_restnet50)"
      ],
      "execution_count": null,
      "outputs": [
        {
          "output_type": "stream",
          "text": [
            "232/232 [==============================] - 35s 150ms/step - loss: 0.8002 - weighted_tp: 360.0000 - weighted_fp: 1978.0000 - weighted_tn: 26972.0000 - weighted_fn: 344.0000 - weighted_accuracy: 0.9217 - weighted_precision: 0.1540 - weighted_recall: 0.5114 - weighted_auc: 0.8634\n",
            "Validation  metrics:\n",
            "loss: 0.8002225756645203\n",
            "tp: 360.0\n",
            "fp: 1978.0\n",
            "tn: 26972.0\n",
            "fn: 344.0\n",
            "accuracy: 0.9216969013214111\n",
            "precision: 0.15397775173187256\n",
            "recall: 0.5113636255264282\n",
            "auc: 0.8633577227592468\n"
          ],
          "name": "stdout"
        }
      ]
    },
    {
      "cell_type": "markdown",
      "metadata": {
        "id": "MgP-TRf-401T"
      },
      "source": [
        "### Fine tuning"
      ]
    },
    {
      "cell_type": "code",
      "metadata": {
        "id": "xwDXBQFIvam1"
      },
      "source": [
        "# Let's take a look to see how many layers are in the base model\n",
        "print(\"Number of layers in the base model: \", len(resnet50_model.layers))\n",
        "\n",
        "# Fine-tune from this layer onwards\n",
        "fine_tune_at = 100\n",
        "\n",
        "# Freeze all the layers before the `fine_tune_at` layer\n",
        "for layer in resnet50_model.layers[:fine_tune_at]:\n",
        "  layer.trainable =  False"
      ],
      "execution_count": null,
      "outputs": []
    },
    {
      "cell_type": "code",
      "metadata": {
        "id": "Kw1FsRX_42cC",
        "colab": {
          "base_uri": "https://localhost:8080/"
        },
        "outputId": "d376ac0b-f5cf-4415-e832-42bb29b3a6f0"
      },
      "source": [
        "# Since there are two classes, use a binary cross-entropy loss with from_logits=True since the model provides a linear output.\n",
        "resnet50_full_model.compile(\n",
        "    #loss='categorical_crossentropy', \n",
        "    #loss='binary_crossentropy',\n",
        "    loss=tf.keras.losses.BinaryCrossentropy(from_logits=True),\n",
        "    metrics=METRICS,\n",
        "    weighted_metrics=METRICS,\n",
        "    optimizer=optimizer\n",
        "    )\n",
        "    \n",
        "resnet50_full_model.summary()"
      ],
      "execution_count": null,
      "outputs": [
        {
          "output_type": "stream",
          "text": [
            "Model: \"sequential\"\n",
            "_________________________________________________________________\n",
            "Layer (type)                 Output Shape              Param #   \n",
            "=================================================================\n",
            "resnet50 (Functional)        (None, 10, 10, 2048)      23587712  \n",
            "_________________________________________________________________\n",
            "global_average_pooling2d (Gl (None, 2048)              0         \n",
            "_________________________________________________________________\n",
            "dropout (Dropout)            (None, 2048)              0         \n",
            "_________________________________________________________________\n",
            "dense (Dense)                (None, 1)                 2049      \n",
            "=================================================================\n",
            "Total params: 23,589,761\n",
            "Trainable params: 23,536,641\n",
            "Non-trainable params: 53,120\n",
            "_________________________________________________________________\n"
          ],
          "name": "stdout"
        }
      ]
    },
    {
      "cell_type": "code",
      "metadata": {
        "id": "ZSfnm2yaJVSM",
        "colab": {
          "base_uri": "https://localhost:8080/"
        },
        "outputId": "1eb6e2e2-0cba-429d-8130-aa5e947d3ce0"
      },
      "source": [
        "trainable_variables = len(resnet50_full_model.trainable_variables)\n",
        "print(\"Trainable Variables: \", trainable_variables)"
      ],
      "execution_count": null,
      "outputs": [
        {
          "output_type": "stream",
          "text": [
            "Trainable Variables:  214\n"
          ],
          "name": "stdout"
        }
      ]
    },
    {
      "cell_type": "code",
      "metadata": {
        "id": "0oGaPhIBrCbm"
      },
      "source": [
        "# TODO: ver se vale a pena\n",
        "#resnet50_full_model.load_weights(initial_weights)"
      ],
      "execution_count": null,
      "outputs": []
    },
    {
      "cell_type": "code",
      "metadata": {
        "id": "NhonS8ky5z-l",
        "colab": {
          "base_uri": "https://localhost:8080/"
        },
        "outputId": "305a3843-d3fc-444c-a736-cb7879ae1c57"
      },
      "source": [
        "resnet50_unfreeze_history = resnet50_full_model.fit(\n",
        "    resnet50_train_ds, \n",
        "    batch_size=batch_size,\n",
        "    epochs=epochs, \n",
        "    validation_data=resnet50_val_ds,\n",
        "    callbacks=callbacks)"
      ],
      "execution_count": null,
      "outputs": [
        {
          "output_type": "stream",
          "text": [
            "Epoch 1/100\n",
            "927/927 [==============================] - 386s 416ms/step - loss: 1.2895 - weighted_weighted_tp: 3182.0000 - weighted_weighted_fp: 117778.0000 - weighted_weighted_tn: 26972.0000 - weighted_weighted_fn: 344.0000 - weighted_weighted_accuracy: 0.2034 - weighted_weighted_precision: 0.0263 - weighted_weighted_recall: 0.9024 - weighted_weighted_auc: 0.5149 - val_loss: 1.2895 - val_weighted_weighted_tp: 704.0000 - val_weighted_weighted_fp: 28950.0000 - val_weighted_weighted_tn: 0.0000e+00 - val_weighted_weighted_fn: 0.0000e+00 - val_weighted_weighted_accuracy: 0.0237 - val_weighted_weighted_precision: 0.0237 - val_weighted_weighted_recall: 1.0000 - val_weighted_weighted_auc: 0.5000\n",
            "Epoch 2/100\n",
            "927/927 [==============================] - 382s 412ms/step - loss: 1.2895 - weighted_weighted_tp: 2822.0000 - weighted_weighted_fp: 115800.0000 - weighted_weighted_tn: 0.0000e+00 - weighted_weighted_fn: 0.0000e+00 - weighted_weighted_accuracy: 0.0238 - weighted_weighted_precision: 0.0238 - weighted_weighted_recall: 1.0000 - weighted_weighted_auc: 0.5000 - val_loss: 1.2895 - val_weighted_weighted_tp: 704.0000 - val_weighted_weighted_fp: 28950.0000 - val_weighted_weighted_tn: 0.0000e+00 - val_weighted_weighted_fn: 0.0000e+00 - val_weighted_weighted_accuracy: 0.0237 - val_weighted_weighted_precision: 0.0237 - val_weighted_weighted_recall: 1.0000 - val_weighted_weighted_auc: 0.5000\n",
            "Epoch 3/100\n",
            "927/927 [==============================] - 382s 413ms/step - loss: 1.2895 - weighted_weighted_tp: 2822.0000 - weighted_weighted_fp: 115800.0000 - weighted_weighted_tn: 0.0000e+00 - weighted_weighted_fn: 0.0000e+00 - weighted_weighted_accuracy: 0.0238 - weighted_weighted_precision: 0.0238 - weighted_weighted_recall: 1.0000 - weighted_weighted_auc: 0.5000 - val_loss: 1.2895 - val_weighted_weighted_tp: 704.0000 - val_weighted_weighted_fp: 28950.0000 - val_weighted_weighted_tn: 0.0000e+00 - val_weighted_weighted_fn: 0.0000e+00 - val_weighted_weighted_accuracy: 0.0237 - val_weighted_weighted_precision: 0.0237 - val_weighted_weighted_recall: 1.0000 - val_weighted_weighted_auc: 0.5000\n",
            "Epoch 4/100\n",
            "927/927 [==============================] - 382s 412ms/step - loss: 1.2895 - weighted_weighted_tp: 2822.0000 - weighted_weighted_fp: 115800.0000 - weighted_weighted_tn: 0.0000e+00 - weighted_weighted_fn: 0.0000e+00 - weighted_weighted_accuracy: 0.0238 - weighted_weighted_precision: 0.0238 - weighted_weighted_recall: 1.0000 - weighted_weighted_auc: 0.5000 - val_loss: 1.2895 - val_weighted_weighted_tp: 704.0000 - val_weighted_weighted_fp: 28950.0000 - val_weighted_weighted_tn: 0.0000e+00 - val_weighted_weighted_fn: 0.0000e+00 - val_weighted_weighted_accuracy: 0.0237 - val_weighted_weighted_precision: 0.0237 - val_weighted_weighted_recall: 1.0000 - val_weighted_weighted_auc: 0.5000\n",
            "Epoch 5/100\n",
            "927/927 [==============================] - 382s 412ms/step - loss: 1.2895 - weighted_weighted_tp: 2822.0000 - weighted_weighted_fp: 115800.0000 - weighted_weighted_tn: 0.0000e+00 - weighted_weighted_fn: 0.0000e+00 - weighted_weighted_accuracy: 0.0238 - weighted_weighted_precision: 0.0238 - weighted_weighted_recall: 1.0000 - weighted_weighted_auc: 0.5000 - val_loss: 1.2895 - val_weighted_weighted_tp: 704.0000 - val_weighted_weighted_fp: 28950.0000 - val_weighted_weighted_tn: 0.0000e+00 - val_weighted_weighted_fn: 0.0000e+00 - val_weighted_weighted_accuracy: 0.0237 - val_weighted_weighted_precision: 0.0237 - val_weighted_weighted_recall: 1.0000 - val_weighted_weighted_auc: 0.5000\n",
            "Epoch 6/100\n",
            "927/927 [==============================] - 383s 413ms/step - loss: 1.2895 - weighted_weighted_tp: 2822.0000 - weighted_weighted_fp: 115800.0000 - weighted_weighted_tn: 0.0000e+00 - weighted_weighted_fn: 0.0000e+00 - weighted_weighted_accuracy: 0.0238 - weighted_weighted_precision: 0.0238 - weighted_weighted_recall: 1.0000 - weighted_weighted_auc: 0.5000 - val_loss: 1.2895 - val_weighted_weighted_tp: 704.0000 - val_weighted_weighted_fp: 28950.0000 - val_weighted_weighted_tn: 0.0000e+00 - val_weighted_weighted_fn: 0.0000e+00 - val_weighted_weighted_accuracy: 0.0237 - val_weighted_weighted_precision: 0.0237 - val_weighted_weighted_recall: 1.0000 - val_weighted_weighted_auc: 0.5000\n",
            "Epoch 7/100\n",
            "927/927 [==============================] - 382s 412ms/step - loss: 1.2895 - weighted_weighted_tp: 2822.0000 - weighted_weighted_fp: 115800.0000 - weighted_weighted_tn: 0.0000e+00 - weighted_weighted_fn: 0.0000e+00 - weighted_weighted_accuracy: 0.0238 - weighted_weighted_precision: 0.0238 - weighted_weighted_recall: 1.0000 - weighted_weighted_auc: 0.5000 - val_loss: 1.2895 - val_weighted_weighted_tp: 704.0000 - val_weighted_weighted_fp: 28950.0000 - val_weighted_weighted_tn: 0.0000e+00 - val_weighted_weighted_fn: 0.0000e+00 - val_weighted_weighted_accuracy: 0.0237 - val_weighted_weighted_precision: 0.0237 - val_weighted_weighted_recall: 1.0000 - val_weighted_weighted_auc: 0.5000\n",
            "Epoch 8/100\n",
            "927/927 [==============================] - 383s 413ms/step - loss: 1.2895 - weighted_weighted_tp: 2822.0000 - weighted_weighted_fp: 115800.0000 - weighted_weighted_tn: 0.0000e+00 - weighted_weighted_fn: 0.0000e+00 - weighted_weighted_accuracy: 0.0238 - weighted_weighted_precision: 0.0238 - weighted_weighted_recall: 1.0000 - weighted_weighted_auc: 0.5000 - val_loss: 1.2895 - val_weighted_weighted_tp: 704.0000 - val_weighted_weighted_fp: 28950.0000 - val_weighted_weighted_tn: 0.0000e+00 - val_weighted_weighted_fn: 0.0000e+00 - val_weighted_weighted_accuracy: 0.0237 - val_weighted_weighted_precision: 0.0237 - val_weighted_weighted_recall: 1.0000 - val_weighted_weighted_auc: 0.5000\n",
            "Epoch 9/100\n",
            "927/927 [==============================] - 383s 413ms/step - loss: 1.2895 - weighted_weighted_tp: 2822.0000 - weighted_weighted_fp: 115800.0000 - weighted_weighted_tn: 0.0000e+00 - weighted_weighted_fn: 0.0000e+00 - weighted_weighted_accuracy: 0.0238 - weighted_weighted_precision: 0.0238 - weighted_weighted_recall: 1.0000 - weighted_weighted_auc: 0.5000 - val_loss: 1.2895 - val_weighted_weighted_tp: 704.0000 - val_weighted_weighted_fp: 28950.0000 - val_weighted_weighted_tn: 0.0000e+00 - val_weighted_weighted_fn: 0.0000e+00 - val_weighted_weighted_accuracy: 0.0237 - val_weighted_weighted_precision: 0.0237 - val_weighted_weighted_recall: 1.0000 - val_weighted_weighted_auc: 0.5000\n",
            "Epoch 10/100\n",
            "927/927 [==============================] - 383s 413ms/step - loss: 1.2895 - weighted_weighted_tp: 2822.0000 - weighted_weighted_fp: 115800.0000 - weighted_weighted_tn: 0.0000e+00 - weighted_weighted_fn: 0.0000e+00 - weighted_weighted_accuracy: 0.0238 - weighted_weighted_precision: 0.0238 - weighted_weighted_recall: 1.0000 - weighted_weighted_auc: 0.5000 - val_loss: 1.2895 - val_weighted_weighted_tp: 704.0000 - val_weighted_weighted_fp: 28950.0000 - val_weighted_weighted_tn: 0.0000e+00 - val_weighted_weighted_fn: 0.0000e+00 - val_weighted_weighted_accuracy: 0.0237 - val_weighted_weighted_precision: 0.0237 - val_weighted_weighted_recall: 1.0000 - val_weighted_weighted_auc: 0.5000\n",
            "Epoch 11/100\n",
            "927/927 [==============================] - 383s 413ms/step - loss: 1.2895 - weighted_weighted_tp: 2822.0000 - weighted_weighted_fp: 115800.0000 - weighted_weighted_tn: 0.0000e+00 - weighted_weighted_fn: 0.0000e+00 - weighted_weighted_accuracy: 0.0238 - weighted_weighted_precision: 0.0238 - weighted_weighted_recall: 1.0000 - weighted_weighted_auc: 0.5000 - val_loss: 1.2895 - val_weighted_weighted_tp: 704.0000 - val_weighted_weighted_fp: 28950.0000 - val_weighted_weighted_tn: 0.0000e+00 - val_weighted_weighted_fn: 0.0000e+00 - val_weighted_weighted_accuracy: 0.0237 - val_weighted_weighted_precision: 0.0237 - val_weighted_weighted_recall: 1.0000 - val_weighted_weighted_auc: 0.5000\n"
          ],
          "name": "stdout"
        }
      ]
    },
    {
      "cell_type": "code",
      "metadata": {
        "id": "X6AtWAq1JaAD",
        "colab": {
          "base_uri": "https://localhost:8080/"
        },
        "outputId": "77787b04-4f93-4109-d012-145730d56fe7"
      },
      "source": [
        "resnet50_unfreeze_history.history"
      ],
      "execution_count": null,
      "outputs": [
        {
          "output_type": "execute_result",
          "data": {
            "text/plain": [
              "{'loss': [1.289455533027649,\n",
              "  1.2894556522369385,\n",
              "  1.2894556522369385,\n",
              "  1.2894556522369385,\n",
              "  1.289455533027649,\n",
              "  1.2894556522369385,\n",
              "  1.289455533027649,\n",
              "  1.2894556522369385,\n",
              "  1.2894556522369385,\n",
              "  1.2894556522369385,\n",
              "  1.2894556522369385],\n",
              " 'val_loss': [1.2895221710205078,\n",
              "  1.2895221710205078,\n",
              "  1.2895221710205078,\n",
              "  1.2895221710205078,\n",
              "  1.2895221710205078,\n",
              "  1.2895221710205078,\n",
              "  1.2895221710205078,\n",
              "  1.2895221710205078,\n",
              "  1.2895221710205078,\n",
              "  1.2895221710205078,\n",
              "  1.2895221710205078],\n",
              " 'val_weighted_weighted_accuracy': [0.02374047413468361,\n",
              "  0.02374047413468361,\n",
              "  0.02374047413468361,\n",
              "  0.02374047413468361,\n",
              "  0.02374047413468361,\n",
              "  0.02374047413468361,\n",
              "  0.02374047413468361,\n",
              "  0.02374047413468361,\n",
              "  0.02374047413468361,\n",
              "  0.02374047413468361,\n",
              "  0.02374047413468361],\n",
              " 'val_weighted_weighted_auc': [0.5,\n",
              "  0.5,\n",
              "  0.5,\n",
              "  0.5,\n",
              "  0.5,\n",
              "  0.5,\n",
              "  0.5,\n",
              "  0.5,\n",
              "  0.5,\n",
              "  0.5,\n",
              "  0.5],\n",
              " 'val_weighted_weighted_fn': [0.0,\n",
              "  0.0,\n",
              "  0.0,\n",
              "  0.0,\n",
              "  0.0,\n",
              "  0.0,\n",
              "  0.0,\n",
              "  0.0,\n",
              "  0.0,\n",
              "  0.0,\n",
              "  0.0],\n",
              " 'val_weighted_weighted_fp': [28950.0,\n",
              "  28950.0,\n",
              "  28950.0,\n",
              "  28950.0,\n",
              "  28950.0,\n",
              "  28950.0,\n",
              "  28950.0,\n",
              "  28950.0,\n",
              "  28950.0,\n",
              "  28950.0,\n",
              "  28950.0],\n",
              " 'val_weighted_weighted_precision': [0.02374047413468361,\n",
              "  0.02374047413468361,\n",
              "  0.02374047413468361,\n",
              "  0.02374047413468361,\n",
              "  0.02374047413468361,\n",
              "  0.02374047413468361,\n",
              "  0.02374047413468361,\n",
              "  0.02374047413468361,\n",
              "  0.02374047413468361,\n",
              "  0.02374047413468361,\n",
              "  0.02374047413468361],\n",
              " 'val_weighted_weighted_recall': [1.0,\n",
              "  1.0,\n",
              "  1.0,\n",
              "  1.0,\n",
              "  1.0,\n",
              "  1.0,\n",
              "  1.0,\n",
              "  1.0,\n",
              "  1.0,\n",
              "  1.0,\n",
              "  1.0],\n",
              " 'val_weighted_weighted_tn': [0.0,\n",
              "  0.0,\n",
              "  0.0,\n",
              "  0.0,\n",
              "  0.0,\n",
              "  0.0,\n",
              "  0.0,\n",
              "  0.0,\n",
              "  0.0,\n",
              "  0.0,\n",
              "  0.0],\n",
              " 'val_weighted_weighted_tp': [704.0,\n",
              "  704.0,\n",
              "  704.0,\n",
              "  704.0,\n",
              "  704.0,\n",
              "  704.0,\n",
              "  704.0,\n",
              "  704.0,\n",
              "  704.0,\n",
              "  704.0,\n",
              "  704.0],\n",
              " 'weighted_weighted_accuracy': [0.20336399972438812,\n",
              "  0.02378985285758972,\n",
              "  0.02378985285758972,\n",
              "  0.02378985285758972,\n",
              "  0.02378985285758972,\n",
              "  0.02378985285758972,\n",
              "  0.02378985285758972,\n",
              "  0.02378985285758972,\n",
              "  0.02378985285758972,\n",
              "  0.02378985285758972,\n",
              "  0.02378985285758972],\n",
              " 'weighted_weighted_auc': [0.514906644821167,\n",
              "  0.5,\n",
              "  0.5,\n",
              "  0.5,\n",
              "  0.5,\n",
              "  0.5,\n",
              "  0.5,\n",
              "  0.5,\n",
              "  0.5,\n",
              "  0.5,\n",
              "  0.5],\n",
              " 'weighted_weighted_fn': [344.0,\n",
              "  0.0,\n",
              "  0.0,\n",
              "  0.0,\n",
              "  0.0,\n",
              "  0.0,\n",
              "  0.0,\n",
              "  0.0,\n",
              "  0.0,\n",
              "  0.0,\n",
              "  0.0],\n",
              " 'weighted_weighted_fp': [117778.0,\n",
              "  115800.0,\n",
              "  115800.0,\n",
              "  115800.0,\n",
              "  115800.0,\n",
              "  115800.0,\n",
              "  115800.0,\n",
              "  115800.0,\n",
              "  115800.0,\n",
              "  115800.0,\n",
              "  115800.0],\n",
              " 'weighted_weighted_precision': [0.026306217536330223,\n",
              "  0.02378985285758972,\n",
              "  0.02378985285758972,\n",
              "  0.02378985285758972,\n",
              "  0.02378985285758972,\n",
              "  0.02378985285758972,\n",
              "  0.02378985285758972,\n",
              "  0.02378985285758972,\n",
              "  0.02378985285758972,\n",
              "  0.02378985285758972,\n",
              "  0.02378985285758972],\n",
              " 'weighted_weighted_recall': [0.9024389982223511,\n",
              "  1.0,\n",
              "  1.0,\n",
              "  1.0,\n",
              "  1.0,\n",
              "  1.0,\n",
              "  1.0,\n",
              "  1.0,\n",
              "  1.0,\n",
              "  1.0,\n",
              "  1.0],\n",
              " 'weighted_weighted_tn': [26972.0,\n",
              "  0.0,\n",
              "  0.0,\n",
              "  0.0,\n",
              "  0.0,\n",
              "  0.0,\n",
              "  0.0,\n",
              "  0.0,\n",
              "  0.0,\n",
              "  0.0,\n",
              "  0.0],\n",
              " 'weighted_weighted_tp': [3182.0,\n",
              "  2822.0,\n",
              "  2822.0,\n",
              "  2822.0,\n",
              "  2822.0,\n",
              "  2822.0,\n",
              "  2822.0,\n",
              "  2822.0,\n",
              "  2822.0,\n",
              "  2822.0,\n",
              "  2822.0]}"
            ]
          },
          "metadata": {
            "tags": []
          },
          "execution_count": 48
        }
      ]
    },
    {
      "cell_type": "code",
      "metadata": {
        "id": "_WTSepuyreHQ"
      },
      "source": [
        "\n",
        "val_predictions_baseline = resnet50_full_model.predict(resnet50_val_ds, batch_size=batch_size)\n",
        "train_predictions_baseline = resnet50_full_model.predict(resnet50_train_ds, batch_size=batch_size) "
      ],
      "execution_count": null,
      "outputs": []
    },
    {
      "cell_type": "code",
      "metadata": {
        "id": "z-bh2rweJa9N",
        "colab": {
          "base_uri": "https://localhost:8080/",
          "height": 302
        },
        "outputId": "3e87dec2-4bfe-4a13-b35a-3002c894153b"
      },
      "source": [
        "plot_metrics(resnet50_unfreeze_history)"
      ],
      "execution_count": null,
      "outputs": [
        {
          "output_type": "display_data",
          "data": {
            "image/png": "[encoded data removed]",
            "text/plain": [
              "<Figure size 432x288 with 4 Axes>"
            ]
          },
          "metadata": {
            "tags": [],
            "needs_background": "light"
          }
        }
      ]
    },
    {
      "cell_type": "code",
      "metadata": {
        "id": "detr7XtTJhVk",
        "colab": {
          "base_uri": "https://localhost:8080/",
          "height": 655
        },
        "outputId": "5c472b96-bc96-4ac1-bef5-0bd6e381648d"
      },
      "source": [
        "cm = cm_calc(resnet50_full_model, val_predictions_baseline, resnet50_val_ds);\n",
        "balanced_acc = balanced_acc_calc(cm)\n",
        "plot_cm(cm)"
      ],
      "execution_count": null,
      "outputs": [
        {
          "output_type": "stream",
          "text": [
            "Matriz de confusão\n",
            "[[    0 14475]\n",
            " [    0   352]]\n",
            "\n",
            "\n",
            "Matriz de confusão balanceada\n",
            "[[0. 1.]\n",
            " [0. 1.]]\n",
            "\n",
            "\n",
            "Acurácia balanceada: 0.5\n",
            "Non Mask Detected (True Negatives):  0\n",
            "Non Mask Incorrectly Detected (False Positives):  14475\n",
            "With mask Missed (False Negatives):  0\n",
            "With mask Detected (True Positives):  352\n",
            "Total with Mask:  352\n"
          ],
          "name": "stdout"
        },
        {
          "output_type": "display_data",
          "data": {
            "image/png": "[encoded data removed]",
            "text/plain": [
              "<Figure size 360x360 with 2 Axes>"
            ]
          },
          "metadata": {
            "tags": [],
            "needs_background": "light"
          }
        }
      ]
    },
    {
      "cell_type": "code",
      "metadata": {
        "id": "mCePjjgWrery",
        "colab": {
          "base_uri": "https://localhost:8080/",
          "height": 298
        },
        "outputId": "b1321f6d-4bc7-4e10-e236-84d4036cec8b"
      },
      "source": [
        "\n",
        "plot_roc(\"Train Baseline\", resnet50_train_ds.classes, train_predictions_baseline, color=colors[0])\n",
        "plot_roc(\"Validation Baseline\", resnet50_val_ds.classes, val_predictions_baseline, color=colors[0], linestyle='--')\n",
        "\n",
        "plt.legend(loc='lower right')\n"
      ],
      "execution_count": null,
      "outputs": [
        {
          "output_type": "execute_result",
          "data": {
            "text/plain": [
              "<matplotlib.legend.Legend at 0x7ef9a87a87b8>"
            ]
          },
          "metadata": {
            "tags": []
          },
          "execution_count": 52
        },
        {
          "output_type": "display_data",
          "data": {
            "image/png": "[encoded data removed]",
            "text/plain": [
              "<Figure size 432x288 with 1 Axes>"
            ]
          },
          "metadata": {
            "tags": [],
            "needs_background": "light"
          }
        }
      ]
    },
    {
      "cell_type": "code",
      "metadata": {
        "id": "LOOrE26452KS",
        "colab": {
          "base_uri": "https://localhost:8080/"
        },
        "outputId": "e5e4a08f-b71a-4f81-94f6-97688ecd3e7d"
      },
      "source": [
        "# Avalia modelo na validação\n",
        "resnet50_unfreeze_score = resnet50_full_model.evaluate(resnet50_val_ds,verbose=1)\n",
        "\n",
        "print_score('Validation', resnet50_unfreeze_score)"
      ],
      "execution_count": null,
      "outputs": [
        {
          "output_type": "stream",
          "text": [
            "232/232 [==============================] - 35s 151ms/step - loss: 1.2895 - weighted_weighted_tp: 704.0000 - weighted_weighted_fp: 28950.0000 - weighted_weighted_tn: 0.0000e+00 - weighted_weighted_fn: 0.0000e+00 - weighted_weighted_accuracy: 0.0237 - weighted_weighted_precision: 0.0237 - weighted_weighted_recall: 1.0000 - weighted_weighted_auc: 0.5000\n",
            "Validation  metrics:\n",
            "loss: 1.2895221710205078\n",
            "tp: 704.0\n",
            "fp: 28950.0\n",
            "tn: 0.0\n",
            "fn: 0.0\n",
            "accuracy: 0.02374047413468361\n",
            "precision: 0.02374047413468361\n",
            "recall: 1.0\n",
            "auc: 0.5\n"
          ],
          "name": "stdout"
        }
      ]
    },
    {
      "cell_type": "code",
      "metadata": {
        "id": "SNWA25jzrYCq",
        "colab": {
          "base_uri": "https://localhost:8080/",
          "height": 279
        },
        "outputId": "9ab0e17e-146b-4bf2-9caa-9f6076a7a5a3"
      },
      "source": [
        "plot_loss(resnet50_unfreeze_history, \"resnet50_unfreeze_history\", 1)"
      ],
      "execution_count": null,
      "outputs": [
        {
          "output_type": "display_data",
          "data": {
            "image/png": "[encoded data removed]",
            "text/plain": [
              "<Figure size 432x288 with 1 Axes>"
            ]
          },
          "metadata": {
            "tags": [],
            "needs_background": "light"
          }
        }
      ]
    },
    {
      "cell_type": "markdown",
      "metadata": {
        "id": "R5pbetOYKq76"
      },
      "source": [
        "## Avaliação do modelo no test"
      ]
    },
    {
      "cell_type": "code",
      "metadata": {
        "id": "atXZ0FQUJpZR"
      },
      "source": [
        "# cm = cm_calc(resnet50_full_model, resnet50_test_ds);\n",
        "# balanced_acc = balanced_acc_calc(cm)\n",
        "# plot_cm(cm)"
      ],
      "execution_count": null,
      "outputs": []
    },
    {
      "cell_type": "code",
      "metadata": {
        "id": "e1FrPZOKJptC"
      },
      "source": [
        "# Avalia modelo na validação\n",
        "# resnet50_unfreeze_test_score = resnet50_full_model.evaluate(resnet50_test_ds,verbose=1)\n",
        "\n",
        "# print_score('Test', resnet50_unfreeze_test_score)"
      ],
      "execution_count": null,
      "outputs": []
    },
    {
      "cell_type": "markdown",
      "metadata": {
        "id": "DK8a2zbWatLb"
      },
      "source": [
        "# Tempo de execução"
      ]
    },
    {
      "cell_type": "code",
      "metadata": {
        "id": "bn5DbQWya12Y",
        "colab": {
          "base_uri": "https://localhost:8080/"
        },
        "outputId": "f739acf3-091b-44af-bdfd-1e716a144bd0"
      },
      "source": [
        "execution_time = time.time() - start_time\n",
        "print(\"--- %s seconds ---\" % (execution_time))\n",
        "print(\"--- %s minutes ---\" % (execution_time / 60.0))\n",
        "print(\"--- %s hours ---\" % (execution_time / 3600.0))"
      ],
      "execution_count": null,
      "outputs": [
        {
          "output_type": "stream",
          "text": [
            "--- 6983.026221036911 seconds ---\n",
            "--- 116.38377035061518 minutes ---\n",
            "--- 1.9397295058435864 hours ---\n"
          ],
          "name": "stdout"
        }
      ]
    },
    {
      "cell_type": "markdown",
      "metadata": {
        "id": "BRgXY0JVFoP-"
      },
      "source": [
        "# Salvar o modelo treinado"
      ]
    },
    {
      "cell_type": "code",
      "metadata": {
        "id": "1wF4SW4SFrdf"
      },
      "source": [
        "MODEL_FILE_SUFFIX = \"_model.json\"\n",
        "MODEL_WEIGHTS_FILE_SUFFIX = \"_model_weights.h5\"\n",
        "SAVE_DIR = \"/content/drive/MyDrive/Unicamp/MO434 - Deep Learning/MO434 MC934 - Projeto Final\""
      ],
      "execution_count": null,
      "outputs": []
    },
    {
      "cell_type": "code",
      "metadata": {
        "id": "uqpIPqRjFtZL"
      },
      "source": [
        "def save_model(model, model_name):\n",
        "  \n",
        "  base_filename = SAVE_DIR + \"/\" + model_name\n",
        "\n",
        "  # serialize model to JSON\n",
        "  model_filename = base_filename + MODEL_FILE_SUFFIX\n",
        "  model_json = model.to_json()\n",
        "  with open(model_filename, \"w\") as json_file:\n",
        "      json_file.write(model_json)\n",
        "\n",
        "  # serialize weights to HDF5\n",
        "  weights_filename = base_filename + MODEL_WEIGHTS_FILE_SUFFIX\n",
        "  model.save_weights(weights_filename)"
      ],
      "execution_count": null,
      "outputs": []
    },
    {
      "cell_type": "code",
      "metadata": {
        "id": "T7kv8vkrFt5c"
      },
      "source": [
        "from keras.models import model_from_json\n",
        "\n",
        "def load_trained_model(model_name):\n",
        "  base_filename = SAVE_DIR + \"/\" + model_name\n",
        "\n",
        "  # load json and create model\n",
        "  model_filename = base_filename + MODEL_FILE_SUFFIX\n",
        "  json_file = open(model_filename, 'r')\n",
        "  loaded_model_json = json_file.read()\n",
        "  json_file.close()\n",
        "  loaded_model = model_from_json(loaded_model_json)\n",
        "\n",
        "  # load weights into new model\n",
        "  weights_filename = base_filename + MODEL_WEIGHTS_FILE_SUFFIX\n",
        "  loaded_model.load_weights(weights_filename)\n",
        "  \n",
        "  return loaded_model"
      ],
      "execution_count": null,
      "outputs": []
    },
    {
      "cell_type": "code",
      "metadata": {
        "id": "ky-e9polF1WP"
      },
      "source": [
        "#save model\n",
        "save_model(resnet50_full_model, \"resnet50_tf\")"
      ],
      "execution_count": null,
      "outputs": []
    },
    {
      "cell_type": "markdown",
      "metadata": {
        "id": "RXhB2BiLzbJA"
      },
      "source": [
        "# Carrega o modelo pra uso futuro"
      ]
    },
    {
      "cell_type": "code",
      "metadata": {
        "id": "ije0F0ICzjSS"
      },
      "source": [
        "# loaded_tf_model = load_trained_model(\"resnet50_tf\")"
      ],
      "execution_count": null,
      "outputs": []
    },
    {
      "cell_type": "code",
      "metadata": {
        "id": "h8OmggxnzoF4"
      },
      "source": [
        "# loaded_tf_model.summary()"
      ],
      "execution_count": null,
      "outputs": []
    }
  ]
}